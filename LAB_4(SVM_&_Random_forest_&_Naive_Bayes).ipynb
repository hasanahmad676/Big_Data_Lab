{
  "cells": [
    {
      "cell_type": "markdown",
      "metadata": {
        "id": "view-in-github",
        "colab_type": "text"
      },
      "source": [
        "<a href=\"https://colab.research.google.com/github/hasanahmad676/Big_Data_Lab/blob/main/LAB_4(SVM_%26_Random_forest_%26_Naive_Bayes).ipynb\" target=\"_parent\"><img src=\"https://colab.research.google.com/assets/colab-badge.svg\" alt=\"Open In Colab\"/></a>"
      ]
    },
    {
      "cell_type": "code",
      "execution_count": null,
      "metadata": {
        "id": "padq5q1jfwDQ"
      },
      "outputs": [],
      "source": [
        "import numpy as np\n",
        "import pandas as pd\n",
        "import matplotlib.pyplot as plt"
      ]
    },
    {
      "cell_type": "code",
      "source": [
        "from google.colab import drive\n",
        "drive.mount('/content/drive')"
      ],
      "metadata": {
        "colab": {
          "base_uri": "https://localhost:8080/"
        },
        "id": "To4OM5Nef5Kv",
        "outputId": "527f95cd-af86-4c2c-bdc3-774aedd585a2"
      },
      "execution_count": null,
      "outputs": [
        {
          "output_type": "stream",
          "name": "stdout",
          "text": [
            "Drive already mounted at /content/drive; to attempt to forcibly remount, call drive.mount(\"/content/drive\", force_remount=True).\n"
          ]
        }
      ]
    },
    {
      "cell_type": "code",
      "source": [],
      "metadata": {
        "id": "t0QzNjMRf6Ml"
      },
      "execution_count": null,
      "outputs": []
    },
    {
      "cell_type": "code",
      "execution_count": null,
      "metadata": {
        "id": "Txrry-xXfwDW"
      },
      "outputs": [],
      "source": [
        "df = pd.read_csv('/content/drive/MyDrive/Big Data and Iot lab/Machine-Learning-Practice-Examples-main/credit card.csv')"
      ]
    },
    {
      "cell_type": "code",
      "execution_count": null,
      "metadata": {
        "colab": {
          "base_uri": "https://localhost:8080/",
          "height": 488
        },
        "id": "7nzBWBwHfwDX",
        "outputId": "263ddad3-af32-4f4b-f940-10784a3ca379"
      },
      "outputs": [
        {
          "output_type": "execute_result",
          "data": {
            "text/plain": [
              "          ID  LIMIT_BAL  SEX  EDUCATION  MARRIAGE   AGE  PAY_0  PAY_2  PAY_3  \\\n",
              "0          1    20000.0    2          2         1  24.0      2      2     -1   \n",
              "1          2   120000.0    2          2         2  26.0     -1      2      0   \n",
              "2          3    90000.0    2          2         2   NaN      0      0      0   \n",
              "3          4    50000.0    2          2         1   NaN      0      0      0   \n",
              "4          5    50000.0    1          2         1  57.0     -1      0     -1   \n",
              "...      ...        ...  ...        ...       ...   ...    ...    ...    ...   \n",
              "29995  29996   220000.0    1          3         1  39.0      0      0      0   \n",
              "29996  29997   150000.0    1          3         2  43.0     -1     -1     -1   \n",
              "29997  29998    30000.0    1          2         2  37.0      4      3      2   \n",
              "29998  29999    80000.0    1          3         1  41.0      1     -1      0   \n",
              "29999  30000    50000.0    1          2         1  46.0      0      0      0   \n",
              "\n",
              "       PAY_4  ...  BILL_AMT4  BILL_AMT5  BILL_AMT6  PAY_AMT1  PAY_AMT2  \\\n",
              "0         -1  ...        0.0        0.0        0.0       0.0     689.0   \n",
              "1          0  ...     3272.0     3455.0     3261.0       0.0    1000.0   \n",
              "2          0  ...    14331.0    14948.0    15549.0    1518.0    1500.0   \n",
              "3          0  ...    28314.0    28959.0    29547.0    2000.0    2018.0   \n",
              "4          0  ...    20940.0    19146.0    19131.0    2000.0   36681.0   \n",
              "...      ...  ...        ...        ...        ...       ...       ...   \n",
              "29995      0  ...    88004.0    31237.0    15980.0    8500.0   20000.0   \n",
              "29996     -1  ...     8979.0     5190.0        0.0    1837.0    3526.0   \n",
              "29997     -1  ...    20878.0    20582.0    19357.0       0.0       0.0   \n",
              "29998      0  ...    52774.0    11855.0    48944.0   85900.0    3409.0   \n",
              "29999      0  ...    36535.0    32428.0    15313.0    2078.0    1800.0   \n",
              "\n",
              "       PAY_AMT3  PAY_AMT4  PAY_AMT5  PAY_AMT6  default.payment.next.month  \n",
              "0           0.0       0.0       0.0       0.0                           1  \n",
              "1        1000.0    1000.0       0.0    2000.0                           1  \n",
              "2        1000.0    1000.0    1000.0    5000.0                           0  \n",
              "3        1200.0    1100.0    1069.0    1000.0                           0  \n",
              "4       10000.0    9000.0     689.0     679.0                           0  \n",
              "...         ...       ...       ...       ...                         ...  \n",
              "29995    5003.0    3047.0    5000.0    1000.0                           0  \n",
              "29996    8998.0     129.0       0.0       0.0                           0  \n",
              "29997   22000.0    4200.0    2000.0    3100.0                           1  \n",
              "29998    1178.0    1926.0   52964.0    1804.0                           1  \n",
              "29999    1430.0    1000.0    1000.0    1000.0                           1  \n",
              "\n",
              "[30000 rows x 25 columns]"
            ],
            "text/html": [
              "\n",
              "\n",
              "  <div id=\"df-464db42b-fdcf-419c-8a9d-9498267d4059\">\n",
              "    <div class=\"colab-df-container\">\n",
              "      <div>\n",
              "<style scoped>\n",
              "    .dataframe tbody tr th:only-of-type {\n",
              "        vertical-align: middle;\n",
              "    }\n",
              "\n",
              "    .dataframe tbody tr th {\n",
              "        vertical-align: top;\n",
              "    }\n",
              "\n",
              "    .dataframe thead th {\n",
              "        text-align: right;\n",
              "    }\n",
              "</style>\n",
              "<table border=\"1\" class=\"dataframe\">\n",
              "  <thead>\n",
              "    <tr style=\"text-align: right;\">\n",
              "      <th></th>\n",
              "      <th>ID</th>\n",
              "      <th>LIMIT_BAL</th>\n",
              "      <th>SEX</th>\n",
              "      <th>EDUCATION</th>\n",
              "      <th>MARRIAGE</th>\n",
              "      <th>AGE</th>\n",
              "      <th>PAY_0</th>\n",
              "      <th>PAY_2</th>\n",
              "      <th>PAY_3</th>\n",
              "      <th>PAY_4</th>\n",
              "      <th>...</th>\n",
              "      <th>BILL_AMT4</th>\n",
              "      <th>BILL_AMT5</th>\n",
              "      <th>BILL_AMT6</th>\n",
              "      <th>PAY_AMT1</th>\n",
              "      <th>PAY_AMT2</th>\n",
              "      <th>PAY_AMT3</th>\n",
              "      <th>PAY_AMT4</th>\n",
              "      <th>PAY_AMT5</th>\n",
              "      <th>PAY_AMT6</th>\n",
              "      <th>default.payment.next.month</th>\n",
              "    </tr>\n",
              "  </thead>\n",
              "  <tbody>\n",
              "    <tr>\n",
              "      <th>0</th>\n",
              "      <td>1</td>\n",
              "      <td>20000.0</td>\n",
              "      <td>2</td>\n",
              "      <td>2</td>\n",
              "      <td>1</td>\n",
              "      <td>24.0</td>\n",
              "      <td>2</td>\n",
              "      <td>2</td>\n",
              "      <td>-1</td>\n",
              "      <td>-1</td>\n",
              "      <td>...</td>\n",
              "      <td>0.0</td>\n",
              "      <td>0.0</td>\n",
              "      <td>0.0</td>\n",
              "      <td>0.0</td>\n",
              "      <td>689.0</td>\n",
              "      <td>0.0</td>\n",
              "      <td>0.0</td>\n",
              "      <td>0.0</td>\n",
              "      <td>0.0</td>\n",
              "      <td>1</td>\n",
              "    </tr>\n",
              "    <tr>\n",
              "      <th>1</th>\n",
              "      <td>2</td>\n",
              "      <td>120000.0</td>\n",
              "      <td>2</td>\n",
              "      <td>2</td>\n",
              "      <td>2</td>\n",
              "      <td>26.0</td>\n",
              "      <td>-1</td>\n",
              "      <td>2</td>\n",
              "      <td>0</td>\n",
              "      <td>0</td>\n",
              "      <td>...</td>\n",
              "      <td>3272.0</td>\n",
              "      <td>3455.0</td>\n",
              "      <td>3261.0</td>\n",
              "      <td>0.0</td>\n",
              "      <td>1000.0</td>\n",
              "      <td>1000.0</td>\n",
              "      <td>1000.0</td>\n",
              "      <td>0.0</td>\n",
              "      <td>2000.0</td>\n",
              "      <td>1</td>\n",
              "    </tr>\n",
              "    <tr>\n",
              "      <th>2</th>\n",
              "      <td>3</td>\n",
              "      <td>90000.0</td>\n",
              "      <td>2</td>\n",
              "      <td>2</td>\n",
              "      <td>2</td>\n",
              "      <td>NaN</td>\n",
              "      <td>0</td>\n",
              "      <td>0</td>\n",
              "      <td>0</td>\n",
              "      <td>0</td>\n",
              "      <td>...</td>\n",
              "      <td>14331.0</td>\n",
              "      <td>14948.0</td>\n",
              "      <td>15549.0</td>\n",
              "      <td>1518.0</td>\n",
              "      <td>1500.0</td>\n",
              "      <td>1000.0</td>\n",
              "      <td>1000.0</td>\n",
              "      <td>1000.0</td>\n",
              "      <td>5000.0</td>\n",
              "      <td>0</td>\n",
              "    </tr>\n",
              "    <tr>\n",
              "      <th>3</th>\n",
              "      <td>4</td>\n",
              "      <td>50000.0</td>\n",
              "      <td>2</td>\n",
              "      <td>2</td>\n",
              "      <td>1</td>\n",
              "      <td>NaN</td>\n",
              "      <td>0</td>\n",
              "      <td>0</td>\n",
              "      <td>0</td>\n",
              "      <td>0</td>\n",
              "      <td>...</td>\n",
              "      <td>28314.0</td>\n",
              "      <td>28959.0</td>\n",
              "      <td>29547.0</td>\n",
              "      <td>2000.0</td>\n",
              "      <td>2018.0</td>\n",
              "      <td>1200.0</td>\n",
              "      <td>1100.0</td>\n",
              "      <td>1069.0</td>\n",
              "      <td>1000.0</td>\n",
              "      <td>0</td>\n",
              "    </tr>\n",
              "    <tr>\n",
              "      <th>4</th>\n",
              "      <td>5</td>\n",
              "      <td>50000.0</td>\n",
              "      <td>1</td>\n",
              "      <td>2</td>\n",
              "      <td>1</td>\n",
              "      <td>57.0</td>\n",
              "      <td>-1</td>\n",
              "      <td>0</td>\n",
              "      <td>-1</td>\n",
              "      <td>0</td>\n",
              "      <td>...</td>\n",
              "      <td>20940.0</td>\n",
              "      <td>19146.0</td>\n",
              "      <td>19131.0</td>\n",
              "      <td>2000.0</td>\n",
              "      <td>36681.0</td>\n",
              "      <td>10000.0</td>\n",
              "      <td>9000.0</td>\n",
              "      <td>689.0</td>\n",
              "      <td>679.0</td>\n",
              "      <td>0</td>\n",
              "    </tr>\n",
              "    <tr>\n",
              "      <th>...</th>\n",
              "      <td>...</td>\n",
              "      <td>...</td>\n",
              "      <td>...</td>\n",
              "      <td>...</td>\n",
              "      <td>...</td>\n",
              "      <td>...</td>\n",
              "      <td>...</td>\n",
              "      <td>...</td>\n",
              "      <td>...</td>\n",
              "      <td>...</td>\n",
              "      <td>...</td>\n",
              "      <td>...</td>\n",
              "      <td>...</td>\n",
              "      <td>...</td>\n",
              "      <td>...</td>\n",
              "      <td>...</td>\n",
              "      <td>...</td>\n",
              "      <td>...</td>\n",
              "      <td>...</td>\n",
              "      <td>...</td>\n",
              "      <td>...</td>\n",
              "    </tr>\n",
              "    <tr>\n",
              "      <th>29995</th>\n",
              "      <td>29996</td>\n",
              "      <td>220000.0</td>\n",
              "      <td>1</td>\n",
              "      <td>3</td>\n",
              "      <td>1</td>\n",
              "      <td>39.0</td>\n",
              "      <td>0</td>\n",
              "      <td>0</td>\n",
              "      <td>0</td>\n",
              "      <td>0</td>\n",
              "      <td>...</td>\n",
              "      <td>88004.0</td>\n",
              "      <td>31237.0</td>\n",
              "      <td>15980.0</td>\n",
              "      <td>8500.0</td>\n",
              "      <td>20000.0</td>\n",
              "      <td>5003.0</td>\n",
              "      <td>3047.0</td>\n",
              "      <td>5000.0</td>\n",
              "      <td>1000.0</td>\n",
              "      <td>0</td>\n",
              "    </tr>\n",
              "    <tr>\n",
              "      <th>29996</th>\n",
              "      <td>29997</td>\n",
              "      <td>150000.0</td>\n",
              "      <td>1</td>\n",
              "      <td>3</td>\n",
              "      <td>2</td>\n",
              "      <td>43.0</td>\n",
              "      <td>-1</td>\n",
              "      <td>-1</td>\n",
              "      <td>-1</td>\n",
              "      <td>-1</td>\n",
              "      <td>...</td>\n",
              "      <td>8979.0</td>\n",
              "      <td>5190.0</td>\n",
              "      <td>0.0</td>\n",
              "      <td>1837.0</td>\n",
              "      <td>3526.0</td>\n",
              "      <td>8998.0</td>\n",
              "      <td>129.0</td>\n",
              "      <td>0.0</td>\n",
              "      <td>0.0</td>\n",
              "      <td>0</td>\n",
              "    </tr>\n",
              "    <tr>\n",
              "      <th>29997</th>\n",
              "      <td>29998</td>\n",
              "      <td>30000.0</td>\n",
              "      <td>1</td>\n",
              "      <td>2</td>\n",
              "      <td>2</td>\n",
              "      <td>37.0</td>\n",
              "      <td>4</td>\n",
              "      <td>3</td>\n",
              "      <td>2</td>\n",
              "      <td>-1</td>\n",
              "      <td>...</td>\n",
              "      <td>20878.0</td>\n",
              "      <td>20582.0</td>\n",
              "      <td>19357.0</td>\n",
              "      <td>0.0</td>\n",
              "      <td>0.0</td>\n",
              "      <td>22000.0</td>\n",
              "      <td>4200.0</td>\n",
              "      <td>2000.0</td>\n",
              "      <td>3100.0</td>\n",
              "      <td>1</td>\n",
              "    </tr>\n",
              "    <tr>\n",
              "      <th>29998</th>\n",
              "      <td>29999</td>\n",
              "      <td>80000.0</td>\n",
              "      <td>1</td>\n",
              "      <td>3</td>\n",
              "      <td>1</td>\n",
              "      <td>41.0</td>\n",
              "      <td>1</td>\n",
              "      <td>-1</td>\n",
              "      <td>0</td>\n",
              "      <td>0</td>\n",
              "      <td>...</td>\n",
              "      <td>52774.0</td>\n",
              "      <td>11855.0</td>\n",
              "      <td>48944.0</td>\n",
              "      <td>85900.0</td>\n",
              "      <td>3409.0</td>\n",
              "      <td>1178.0</td>\n",
              "      <td>1926.0</td>\n",
              "      <td>52964.0</td>\n",
              "      <td>1804.0</td>\n",
              "      <td>1</td>\n",
              "    </tr>\n",
              "    <tr>\n",
              "      <th>29999</th>\n",
              "      <td>30000</td>\n",
              "      <td>50000.0</td>\n",
              "      <td>1</td>\n",
              "      <td>2</td>\n",
              "      <td>1</td>\n",
              "      <td>46.0</td>\n",
              "      <td>0</td>\n",
              "      <td>0</td>\n",
              "      <td>0</td>\n",
              "      <td>0</td>\n",
              "      <td>...</td>\n",
              "      <td>36535.0</td>\n",
              "      <td>32428.0</td>\n",
              "      <td>15313.0</td>\n",
              "      <td>2078.0</td>\n",
              "      <td>1800.0</td>\n",
              "      <td>1430.0</td>\n",
              "      <td>1000.0</td>\n",
              "      <td>1000.0</td>\n",
              "      <td>1000.0</td>\n",
              "      <td>1</td>\n",
              "    </tr>\n",
              "  </tbody>\n",
              "</table>\n",
              "<p>30000 rows × 25 columns</p>\n",
              "</div>\n",
              "      <button class=\"colab-df-convert\" onclick=\"convertToInteractive('df-464db42b-fdcf-419c-8a9d-9498267d4059')\"\n",
              "              title=\"Convert this dataframe to an interactive table.\"\n",
              "              style=\"display:none;\">\n",
              "\n",
              "  <svg xmlns=\"http://www.w3.org/2000/svg\" height=\"24px\"viewBox=\"0 0 24 24\"\n",
              "       width=\"24px\">\n",
              "    <path d=\"M0 0h24v24H0V0z\" fill=\"none\"/>\n",
              "    <path d=\"M18.56 5.44l.94 2.06.94-2.06 2.06-.94-2.06-.94-.94-2.06-.94 2.06-2.06.94zm-11 1L8.5 8.5l.94-2.06 2.06-.94-2.06-.94L8.5 2.5l-.94 2.06-2.06.94zm10 10l.94 2.06.94-2.06 2.06-.94-2.06-.94-.94-2.06-.94 2.06-2.06.94z\"/><path d=\"M17.41 7.96l-1.37-1.37c-.4-.4-.92-.59-1.43-.59-.52 0-1.04.2-1.43.59L10.3 9.45l-7.72 7.72c-.78.78-.78 2.05 0 2.83L4 21.41c.39.39.9.59 1.41.59.51 0 1.02-.2 1.41-.59l7.78-7.78 2.81-2.81c.8-.78.8-2.07 0-2.86zM5.41 20L4 18.59l7.72-7.72 1.47 1.35L5.41 20z\"/>\n",
              "  </svg>\n",
              "      </button>\n",
              "\n",
              "\n",
              "\n",
              "    <div id=\"df-809ccbac-3a00-451d-be08-00e2f98d8df3\">\n",
              "      <button class=\"colab-df-quickchart\" onclick=\"quickchart('df-809ccbac-3a00-451d-be08-00e2f98d8df3')\"\n",
              "              title=\"Suggest charts.\"\n",
              "              style=\"display:none;\">\n",
              "\n",
              "<svg xmlns=\"http://www.w3.org/2000/svg\" height=\"24px\"viewBox=\"0 0 24 24\"\n",
              "     width=\"24px\">\n",
              "    <g>\n",
              "        <path d=\"M19 3H5c-1.1 0-2 .9-2 2v14c0 1.1.9 2 2 2h14c1.1 0 2-.9 2-2V5c0-1.1-.9-2-2-2zM9 17H7v-7h2v7zm4 0h-2V7h2v10zm4 0h-2v-4h2v4z\"/>\n",
              "    </g>\n",
              "</svg>\n",
              "      </button>\n",
              "    </div>\n",
              "\n",
              "<style>\n",
              "  .colab-df-quickchart {\n",
              "    background-color: #E8F0FE;\n",
              "    border: none;\n",
              "    border-radius: 50%;\n",
              "    cursor: pointer;\n",
              "    display: none;\n",
              "    fill: #1967D2;\n",
              "    height: 32px;\n",
              "    padding: 0 0 0 0;\n",
              "    width: 32px;\n",
              "  }\n",
              "\n",
              "  .colab-df-quickchart:hover {\n",
              "    background-color: #E2EBFA;\n",
              "    box-shadow: 0px 1px 2px rgba(60, 64, 67, 0.3), 0px 1px 3px 1px rgba(60, 64, 67, 0.15);\n",
              "    fill: #174EA6;\n",
              "  }\n",
              "\n",
              "  [theme=dark] .colab-df-quickchart {\n",
              "    background-color: #3B4455;\n",
              "    fill: #D2E3FC;\n",
              "  }\n",
              "\n",
              "  [theme=dark] .colab-df-quickchart:hover {\n",
              "    background-color: #434B5C;\n",
              "    box-shadow: 0px 1px 3px 1px rgba(0, 0, 0, 0.15);\n",
              "    filter: drop-shadow(0px 1px 2px rgba(0, 0, 0, 0.3));\n",
              "    fill: #FFFFFF;\n",
              "  }\n",
              "</style>\n",
              "\n",
              "    <script>\n",
              "      async function quickchart(key) {\n",
              "        const containerElement = document.querySelector('#' + key);\n",
              "        const charts = await google.colab.kernel.invokeFunction(\n",
              "            'suggestCharts', [key], {});\n",
              "      }\n",
              "    </script>\n",
              "\n",
              "      <script>\n",
              "\n",
              "function displayQuickchartButton(domScope) {\n",
              "  let quickchartButtonEl =\n",
              "    domScope.querySelector('#df-809ccbac-3a00-451d-be08-00e2f98d8df3 button.colab-df-quickchart');\n",
              "  quickchartButtonEl.style.display =\n",
              "    google.colab.kernel.accessAllowed ? 'block' : 'none';\n",
              "}\n",
              "\n",
              "        displayQuickchartButton(document);\n",
              "      </script>\n",
              "      <style>\n",
              "    .colab-df-container {\n",
              "      display:flex;\n",
              "      flex-wrap:wrap;\n",
              "      gap: 12px;\n",
              "    }\n",
              "\n",
              "    .colab-df-convert {\n",
              "      background-color: #E8F0FE;\n",
              "      border: none;\n",
              "      border-radius: 50%;\n",
              "      cursor: pointer;\n",
              "      display: none;\n",
              "      fill: #1967D2;\n",
              "      height: 32px;\n",
              "      padding: 0 0 0 0;\n",
              "      width: 32px;\n",
              "    }\n",
              "\n",
              "    .colab-df-convert:hover {\n",
              "      background-color: #E2EBFA;\n",
              "      box-shadow: 0px 1px 2px rgba(60, 64, 67, 0.3), 0px 1px 3px 1px rgba(60, 64, 67, 0.15);\n",
              "      fill: #174EA6;\n",
              "    }\n",
              "\n",
              "    [theme=dark] .colab-df-convert {\n",
              "      background-color: #3B4455;\n",
              "      fill: #D2E3FC;\n",
              "    }\n",
              "\n",
              "    [theme=dark] .colab-df-convert:hover {\n",
              "      background-color: #434B5C;\n",
              "      box-shadow: 0px 1px 3px 1px rgba(0, 0, 0, 0.15);\n",
              "      filter: drop-shadow(0px 1px 2px rgba(0, 0, 0, 0.3));\n",
              "      fill: #FFFFFF;\n",
              "    }\n",
              "  </style>\n",
              "\n",
              "      <script>\n",
              "        const buttonEl =\n",
              "          document.querySelector('#df-464db42b-fdcf-419c-8a9d-9498267d4059 button.colab-df-convert');\n",
              "        buttonEl.style.display =\n",
              "          google.colab.kernel.accessAllowed ? 'block' : 'none';\n",
              "\n",
              "        async function convertToInteractive(key) {\n",
              "          const element = document.querySelector('#df-464db42b-fdcf-419c-8a9d-9498267d4059');\n",
              "          const dataTable =\n",
              "            await google.colab.kernel.invokeFunction('convertToInteractive',\n",
              "                                                     [key], {});\n",
              "          if (!dataTable) return;\n",
              "\n",
              "          const docLinkHtml = 'Like what you see? Visit the ' +\n",
              "            '<a target=\"_blank\" href=https://colab.research.google.com/notebooks/data_table.ipynb>data table notebook</a>'\n",
              "            + ' to learn more about interactive tables.';\n",
              "          element.innerHTML = '';\n",
              "          dataTable['output_type'] = 'display_data';\n",
              "          await google.colab.output.renderOutput(dataTable, element);\n",
              "          const docLink = document.createElement('div');\n",
              "          docLink.innerHTML = docLinkHtml;\n",
              "          element.appendChild(docLink);\n",
              "        }\n",
              "      </script>\n",
              "    </div>\n",
              "  </div>\n"
            ]
          },
          "metadata": {},
          "execution_count": 8
        }
      ],
      "source": [
        "df"
      ]
    },
    {
      "cell_type": "code",
      "execution_count": null,
      "metadata": {
        "colab": {
          "base_uri": "https://localhost:8080/"
        },
        "id": "gM3EXT3SfwDa",
        "outputId": "13485352-fba1-4573-dc73-14ae3159382a"
      },
      "outputs": [
        {
          "output_type": "execute_result",
          "data": {
            "text/plain": [
              "(30000, 25)"
            ]
          },
          "metadata": {},
          "execution_count": 9
        }
      ],
      "source": [
        "df.shape"
      ]
    },
    {
      "cell_type": "code",
      "execution_count": null,
      "metadata": {
        "colab": {
          "base_uri": "https://localhost:8080/"
        },
        "id": "UVRdH7eufwDb",
        "outputId": "9191ea37-b0b6-4f1b-f9d4-ec9c03186237"
      },
      "outputs": [
        {
          "output_type": "execute_result",
          "data": {
            "text/plain": [
              "ID                            0\n",
              "LIMIT_BAL                     0\n",
              "SEX                           0\n",
              "EDUCATION                     0\n",
              "MARRIAGE                      0\n",
              "AGE                           2\n",
              "PAY_0                         0\n",
              "PAY_2                         0\n",
              "PAY_3                         0\n",
              "PAY_4                         0\n",
              "PAY_5                         0\n",
              "PAY_6                         0\n",
              "BILL_AMT1                     0\n",
              "BILL_AMT2                     0\n",
              "BILL_AMT3                     0\n",
              "BILL_AMT4                     0\n",
              "BILL_AMT5                     0\n",
              "BILL_AMT6                     0\n",
              "PAY_AMT1                      0\n",
              "PAY_AMT2                      0\n",
              "PAY_AMT3                      0\n",
              "PAY_AMT4                      0\n",
              "PAY_AMT5                      0\n",
              "PAY_AMT6                      0\n",
              "default.payment.next.month    0\n",
              "dtype: int64"
            ]
          },
          "metadata": {},
          "execution_count": 10
        }
      ],
      "source": [
        "df.isnull().sum()"
      ]
    },
    {
      "cell_type": "code",
      "execution_count": null,
      "metadata": {
        "id": "fhbqiDJXfwDe"
      },
      "outputs": [],
      "source": [
        "fill= df['AGE'].median()"
      ]
    },
    {
      "cell_type": "code",
      "execution_count": null,
      "metadata": {
        "id": "a2ihNW6NfwDf"
      },
      "outputs": [],
      "source": [
        "df.AGE = df.AGE.fillna(fill)"
      ]
    },
    {
      "cell_type": "code",
      "execution_count": null,
      "metadata": {
        "colab": {
          "base_uri": "https://localhost:8080/"
        },
        "id": "SToSRHd-fwDg",
        "outputId": "39b84bca-b1a8-4e74-d55e-ea190c5fd73f"
      },
      "outputs": [
        {
          "output_type": "execute_result",
          "data": {
            "text/plain": [
              "0        24.0\n",
              "1        26.0\n",
              "2        34.0\n",
              "3        34.0\n",
              "4        57.0\n",
              "         ... \n",
              "29995    39.0\n",
              "29996    43.0\n",
              "29997    37.0\n",
              "29998    41.0\n",
              "29999    46.0\n",
              "Name: AGE, Length: 30000, dtype: float64"
            ]
          },
          "metadata": {},
          "execution_count": 13
        }
      ],
      "source": [
        "df.AGE"
      ]
    },
    {
      "cell_type": "code",
      "execution_count": null,
      "metadata": {
        "id": "OHq7MoTtfwDh"
      },
      "outputs": [],
      "source": [
        "X = df.drop(['default.payment.next.month'],axis=1)"
      ]
    },
    {
      "cell_type": "code",
      "execution_count": null,
      "metadata": {
        "colab": {
          "base_uri": "https://localhost:8080/",
          "height": 488
        },
        "id": "skKLFNSQfwDi",
        "outputId": "c78beb92-2557-4ece-d4ba-69aeada876a7"
      },
      "outputs": [
        {
          "output_type": "execute_result",
          "data": {
            "text/plain": [
              "          ID  LIMIT_BAL  SEX  EDUCATION  MARRIAGE   AGE  PAY_0  PAY_2  PAY_3  \\\n",
              "0          1    20000.0    2          2         1  24.0      2      2     -1   \n",
              "1          2   120000.0    2          2         2  26.0     -1      2      0   \n",
              "2          3    90000.0    2          2         2  34.0      0      0      0   \n",
              "3          4    50000.0    2          2         1  34.0      0      0      0   \n",
              "4          5    50000.0    1          2         1  57.0     -1      0     -1   \n",
              "...      ...        ...  ...        ...       ...   ...    ...    ...    ...   \n",
              "29995  29996   220000.0    1          3         1  39.0      0      0      0   \n",
              "29996  29997   150000.0    1          3         2  43.0     -1     -1     -1   \n",
              "29997  29998    30000.0    1          2         2  37.0      4      3      2   \n",
              "29998  29999    80000.0    1          3         1  41.0      1     -1      0   \n",
              "29999  30000    50000.0    1          2         1  46.0      0      0      0   \n",
              "\n",
              "       PAY_4  ...  BILL_AMT3  BILL_AMT4  BILL_AMT5  BILL_AMT6  PAY_AMT1  \\\n",
              "0         -1  ...      689.0        0.0        0.0        0.0       0.0   \n",
              "1          0  ...     2682.0     3272.0     3455.0     3261.0       0.0   \n",
              "2          0  ...    13559.0    14331.0    14948.0    15549.0    1518.0   \n",
              "3          0  ...    49291.0    28314.0    28959.0    29547.0    2000.0   \n",
              "4          0  ...    35835.0    20940.0    19146.0    19131.0    2000.0   \n",
              "...      ...  ...        ...        ...        ...        ...       ...   \n",
              "29995      0  ...   208365.0    88004.0    31237.0    15980.0    8500.0   \n",
              "29996     -1  ...     3502.0     8979.0     5190.0        0.0    1837.0   \n",
              "29997     -1  ...     2758.0    20878.0    20582.0    19357.0       0.0   \n",
              "29998      0  ...    76304.0    52774.0    11855.0    48944.0   85900.0   \n",
              "29999      0  ...    49764.0    36535.0    32428.0    15313.0    2078.0   \n",
              "\n",
              "       PAY_AMT2  PAY_AMT3  PAY_AMT4  PAY_AMT5  PAY_AMT6  \n",
              "0         689.0       0.0       0.0       0.0       0.0  \n",
              "1        1000.0    1000.0    1000.0       0.0    2000.0  \n",
              "2        1500.0    1000.0    1000.0    1000.0    5000.0  \n",
              "3        2018.0    1200.0    1100.0    1069.0    1000.0  \n",
              "4       36681.0   10000.0    9000.0     689.0     679.0  \n",
              "...         ...       ...       ...       ...       ...  \n",
              "29995   20000.0    5003.0    3047.0    5000.0    1000.0  \n",
              "29996    3526.0    8998.0     129.0       0.0       0.0  \n",
              "29997       0.0   22000.0    4200.0    2000.0    3100.0  \n",
              "29998    3409.0    1178.0    1926.0   52964.0    1804.0  \n",
              "29999    1800.0    1430.0    1000.0    1000.0    1000.0  \n",
              "\n",
              "[30000 rows x 24 columns]"
            ],
            "text/html": [
              "\n",
              "\n",
              "  <div id=\"df-c23cabe6-900e-44d1-9046-cdc2317ea1fd\">\n",
              "    <div class=\"colab-df-container\">\n",
              "      <div>\n",
              "<style scoped>\n",
              "    .dataframe tbody tr th:only-of-type {\n",
              "        vertical-align: middle;\n",
              "    }\n",
              "\n",
              "    .dataframe tbody tr th {\n",
              "        vertical-align: top;\n",
              "    }\n",
              "\n",
              "    .dataframe thead th {\n",
              "        text-align: right;\n",
              "    }\n",
              "</style>\n",
              "<table border=\"1\" class=\"dataframe\">\n",
              "  <thead>\n",
              "    <tr style=\"text-align: right;\">\n",
              "      <th></th>\n",
              "      <th>ID</th>\n",
              "      <th>LIMIT_BAL</th>\n",
              "      <th>SEX</th>\n",
              "      <th>EDUCATION</th>\n",
              "      <th>MARRIAGE</th>\n",
              "      <th>AGE</th>\n",
              "      <th>PAY_0</th>\n",
              "      <th>PAY_2</th>\n",
              "      <th>PAY_3</th>\n",
              "      <th>PAY_4</th>\n",
              "      <th>...</th>\n",
              "      <th>BILL_AMT3</th>\n",
              "      <th>BILL_AMT4</th>\n",
              "      <th>BILL_AMT5</th>\n",
              "      <th>BILL_AMT6</th>\n",
              "      <th>PAY_AMT1</th>\n",
              "      <th>PAY_AMT2</th>\n",
              "      <th>PAY_AMT3</th>\n",
              "      <th>PAY_AMT4</th>\n",
              "      <th>PAY_AMT5</th>\n",
              "      <th>PAY_AMT6</th>\n",
              "    </tr>\n",
              "  </thead>\n",
              "  <tbody>\n",
              "    <tr>\n",
              "      <th>0</th>\n",
              "      <td>1</td>\n",
              "      <td>20000.0</td>\n",
              "      <td>2</td>\n",
              "      <td>2</td>\n",
              "      <td>1</td>\n",
              "      <td>24.0</td>\n",
              "      <td>2</td>\n",
              "      <td>2</td>\n",
              "      <td>-1</td>\n",
              "      <td>-1</td>\n",
              "      <td>...</td>\n",
              "      <td>689.0</td>\n",
              "      <td>0.0</td>\n",
              "      <td>0.0</td>\n",
              "      <td>0.0</td>\n",
              "      <td>0.0</td>\n",
              "      <td>689.0</td>\n",
              "      <td>0.0</td>\n",
              "      <td>0.0</td>\n",
              "      <td>0.0</td>\n",
              "      <td>0.0</td>\n",
              "    </tr>\n",
              "    <tr>\n",
              "      <th>1</th>\n",
              "      <td>2</td>\n",
              "      <td>120000.0</td>\n",
              "      <td>2</td>\n",
              "      <td>2</td>\n",
              "      <td>2</td>\n",
              "      <td>26.0</td>\n",
              "      <td>-1</td>\n",
              "      <td>2</td>\n",
              "      <td>0</td>\n",
              "      <td>0</td>\n",
              "      <td>...</td>\n",
              "      <td>2682.0</td>\n",
              "      <td>3272.0</td>\n",
              "      <td>3455.0</td>\n",
              "      <td>3261.0</td>\n",
              "      <td>0.0</td>\n",
              "      <td>1000.0</td>\n",
              "      <td>1000.0</td>\n",
              "      <td>1000.0</td>\n",
              "      <td>0.0</td>\n",
              "      <td>2000.0</td>\n",
              "    </tr>\n",
              "    <tr>\n",
              "      <th>2</th>\n",
              "      <td>3</td>\n",
              "      <td>90000.0</td>\n",
              "      <td>2</td>\n",
              "      <td>2</td>\n",
              "      <td>2</td>\n",
              "      <td>34.0</td>\n",
              "      <td>0</td>\n",
              "      <td>0</td>\n",
              "      <td>0</td>\n",
              "      <td>0</td>\n",
              "      <td>...</td>\n",
              "      <td>13559.0</td>\n",
              "      <td>14331.0</td>\n",
              "      <td>14948.0</td>\n",
              "      <td>15549.0</td>\n",
              "      <td>1518.0</td>\n",
              "      <td>1500.0</td>\n",
              "      <td>1000.0</td>\n",
              "      <td>1000.0</td>\n",
              "      <td>1000.0</td>\n",
              "      <td>5000.0</td>\n",
              "    </tr>\n",
              "    <tr>\n",
              "      <th>3</th>\n",
              "      <td>4</td>\n",
              "      <td>50000.0</td>\n",
              "      <td>2</td>\n",
              "      <td>2</td>\n",
              "      <td>1</td>\n",
              "      <td>34.0</td>\n",
              "      <td>0</td>\n",
              "      <td>0</td>\n",
              "      <td>0</td>\n",
              "      <td>0</td>\n",
              "      <td>...</td>\n",
              "      <td>49291.0</td>\n",
              "      <td>28314.0</td>\n",
              "      <td>28959.0</td>\n",
              "      <td>29547.0</td>\n",
              "      <td>2000.0</td>\n",
              "      <td>2018.0</td>\n",
              "      <td>1200.0</td>\n",
              "      <td>1100.0</td>\n",
              "      <td>1069.0</td>\n",
              "      <td>1000.0</td>\n",
              "    </tr>\n",
              "    <tr>\n",
              "      <th>4</th>\n",
              "      <td>5</td>\n",
              "      <td>50000.0</td>\n",
              "      <td>1</td>\n",
              "      <td>2</td>\n",
              "      <td>1</td>\n",
              "      <td>57.0</td>\n",
              "      <td>-1</td>\n",
              "      <td>0</td>\n",
              "      <td>-1</td>\n",
              "      <td>0</td>\n",
              "      <td>...</td>\n",
              "      <td>35835.0</td>\n",
              "      <td>20940.0</td>\n",
              "      <td>19146.0</td>\n",
              "      <td>19131.0</td>\n",
              "      <td>2000.0</td>\n",
              "      <td>36681.0</td>\n",
              "      <td>10000.0</td>\n",
              "      <td>9000.0</td>\n",
              "      <td>689.0</td>\n",
              "      <td>679.0</td>\n",
              "    </tr>\n",
              "    <tr>\n",
              "      <th>...</th>\n",
              "      <td>...</td>\n",
              "      <td>...</td>\n",
              "      <td>...</td>\n",
              "      <td>...</td>\n",
              "      <td>...</td>\n",
              "      <td>...</td>\n",
              "      <td>...</td>\n",
              "      <td>...</td>\n",
              "      <td>...</td>\n",
              "      <td>...</td>\n",
              "      <td>...</td>\n",
              "      <td>...</td>\n",
              "      <td>...</td>\n",
              "      <td>...</td>\n",
              "      <td>...</td>\n",
              "      <td>...</td>\n",
              "      <td>...</td>\n",
              "      <td>...</td>\n",
              "      <td>...</td>\n",
              "      <td>...</td>\n",
              "      <td>...</td>\n",
              "    </tr>\n",
              "    <tr>\n",
              "      <th>29995</th>\n",
              "      <td>29996</td>\n",
              "      <td>220000.0</td>\n",
              "      <td>1</td>\n",
              "      <td>3</td>\n",
              "      <td>1</td>\n",
              "      <td>39.0</td>\n",
              "      <td>0</td>\n",
              "      <td>0</td>\n",
              "      <td>0</td>\n",
              "      <td>0</td>\n",
              "      <td>...</td>\n",
              "      <td>208365.0</td>\n",
              "      <td>88004.0</td>\n",
              "      <td>31237.0</td>\n",
              "      <td>15980.0</td>\n",
              "      <td>8500.0</td>\n",
              "      <td>20000.0</td>\n",
              "      <td>5003.0</td>\n",
              "      <td>3047.0</td>\n",
              "      <td>5000.0</td>\n",
              "      <td>1000.0</td>\n",
              "    </tr>\n",
              "    <tr>\n",
              "      <th>29996</th>\n",
              "      <td>29997</td>\n",
              "      <td>150000.0</td>\n",
              "      <td>1</td>\n",
              "      <td>3</td>\n",
              "      <td>2</td>\n",
              "      <td>43.0</td>\n",
              "      <td>-1</td>\n",
              "      <td>-1</td>\n",
              "      <td>-1</td>\n",
              "      <td>-1</td>\n",
              "      <td>...</td>\n",
              "      <td>3502.0</td>\n",
              "      <td>8979.0</td>\n",
              "      <td>5190.0</td>\n",
              "      <td>0.0</td>\n",
              "      <td>1837.0</td>\n",
              "      <td>3526.0</td>\n",
              "      <td>8998.0</td>\n",
              "      <td>129.0</td>\n",
              "      <td>0.0</td>\n",
              "      <td>0.0</td>\n",
              "    </tr>\n",
              "    <tr>\n",
              "      <th>29997</th>\n",
              "      <td>29998</td>\n",
              "      <td>30000.0</td>\n",
              "      <td>1</td>\n",
              "      <td>2</td>\n",
              "      <td>2</td>\n",
              "      <td>37.0</td>\n",
              "      <td>4</td>\n",
              "      <td>3</td>\n",
              "      <td>2</td>\n",
              "      <td>-1</td>\n",
              "      <td>...</td>\n",
              "      <td>2758.0</td>\n",
              "      <td>20878.0</td>\n",
              "      <td>20582.0</td>\n",
              "      <td>19357.0</td>\n",
              "      <td>0.0</td>\n",
              "      <td>0.0</td>\n",
              "      <td>22000.0</td>\n",
              "      <td>4200.0</td>\n",
              "      <td>2000.0</td>\n",
              "      <td>3100.0</td>\n",
              "    </tr>\n",
              "    <tr>\n",
              "      <th>29998</th>\n",
              "      <td>29999</td>\n",
              "      <td>80000.0</td>\n",
              "      <td>1</td>\n",
              "      <td>3</td>\n",
              "      <td>1</td>\n",
              "      <td>41.0</td>\n",
              "      <td>1</td>\n",
              "      <td>-1</td>\n",
              "      <td>0</td>\n",
              "      <td>0</td>\n",
              "      <td>...</td>\n",
              "      <td>76304.0</td>\n",
              "      <td>52774.0</td>\n",
              "      <td>11855.0</td>\n",
              "      <td>48944.0</td>\n",
              "      <td>85900.0</td>\n",
              "      <td>3409.0</td>\n",
              "      <td>1178.0</td>\n",
              "      <td>1926.0</td>\n",
              "      <td>52964.0</td>\n",
              "      <td>1804.0</td>\n",
              "    </tr>\n",
              "    <tr>\n",
              "      <th>29999</th>\n",
              "      <td>30000</td>\n",
              "      <td>50000.0</td>\n",
              "      <td>1</td>\n",
              "      <td>2</td>\n",
              "      <td>1</td>\n",
              "      <td>46.0</td>\n",
              "      <td>0</td>\n",
              "      <td>0</td>\n",
              "      <td>0</td>\n",
              "      <td>0</td>\n",
              "      <td>...</td>\n",
              "      <td>49764.0</td>\n",
              "      <td>36535.0</td>\n",
              "      <td>32428.0</td>\n",
              "      <td>15313.0</td>\n",
              "      <td>2078.0</td>\n",
              "      <td>1800.0</td>\n",
              "      <td>1430.0</td>\n",
              "      <td>1000.0</td>\n",
              "      <td>1000.0</td>\n",
              "      <td>1000.0</td>\n",
              "    </tr>\n",
              "  </tbody>\n",
              "</table>\n",
              "<p>30000 rows × 24 columns</p>\n",
              "</div>\n",
              "      <button class=\"colab-df-convert\" onclick=\"convertToInteractive('df-c23cabe6-900e-44d1-9046-cdc2317ea1fd')\"\n",
              "              title=\"Convert this dataframe to an interactive table.\"\n",
              "              style=\"display:none;\">\n",
              "\n",
              "  <svg xmlns=\"http://www.w3.org/2000/svg\" height=\"24px\"viewBox=\"0 0 24 24\"\n",
              "       width=\"24px\">\n",
              "    <path d=\"M0 0h24v24H0V0z\" fill=\"none\"/>\n",
              "    <path d=\"M18.56 5.44l.94 2.06.94-2.06 2.06-.94-2.06-.94-.94-2.06-.94 2.06-2.06.94zm-11 1L8.5 8.5l.94-2.06 2.06-.94-2.06-.94L8.5 2.5l-.94 2.06-2.06.94zm10 10l.94 2.06.94-2.06 2.06-.94-2.06-.94-.94-2.06-.94 2.06-2.06.94z\"/><path d=\"M17.41 7.96l-1.37-1.37c-.4-.4-.92-.59-1.43-.59-.52 0-1.04.2-1.43.59L10.3 9.45l-7.72 7.72c-.78.78-.78 2.05 0 2.83L4 21.41c.39.39.9.59 1.41.59.51 0 1.02-.2 1.41-.59l7.78-7.78 2.81-2.81c.8-.78.8-2.07 0-2.86zM5.41 20L4 18.59l7.72-7.72 1.47 1.35L5.41 20z\"/>\n",
              "  </svg>\n",
              "      </button>\n",
              "\n",
              "\n",
              "\n",
              "    <div id=\"df-81c472a8-5a3c-49ac-8aea-2eb26c7e78d0\">\n",
              "      <button class=\"colab-df-quickchart\" onclick=\"quickchart('df-81c472a8-5a3c-49ac-8aea-2eb26c7e78d0')\"\n",
              "              title=\"Suggest charts.\"\n",
              "              style=\"display:none;\">\n",
              "\n",
              "<svg xmlns=\"http://www.w3.org/2000/svg\" height=\"24px\"viewBox=\"0 0 24 24\"\n",
              "     width=\"24px\">\n",
              "    <g>\n",
              "        <path d=\"M19 3H5c-1.1 0-2 .9-2 2v14c0 1.1.9 2 2 2h14c1.1 0 2-.9 2-2V5c0-1.1-.9-2-2-2zM9 17H7v-7h2v7zm4 0h-2V7h2v10zm4 0h-2v-4h2v4z\"/>\n",
              "    </g>\n",
              "</svg>\n",
              "      </button>\n",
              "    </div>\n",
              "\n",
              "<style>\n",
              "  .colab-df-quickchart {\n",
              "    background-color: #E8F0FE;\n",
              "    border: none;\n",
              "    border-radius: 50%;\n",
              "    cursor: pointer;\n",
              "    display: none;\n",
              "    fill: #1967D2;\n",
              "    height: 32px;\n",
              "    padding: 0 0 0 0;\n",
              "    width: 32px;\n",
              "  }\n",
              "\n",
              "  .colab-df-quickchart:hover {\n",
              "    background-color: #E2EBFA;\n",
              "    box-shadow: 0px 1px 2px rgba(60, 64, 67, 0.3), 0px 1px 3px 1px rgba(60, 64, 67, 0.15);\n",
              "    fill: #174EA6;\n",
              "  }\n",
              "\n",
              "  [theme=dark] .colab-df-quickchart {\n",
              "    background-color: #3B4455;\n",
              "    fill: #D2E3FC;\n",
              "  }\n",
              "\n",
              "  [theme=dark] .colab-df-quickchart:hover {\n",
              "    background-color: #434B5C;\n",
              "    box-shadow: 0px 1px 3px 1px rgba(0, 0, 0, 0.15);\n",
              "    filter: drop-shadow(0px 1px 2px rgba(0, 0, 0, 0.3));\n",
              "    fill: #FFFFFF;\n",
              "  }\n",
              "</style>\n",
              "\n",
              "    <script>\n",
              "      async function quickchart(key) {\n",
              "        const containerElement = document.querySelector('#' + key);\n",
              "        const charts = await google.colab.kernel.invokeFunction(\n",
              "            'suggestCharts', [key], {});\n",
              "      }\n",
              "    </script>\n",
              "\n",
              "      <script>\n",
              "\n",
              "function displayQuickchartButton(domScope) {\n",
              "  let quickchartButtonEl =\n",
              "    domScope.querySelector('#df-81c472a8-5a3c-49ac-8aea-2eb26c7e78d0 button.colab-df-quickchart');\n",
              "  quickchartButtonEl.style.display =\n",
              "    google.colab.kernel.accessAllowed ? 'block' : 'none';\n",
              "}\n",
              "\n",
              "        displayQuickchartButton(document);\n",
              "      </script>\n",
              "      <style>\n",
              "    .colab-df-container {\n",
              "      display:flex;\n",
              "      flex-wrap:wrap;\n",
              "      gap: 12px;\n",
              "    }\n",
              "\n",
              "    .colab-df-convert {\n",
              "      background-color: #E8F0FE;\n",
              "      border: none;\n",
              "      border-radius: 50%;\n",
              "      cursor: pointer;\n",
              "      display: none;\n",
              "      fill: #1967D2;\n",
              "      height: 32px;\n",
              "      padding: 0 0 0 0;\n",
              "      width: 32px;\n",
              "    }\n",
              "\n",
              "    .colab-df-convert:hover {\n",
              "      background-color: #E2EBFA;\n",
              "      box-shadow: 0px 1px 2px rgba(60, 64, 67, 0.3), 0px 1px 3px 1px rgba(60, 64, 67, 0.15);\n",
              "      fill: #174EA6;\n",
              "    }\n",
              "\n",
              "    [theme=dark] .colab-df-convert {\n",
              "      background-color: #3B4455;\n",
              "      fill: #D2E3FC;\n",
              "    }\n",
              "\n",
              "    [theme=dark] .colab-df-convert:hover {\n",
              "      background-color: #434B5C;\n",
              "      box-shadow: 0px 1px 3px 1px rgba(0, 0, 0, 0.15);\n",
              "      filter: drop-shadow(0px 1px 2px rgba(0, 0, 0, 0.3));\n",
              "      fill: #FFFFFF;\n",
              "    }\n",
              "  </style>\n",
              "\n",
              "      <script>\n",
              "        const buttonEl =\n",
              "          document.querySelector('#df-c23cabe6-900e-44d1-9046-cdc2317ea1fd button.colab-df-convert');\n",
              "        buttonEl.style.display =\n",
              "          google.colab.kernel.accessAllowed ? 'block' : 'none';\n",
              "\n",
              "        async function convertToInteractive(key) {\n",
              "          const element = document.querySelector('#df-c23cabe6-900e-44d1-9046-cdc2317ea1fd');\n",
              "          const dataTable =\n",
              "            await google.colab.kernel.invokeFunction('convertToInteractive',\n",
              "                                                     [key], {});\n",
              "          if (!dataTable) return;\n",
              "\n",
              "          const docLinkHtml = 'Like what you see? Visit the ' +\n",
              "            '<a target=\"_blank\" href=https://colab.research.google.com/notebooks/data_table.ipynb>data table notebook</a>'\n",
              "            + ' to learn more about interactive tables.';\n",
              "          element.innerHTML = '';\n",
              "          dataTable['output_type'] = 'display_data';\n",
              "          await google.colab.output.renderOutput(dataTable, element);\n",
              "          const docLink = document.createElement('div');\n",
              "          docLink.innerHTML = docLinkHtml;\n",
              "          element.appendChild(docLink);\n",
              "        }\n",
              "      </script>\n",
              "    </div>\n",
              "  </div>\n"
            ]
          },
          "metadata": {},
          "execution_count": 15
        }
      ],
      "source": [
        "X"
      ]
    },
    {
      "cell_type": "code",
      "execution_count": null,
      "metadata": {
        "id": "-2SVzEHXfwDj"
      },
      "outputs": [],
      "source": [
        "y= df['default.payment.next.month']"
      ]
    },
    {
      "cell_type": "code",
      "execution_count": null,
      "metadata": {
        "colab": {
          "base_uri": "https://localhost:8080/"
        },
        "id": "pZm8b65RfwDk",
        "outputId": "0e405691-17d8-485b-e9fa-56f24d48291b"
      },
      "outputs": [
        {
          "output_type": "execute_result",
          "data": {
            "text/plain": [
              "0        1\n",
              "1        1\n",
              "2        0\n",
              "3        0\n",
              "4        0\n",
              "        ..\n",
              "29995    0\n",
              "29996    0\n",
              "29997    1\n",
              "29998    1\n",
              "29999    1\n",
              "Name: default.payment.next.month, Length: 30000, dtype: int64"
            ]
          },
          "metadata": {},
          "execution_count": 17
        }
      ],
      "source": [
        "y"
      ]
    },
    {
      "cell_type": "code",
      "execution_count": null,
      "metadata": {
        "id": "_Z2ZlWL1fwDk"
      },
      "outputs": [],
      "source": [
        "#Dataset splitting\n",
        "from sklearn.model_selection import train_test_split\n",
        "X_train,X_test,y_train,y_test=train_test_split(X,y,test_size=.30,random_state=1)"
      ]
    },
    {
      "cell_type": "code",
      "execution_count": null,
      "metadata": {
        "colab": {
          "base_uri": "https://localhost:8080/",
          "height": 75
        },
        "id": "Z4pW5tEvfwDl",
        "outputId": "6f3f19d5-dce5-4c9b-8650-fb3304be98bb"
      },
      "outputs": [
        {
          "output_type": "execute_result",
          "data": {
            "text/plain": [
              "SVC(gamma='auto')"
            ],
            "text/html": [
              "<style>#sk-container-id-1 {color: black;background-color: white;}#sk-container-id-1 pre{padding: 0;}#sk-container-id-1 div.sk-toggleable {background-color: white;}#sk-container-id-1 label.sk-toggleable__label {cursor: pointer;display: block;width: 100%;margin-bottom: 0;padding: 0.3em;box-sizing: border-box;text-align: center;}#sk-container-id-1 label.sk-toggleable__label-arrow:before {content: \"▸\";float: left;margin-right: 0.25em;color: #696969;}#sk-container-id-1 label.sk-toggleable__label-arrow:hover:before {color: black;}#sk-container-id-1 div.sk-estimator:hover label.sk-toggleable__label-arrow:before {color: black;}#sk-container-id-1 div.sk-toggleable__content {max-height: 0;max-width: 0;overflow: hidden;text-align: left;background-color: #f0f8ff;}#sk-container-id-1 div.sk-toggleable__content pre {margin: 0.2em;color: black;border-radius: 0.25em;background-color: #f0f8ff;}#sk-container-id-1 input.sk-toggleable__control:checked~div.sk-toggleable__content {max-height: 200px;max-width: 100%;overflow: auto;}#sk-container-id-1 input.sk-toggleable__control:checked~label.sk-toggleable__label-arrow:before {content: \"▾\";}#sk-container-id-1 div.sk-estimator input.sk-toggleable__control:checked~label.sk-toggleable__label {background-color: #d4ebff;}#sk-container-id-1 div.sk-label input.sk-toggleable__control:checked~label.sk-toggleable__label {background-color: #d4ebff;}#sk-container-id-1 input.sk-hidden--visually {border: 0;clip: rect(1px 1px 1px 1px);clip: rect(1px, 1px, 1px, 1px);height: 1px;margin: -1px;overflow: hidden;padding: 0;position: absolute;width: 1px;}#sk-container-id-1 div.sk-estimator {font-family: monospace;background-color: #f0f8ff;border: 1px dotted black;border-radius: 0.25em;box-sizing: border-box;margin-bottom: 0.5em;}#sk-container-id-1 div.sk-estimator:hover {background-color: #d4ebff;}#sk-container-id-1 div.sk-parallel-item::after {content: \"\";width: 100%;border-bottom: 1px solid gray;flex-grow: 1;}#sk-container-id-1 div.sk-label:hover label.sk-toggleable__label {background-color: #d4ebff;}#sk-container-id-1 div.sk-serial::before {content: \"\";position: absolute;border-left: 1px solid gray;box-sizing: border-box;top: 0;bottom: 0;left: 50%;z-index: 0;}#sk-container-id-1 div.sk-serial {display: flex;flex-direction: column;align-items: center;background-color: white;padding-right: 0.2em;padding-left: 0.2em;position: relative;}#sk-container-id-1 div.sk-item {position: relative;z-index: 1;}#sk-container-id-1 div.sk-parallel {display: flex;align-items: stretch;justify-content: center;background-color: white;position: relative;}#sk-container-id-1 div.sk-item::before, #sk-container-id-1 div.sk-parallel-item::before {content: \"\";position: absolute;border-left: 1px solid gray;box-sizing: border-box;top: 0;bottom: 0;left: 50%;z-index: -1;}#sk-container-id-1 div.sk-parallel-item {display: flex;flex-direction: column;z-index: 1;position: relative;background-color: white;}#sk-container-id-1 div.sk-parallel-item:first-child::after {align-self: flex-end;width: 50%;}#sk-container-id-1 div.sk-parallel-item:last-child::after {align-self: flex-start;width: 50%;}#sk-container-id-1 div.sk-parallel-item:only-child::after {width: 0;}#sk-container-id-1 div.sk-dashed-wrapped {border: 1px dashed gray;margin: 0 0.4em 0.5em 0.4em;box-sizing: border-box;padding-bottom: 0.4em;background-color: white;}#sk-container-id-1 div.sk-label label {font-family: monospace;font-weight: bold;display: inline-block;line-height: 1.2em;}#sk-container-id-1 div.sk-label-container {text-align: center;}#sk-container-id-1 div.sk-container {/* jupyter's `normalize.less` sets `[hidden] { display: none; }` but bootstrap.min.css set `[hidden] { display: none !important; }` so we also need the `!important` here to be able to override the default hidden behavior on the sphinx rendered scikit-learn.org. See: https://github.com/scikit-learn/scikit-learn/issues/21755 */display: inline-block !important;position: relative;}#sk-container-id-1 div.sk-text-repr-fallback {display: none;}</style><div id=\"sk-container-id-1\" class=\"sk-top-container\"><div class=\"sk-text-repr-fallback\"><pre>SVC(gamma=&#x27;auto&#x27;)</pre><b>In a Jupyter environment, please rerun this cell to show the HTML representation or trust the notebook. <br />On GitHub, the HTML representation is unable to render, please try loading this page with nbviewer.org.</b></div><div class=\"sk-container\" hidden><div class=\"sk-item\"><div class=\"sk-estimator sk-toggleable\"><input class=\"sk-toggleable__control sk-hidden--visually\" id=\"sk-estimator-id-1\" type=\"checkbox\" checked><label for=\"sk-estimator-id-1\" class=\"sk-toggleable__label sk-toggleable__label-arrow\">SVC</label><div class=\"sk-toggleable__content\"><pre>SVC(gamma=&#x27;auto&#x27;)</pre></div></div></div></div></div>"
            ]
          },
          "metadata": {},
          "execution_count": 19
        }
      ],
      "source": [
        "#Train Model\n",
        "import seaborn\n",
        "from sklearn.svm import SVC\n",
        "r=SVC(gamma='auto')\n",
        "r.fit(X_train, y_train)"
      ]
    },
    {
      "cell_type": "code",
      "execution_count": null,
      "metadata": {
        "id": "BNRLOIYNfwDm"
      },
      "outputs": [],
      "source": [
        "#predict\n",
        "pred1= r.predict(X_test)"
      ]
    },
    {
      "cell_type": "code",
      "execution_count": null,
      "metadata": {
        "colab": {
          "base_uri": "https://localhost:8080/"
        },
        "id": "iSUgpX-KfwDn",
        "outputId": "5ba353e6-2a67-4c7b-8bbc-3ccffac564db"
      },
      "outputs": [
        {
          "output_type": "execute_result",
          "data": {
            "text/plain": [
              "0.7777777777777778"
            ]
          },
          "metadata": {},
          "execution_count": 21
        }
      ],
      "source": [
        "r.score(X_test,y_test)"
      ]
    },
    {
      "cell_type": "code",
      "execution_count": null,
      "metadata": {
        "colab": {
          "base_uri": "https://localhost:8080/"
        },
        "id": "iAlHu6A7fwDn",
        "outputId": "4d29bf58-5bc9-4b47-97fb-0624f484a2a8"
      },
      "outputs": [
        {
          "output_type": "execute_result",
          "data": {
            "text/plain": [
              "0.7777777777777778"
            ]
          },
          "metadata": {},
          "execution_count": 26
        }
      ],
      "source": [
        "from sklearn.metrics import accuracy_score,confusion_matrix\n",
        "from sklearn.metrics import classification_report\n",
        "accuracy_score(y_test,pred1)"
      ]
    },
    {
      "cell_type": "code",
      "execution_count": null,
      "metadata": {
        "colab": {
          "base_uri": "https://localhost:8080/"
        },
        "id": "HY8o2DzLfwDo",
        "outputId": "a8f35617-aec5-4664-df6c-3600f6831662"
      },
      "outputs": [
        {
          "output_type": "execute_result",
          "data": {
            "text/plain": [
              "array([[7000,    0],\n",
              "       [2000,    0]])"
            ]
          },
          "metadata": {},
          "execution_count": 28
        }
      ],
      "source": [
        "confusion_matrix(y_test,pred1)"
      ]
    },
    {
      "cell_type": "code",
      "source": [
        "import seaborn as sns"
      ],
      "metadata": {
        "id": "utYqxkykkh7a"
      },
      "execution_count": null,
      "outputs": []
    },
    {
      "cell_type": "code",
      "execution_count": null,
      "metadata": {
        "colab": {
          "base_uri": "https://localhost:8080/",
          "height": 194
        },
        "id": "9vG8k-_JfwDp",
        "outputId": "ce6314cf-d811-4d77-c8f6-56cfcd80a181"
      },
      "outputs": [
        {
          "output_type": "stream",
          "name": "stderr",
          "text": [
            "/usr/local/lib/python3.10/dist-packages/sklearn/metrics/_classification.py:1344: UndefinedMetricWarning: Precision and F-score are ill-defined and being set to 0.0 in labels with no predicted samples. Use `zero_division` parameter to control this behavior.\n",
            "  _warn_prf(average, modifier, msg_start, len(result))\n",
            "/usr/local/lib/python3.10/dist-packages/sklearn/metrics/_classification.py:1344: UndefinedMetricWarning: Precision and F-score are ill-defined and being set to 0.0 in labels with no predicted samples. Use `zero_division` parameter to control this behavior.\n",
            "  _warn_prf(average, modifier, msg_start, len(result))\n",
            "/usr/local/lib/python3.10/dist-packages/sklearn/metrics/_classification.py:1344: UndefinedMetricWarning: Precision and F-score are ill-defined and being set to 0.0 in labels with no predicted samples. Use `zero_division` parameter to control this behavior.\n",
            "  _warn_prf(average, modifier, msg_start, len(result))\n"
          ]
        },
        {
          "output_type": "execute_result",
          "data": {
            "text/plain": [
              "'              precision    recall  f1-score   support\\n\\n           0       0.78      1.00      0.88      7000\\n           1       0.00      0.00      0.00      2000\\n\\n    accuracy                           0.78      9000\\n   macro avg       0.39      0.50      0.44      9000\\nweighted avg       0.60      0.78      0.68      9000\\n'"
            ],
            "application/vnd.google.colaboratory.intrinsic+json": {
              "type": "string"
            }
          },
          "metadata": {},
          "execution_count": 29
        }
      ],
      "source": [
        "classification_report(y_test,pred1)"
      ]
    },
    {
      "cell_type": "code",
      "source": [
        "import seaborn as sns\n",
        "%matplotlib inline\n",
        "\n",
        "class_names=[0,1] # name  of classes\n",
        "fig, ax = plt.subplots()\n",
        "tick_marks = np.arange(len(class_names))\n",
        "plt.xticks(tick_marks, class_names)\n",
        "plt.yticks(tick_marks, class_names)\n",
        "# create heatmap\n",
        "sns.heatmap(pd.DataFrame(confusion_matrix(y_test,pred1)), annot=True, cmap=\"YlGnBu\" ,fmt='g')\n",
        "ax.xaxis.set_label_position(\"top\")\n",
        "plt.tight_layout()\n",
        "plt.title('Confusion matrix', y=1.1)\n",
        "plt.ylabel('Actual label')\n",
        "plt.xlabel('Predicted label')"
      ],
      "metadata": {
        "colab": {
          "base_uri": "https://localhost:8080/",
          "height": 568
        },
        "id": "FhT0tJxskwvO",
        "outputId": "721b8c35-820d-4f9d-d4c9-2907ad602749"
      },
      "execution_count": null,
      "outputs": [
        {
          "output_type": "execute_result",
          "data": {
            "text/plain": [
              "Text(0.5, 427.9555555555555, 'Predicted label')"
            ]
          },
          "metadata": {},
          "execution_count": 56
        },
        {
          "output_type": "display_data",
          "data": {
            "text/plain": [
              "<Figure size 640x480 with 2 Axes>"
            ],
            "image/png": "[encoded data removed]"
          },
          "metadata": {}
        }
      ]
    },
    {
      "cell_type": "code",
      "execution_count": null,
      "metadata": {
        "colab": {
          "base_uri": "https://localhost:8080/"
        },
        "id": "17yIASowfwDp",
        "outputId": "7ff9c227-9f7e-4413-bafe-70cebb84c1d5"
      },
      "outputs": [
        {
          "output_type": "stream",
          "name": "stdout",
          "text": [
            "              precision    recall  f1-score   support\n",
            "\n",
            "           0       0.78      1.00      0.88      7000\n",
            "           1       0.00      0.00      0.00      2000\n",
            "\n",
            "    accuracy                           0.78      9000\n",
            "   macro avg       0.39      0.50      0.44      9000\n",
            "weighted avg       0.60      0.78      0.68      9000\n",
            "\n"
          ]
        },
        {
          "output_type": "stream",
          "name": "stderr",
          "text": [
            "/usr/local/lib/python3.10/dist-packages/sklearn/metrics/_classification.py:1344: UndefinedMetricWarning: Precision and F-score are ill-defined and being set to 0.0 in labels with no predicted samples. Use `zero_division` parameter to control this behavior.\n",
            "  _warn_prf(average, modifier, msg_start, len(result))\n",
            "/usr/local/lib/python3.10/dist-packages/sklearn/metrics/_classification.py:1344: UndefinedMetricWarning: Precision and F-score are ill-defined and being set to 0.0 in labels with no predicted samples. Use `zero_division` parameter to control this behavior.\n",
            "  _warn_prf(average, modifier, msg_start, len(result))\n",
            "/usr/local/lib/python3.10/dist-packages/sklearn/metrics/_classification.py:1344: UndefinedMetricWarning: Precision and F-score are ill-defined and being set to 0.0 in labels with no predicted samples. Use `zero_division` parameter to control this behavior.\n",
            "  _warn_prf(average, modifier, msg_start, len(result))\n"
          ]
        }
      ],
      "source": [
        "print(classification_report(y_test,pred1))"
      ]
    },
    {
      "cell_type": "code",
      "execution_count": null,
      "metadata": {
        "colab": {
          "base_uri": "https://localhost:8080/",
          "height": 75
        },
        "id": "gW9mnZd7fwDq",
        "outputId": "f9d7e08d-f5d5-4b03-a72b-8cacfb8746b0"
      },
      "outputs": [
        {
          "output_type": "execute_result",
          "data": {
            "text/plain": [
              "RandomForestClassifier(n_estimators=50)"
            ],
            "text/html": [
              "<style>#sk-container-id-2 {color: black;background-color: white;}#sk-container-id-2 pre{padding: 0;}#sk-container-id-2 div.sk-toggleable {background-color: white;}#sk-container-id-2 label.sk-toggleable__label {cursor: pointer;display: block;width: 100%;margin-bottom: 0;padding: 0.3em;box-sizing: border-box;text-align: center;}#sk-container-id-2 label.sk-toggleable__label-arrow:before {content: \"▸\";float: left;margin-right: 0.25em;color: #696969;}#sk-container-id-2 label.sk-toggleable__label-arrow:hover:before {color: black;}#sk-container-id-2 div.sk-estimator:hover label.sk-toggleable__label-arrow:before {color: black;}#sk-container-id-2 div.sk-toggleable__content {max-height: 0;max-width: 0;overflow: hidden;text-align: left;background-color: #f0f8ff;}#sk-container-id-2 div.sk-toggleable__content pre {margin: 0.2em;color: black;border-radius: 0.25em;background-color: #f0f8ff;}#sk-container-id-2 input.sk-toggleable__control:checked~div.sk-toggleable__content {max-height: 200px;max-width: 100%;overflow: auto;}#sk-container-id-2 input.sk-toggleable__control:checked~label.sk-toggleable__label-arrow:before {content: \"▾\";}#sk-container-id-2 div.sk-estimator input.sk-toggleable__control:checked~label.sk-toggleable__label {background-color: #d4ebff;}#sk-container-id-2 div.sk-label input.sk-toggleable__control:checked~label.sk-toggleable__label {background-color: #d4ebff;}#sk-container-id-2 input.sk-hidden--visually {border: 0;clip: rect(1px 1px 1px 1px);clip: rect(1px, 1px, 1px, 1px);height: 1px;margin: -1px;overflow: hidden;padding: 0;position: absolute;width: 1px;}#sk-container-id-2 div.sk-estimator {font-family: monospace;background-color: #f0f8ff;border: 1px dotted black;border-radius: 0.25em;box-sizing: border-box;margin-bottom: 0.5em;}#sk-container-id-2 div.sk-estimator:hover {background-color: #d4ebff;}#sk-container-id-2 div.sk-parallel-item::after {content: \"\";width: 100%;border-bottom: 1px solid gray;flex-grow: 1;}#sk-container-id-2 div.sk-label:hover label.sk-toggleable__label {background-color: #d4ebff;}#sk-container-id-2 div.sk-serial::before {content: \"\";position: absolute;border-left: 1px solid gray;box-sizing: border-box;top: 0;bottom: 0;left: 50%;z-index: 0;}#sk-container-id-2 div.sk-serial {display: flex;flex-direction: column;align-items: center;background-color: white;padding-right: 0.2em;padding-left: 0.2em;position: relative;}#sk-container-id-2 div.sk-item {position: relative;z-index: 1;}#sk-container-id-2 div.sk-parallel {display: flex;align-items: stretch;justify-content: center;background-color: white;position: relative;}#sk-container-id-2 div.sk-item::before, #sk-container-id-2 div.sk-parallel-item::before {content: \"\";position: absolute;border-left: 1px solid gray;box-sizing: border-box;top: 0;bottom: 0;left: 50%;z-index: -1;}#sk-container-id-2 div.sk-parallel-item {display: flex;flex-direction: column;z-index: 1;position: relative;background-color: white;}#sk-container-id-2 div.sk-parallel-item:first-child::after {align-self: flex-end;width: 50%;}#sk-container-id-2 div.sk-parallel-item:last-child::after {align-self: flex-start;width: 50%;}#sk-container-id-2 div.sk-parallel-item:only-child::after {width: 0;}#sk-container-id-2 div.sk-dashed-wrapped {border: 1px dashed gray;margin: 0 0.4em 0.5em 0.4em;box-sizing: border-box;padding-bottom: 0.4em;background-color: white;}#sk-container-id-2 div.sk-label label {font-family: monospace;font-weight: bold;display: inline-block;line-height: 1.2em;}#sk-container-id-2 div.sk-label-container {text-align: center;}#sk-container-id-2 div.sk-container {/* jupyter's `normalize.less` sets `[hidden] { display: none; }` but bootstrap.min.css set `[hidden] { display: none !important; }` so we also need the `!important` here to be able to override the default hidden behavior on the sphinx rendered scikit-learn.org. See: https://github.com/scikit-learn/scikit-learn/issues/21755 */display: inline-block !important;position: relative;}#sk-container-id-2 div.sk-text-repr-fallback {display: none;}</style><div id=\"sk-container-id-2\" class=\"sk-top-container\"><div class=\"sk-text-repr-fallback\"><pre>RandomForestClassifier(n_estimators=50)</pre><b>In a Jupyter environment, please rerun this cell to show the HTML representation or trust the notebook. <br />On GitHub, the HTML representation is unable to render, please try loading this page with nbviewer.org.</b></div><div class=\"sk-container\" hidden><div class=\"sk-item\"><div class=\"sk-estimator sk-toggleable\"><input class=\"sk-toggleable__control sk-hidden--visually\" id=\"sk-estimator-id-2\" type=\"checkbox\" checked><label for=\"sk-estimator-id-2\" class=\"sk-toggleable__label sk-toggleable__label-arrow\">RandomForestClassifier</label><div class=\"sk-toggleable__content\"><pre>RandomForestClassifier(n_estimators=50)</pre></div></div></div></div></div>"
            ]
          },
          "metadata": {},
          "execution_count": 31
        }
      ],
      "source": [
        "from sklearn.metrics import accuracy_score,confusion_matrix\n",
        "from sklearn.metrics import classification_report\n",
        "from sklearn.ensemble import RandomForestClassifier\n",
        "\n",
        "rf=RandomForestClassifier(n_estimators=50)\n",
        "rf.fit(X_train, y_train)\n"
      ]
    },
    {
      "cell_type": "code",
      "source": [
        "tree.plot_tree(rf)"
      ],
      "metadata": {
        "id": "VUQGAip0s7po"
      },
      "execution_count": null,
      "outputs": []
    },
    {
      "cell_type": "code",
      "source": [],
      "metadata": {
        "id": "LbNaBMPWyvIa"
      },
      "execution_count": null,
      "outputs": []
    },
    {
      "cell_type": "code",
      "execution_count": null,
      "metadata": {
        "colab": {
          "base_uri": "https://localhost:8080/"
        },
        "id": "bjNHHcB_fwDr",
        "outputId": "14c2e0f9-52ae-43a3-a61d-4a0e7aa52c7c"
      },
      "outputs": [
        {
          "output_type": "execute_result",
          "data": {
            "text/plain": [
              "0.8132222222222222"
            ]
          },
          "metadata": {},
          "execution_count": 33
        }
      ],
      "source": [
        "pred2 = rf.predict(X_test)\n",
        "rf.score(X_test,y_test)"
      ]
    },
    {
      "cell_type": "code",
      "execution_count": null,
      "metadata": {
        "colab": {
          "base_uri": "https://localhost:8080/"
        },
        "id": "vfAqLbT3fwDr",
        "outputId": "aa272b93-894e-40bb-d2a6-483c769132dc"
      },
      "outputs": [
        {
          "output_type": "execute_result",
          "data": {
            "text/plain": [
              "0.8132222222222222"
            ]
          },
          "metadata": {},
          "execution_count": 35
        }
      ],
      "source": [
        "accuracy_score(y_test,pred2)"
      ]
    },
    {
      "cell_type": "code",
      "execution_count": null,
      "metadata": {
        "colab": {
          "base_uri": "https://localhost:8080/"
        },
        "id": "55-P5VGOfwDr",
        "outputId": "da0c79ff-4685-4a60-9c34-7b1266ab4346"
      },
      "outputs": [
        {
          "output_type": "execute_result",
          "data": {
            "text/plain": [
              "array([[6622,  378],\n",
              "       [1303,  697]])"
            ]
          },
          "metadata": {},
          "execution_count": 36
        }
      ],
      "source": [
        "confusion_matrix(y_test,pred2)"
      ]
    },
    {
      "cell_type": "code",
      "source": [
        "class_names=[0,1] # name  of classes\n",
        "fig, ax = plt.subplots()\n",
        "tick_marks = np.arange(len(class_names))\n",
        "plt.xticks(tick_marks, class_names)\n",
        "plt.yticks(tick_marks, class_names)\n",
        "# create heatmap\n",
        "sns.heatmap(pd.DataFrame(confusion_matrix(y_test,pred2)), annot=True, cmap=\"YlGnBu\" ,fmt='g')\n",
        "ax.xaxis.set_label_position(\"top\")\n",
        "plt.tight_layout()\n",
        "plt.title('Confusion matrix', y=1.1)\n",
        "plt.ylabel('Actual label')\n",
        "plt.xlabel('Predicted label')"
      ],
      "metadata": {
        "colab": {
          "base_uri": "https://localhost:8080/",
          "height": 568
        },
        "id": "NzagmMdslEGu",
        "outputId": "f7a3a7ff-1a76-4147-e8c5-6ef0733b3fec"
      },
      "execution_count": null,
      "outputs": [
        {
          "output_type": "execute_result",
          "data": {
            "text/plain": [
              "Text(0.5, 427.9555555555555, 'Predicted label')"
            ]
          },
          "metadata": {},
          "execution_count": 57
        },
        {
          "output_type": "display_data",
          "data": {
            "text/plain": [
              "<Figure size 640x480 with 2 Axes>"
            ],
            "image/png": "[encoded data removed]"
          },
          "metadata": {}
        }
      ]
    },
    {
      "cell_type": "code",
      "execution_count": null,
      "metadata": {
        "colab": {
          "base_uri": "https://localhost:8080/",
          "height": 70
        },
        "id": "Tm56g_LRfwDs",
        "outputId": "d6d00be3-92c4-4a4a-c36a-a1c5bdb5450f"
      },
      "outputs": [
        {
          "output_type": "execute_result",
          "data": {
            "text/plain": [
              "'              precision    recall  f1-score   support\\n\\n           0       0.84      0.95      0.89      7000\\n           1       0.65      0.35      0.45      2000\\n\\n    accuracy                           0.81      9000\\n   macro avg       0.74      0.65      0.67      9000\\nweighted avg       0.79      0.81      0.79      9000\\n'"
            ],
            "application/vnd.google.colaboratory.intrinsic+json": {
              "type": "string"
            }
          },
          "metadata": {},
          "execution_count": 37
        }
      ],
      "source": [
        "classification_report(y_test,pred2)"
      ]
    },
    {
      "cell_type": "code",
      "execution_count": null,
      "metadata": {
        "colab": {
          "base_uri": "https://localhost:8080/"
        },
        "id": "VGaZvtC2fwDu",
        "outputId": "9caa9062-e91d-47e4-9e25-eb29a530aedf"
      },
      "outputs": [
        {
          "output_type": "stream",
          "name": "stdout",
          "text": [
            "              precision    recall  f1-score   support\n",
            "\n",
            "           0       0.84      0.95      0.89      7000\n",
            "           1       0.65      0.35      0.45      2000\n",
            "\n",
            "    accuracy                           0.81      9000\n",
            "   macro avg       0.74      0.65      0.67      9000\n",
            "weighted avg       0.79      0.81      0.79      9000\n",
            "\n"
          ]
        }
      ],
      "source": [
        "print(classification_report(y_test,pred2))"
      ]
    },
    {
      "cell_type": "code",
      "execution_count": null,
      "metadata": {
        "colab": {
          "base_uri": "https://localhost:8080/",
          "height": 75
        },
        "id": "9hoNiSAXfwDu",
        "outputId": "35d8c1f3-bc84-4d02-f8c8-856235f87a35"
      },
      "outputs": [
        {
          "output_type": "execute_result",
          "data": {
            "text/plain": [
              "DecisionTreeClassifier()"
            ],
            "text/html": [
              "<style>#sk-container-id-3 {color: black;background-color: white;}#sk-container-id-3 pre{padding: 0;}#sk-container-id-3 div.sk-toggleable {background-color: white;}#sk-container-id-3 label.sk-toggleable__label {cursor: pointer;display: block;width: 100%;margin-bottom: 0;padding: 0.3em;box-sizing: border-box;text-align: center;}#sk-container-id-3 label.sk-toggleable__label-arrow:before {content: \"▸\";float: left;margin-right: 0.25em;color: #696969;}#sk-container-id-3 label.sk-toggleable__label-arrow:hover:before {color: black;}#sk-container-id-3 div.sk-estimator:hover label.sk-toggleable__label-arrow:before {color: black;}#sk-container-id-3 div.sk-toggleable__content {max-height: 0;max-width: 0;overflow: hidden;text-align: left;background-color: #f0f8ff;}#sk-container-id-3 div.sk-toggleable__content pre {margin: 0.2em;color: black;border-radius: 0.25em;background-color: #f0f8ff;}#sk-container-id-3 input.sk-toggleable__control:checked~div.sk-toggleable__content {max-height: 200px;max-width: 100%;overflow: auto;}#sk-container-id-3 input.sk-toggleable__control:checked~label.sk-toggleable__label-arrow:before {content: \"▾\";}#sk-container-id-3 div.sk-estimator input.sk-toggleable__control:checked~label.sk-toggleable__label {background-color: #d4ebff;}#sk-container-id-3 div.sk-label input.sk-toggleable__control:checked~label.sk-toggleable__label {background-color: #d4ebff;}#sk-container-id-3 input.sk-hidden--visually {border: 0;clip: rect(1px 1px 1px 1px);clip: rect(1px, 1px, 1px, 1px);height: 1px;margin: -1px;overflow: hidden;padding: 0;position: absolute;width: 1px;}#sk-container-id-3 div.sk-estimator {font-family: monospace;background-color: #f0f8ff;border: 1px dotted black;border-radius: 0.25em;box-sizing: border-box;margin-bottom: 0.5em;}#sk-container-id-3 div.sk-estimator:hover {background-color: #d4ebff;}#sk-container-id-3 div.sk-parallel-item::after {content: \"\";width: 100%;border-bottom: 1px solid gray;flex-grow: 1;}#sk-container-id-3 div.sk-label:hover label.sk-toggleable__label {background-color: #d4ebff;}#sk-container-id-3 div.sk-serial::before {content: \"\";position: absolute;border-left: 1px solid gray;box-sizing: border-box;top: 0;bottom: 0;left: 50%;z-index: 0;}#sk-container-id-3 div.sk-serial {display: flex;flex-direction: column;align-items: center;background-color: white;padding-right: 0.2em;padding-left: 0.2em;position: relative;}#sk-container-id-3 div.sk-item {position: relative;z-index: 1;}#sk-container-id-3 div.sk-parallel {display: flex;align-items: stretch;justify-content: center;background-color: white;position: relative;}#sk-container-id-3 div.sk-item::before, #sk-container-id-3 div.sk-parallel-item::before {content: \"\";position: absolute;border-left: 1px solid gray;box-sizing: border-box;top: 0;bottom: 0;left: 50%;z-index: -1;}#sk-container-id-3 div.sk-parallel-item {display: flex;flex-direction: column;z-index: 1;position: relative;background-color: white;}#sk-container-id-3 div.sk-parallel-item:first-child::after {align-self: flex-end;width: 50%;}#sk-container-id-3 div.sk-parallel-item:last-child::after {align-self: flex-start;width: 50%;}#sk-container-id-3 div.sk-parallel-item:only-child::after {width: 0;}#sk-container-id-3 div.sk-dashed-wrapped {border: 1px dashed gray;margin: 0 0.4em 0.5em 0.4em;box-sizing: border-box;padding-bottom: 0.4em;background-color: white;}#sk-container-id-3 div.sk-label label {font-family: monospace;font-weight: bold;display: inline-block;line-height: 1.2em;}#sk-container-id-3 div.sk-label-container {text-align: center;}#sk-container-id-3 div.sk-container {/* jupyter's `normalize.less` sets `[hidden] { display: none; }` but bootstrap.min.css set `[hidden] { display: none !important; }` so we also need the `!important` here to be able to override the default hidden behavior on the sphinx rendered scikit-learn.org. See: https://github.com/scikit-learn/scikit-learn/issues/21755 */display: inline-block !important;position: relative;}#sk-container-id-3 div.sk-text-repr-fallback {display: none;}</style><div id=\"sk-container-id-3\" class=\"sk-top-container\"><div class=\"sk-text-repr-fallback\"><pre>DecisionTreeClassifier()</pre><b>In a Jupyter environment, please rerun this cell to show the HTML representation or trust the notebook. <br />On GitHub, the HTML representation is unable to render, please try loading this page with nbviewer.org.</b></div><div class=\"sk-container\" hidden><div class=\"sk-item\"><div class=\"sk-estimator sk-toggleable\"><input class=\"sk-toggleable__control sk-hidden--visually\" id=\"sk-estimator-id-3\" type=\"checkbox\" checked><label for=\"sk-estimator-id-3\" class=\"sk-toggleable__label sk-toggleable__label-arrow\">DecisionTreeClassifier</label><div class=\"sk-toggleable__content\"><pre>DecisionTreeClassifier()</pre></div></div></div></div></div>"
            ]
          },
          "metadata": {},
          "execution_count": 39
        }
      ],
      "source": [
        "from sklearn.tree import DecisionTreeClassifier\n",
        "d = DecisionTreeClassifier()\n",
        "d.fit(X_train, y_train)"
      ]
    },
    {
      "cell_type": "code",
      "execution_count": null,
      "metadata": {
        "colab": {
          "base_uri": "https://localhost:8080/"
        },
        "id": "tZJI3oHJfwDv",
        "outputId": "c6f48176-854a-4fce-df37-40c323a9f582"
      },
      "outputs": [
        {
          "output_type": "execute_result",
          "data": {
            "text/plain": [
              "0.7205555555555555"
            ]
          },
          "metadata": {},
          "execution_count": 40
        }
      ],
      "source": [
        "pred=d.predict(X_test)\n",
        "d.score(X_test,y_test)"
      ]
    },
    {
      "cell_type": "code",
      "source": [
        "\n",
        "\n",
        "from sklearn.tree import DecisionTreeClassifier, plot_tree\n",
        "from sklearn import tree\n"
      ],
      "metadata": {
        "id": "KADK0J35q7fn"
      },
      "execution_count": null,
      "outputs": []
    },
    {
      "cell_type": "code",
      "source": [
        "tree.plot_tree(d)"
      ],
      "metadata": {
        "colab": {
          "base_uri": "https://localhost:8080/",
          "height": 1000
        },
        "id": "ZdRRBKrZssZb",
        "outputId": "86392170-1ad4-48ce-9581-9ff29e2f0b15"
      },
      "execution_count": null,
      "outputs": [
        {
          "output_type": "execute_result",
          "data": {
            "text/plain": [
              "[Text(0.7531890221458549, 0.9886363636363636, 'x[6] <= 1.5\\ngini = 0.344\\nsamples = 21000\\nvalue = [16364, 4636]'),\n",
              " Text(0.6010836927291844, 0.9659090909090909, 'x[7] <= 1.5\\ngini = 0.275\\nsamples = 18773\\nvalue = [15683, 3090]'),\n",
              " Text(0.39704465183999843, 0.9431818181818182, 'x[20] <= 850.5\\ngini = 0.242\\nsamples = 17161\\nvalue = [14744, 2417]'),\n",
              " Text(0.18909266002882766, 0.9204545454545454, 'x[12] <= 530.0\\ngini = 0.332\\nsamples = 5100\\nvalue = [4028, 1072]'),\n",
              " Text(0.11001241665636478, 0.8977272727272727, 'x[20] <= 1.5\\ngini = 0.399\\nsamples = 1934\\nvalue = [1402, 532]'),\n",
              " Text(0.0943493818460117, 0.875, 'x[15] <= 393.0\\ngini = 0.422\\nsamples = 1379\\nvalue = [961, 418]'),\n",
              " Text(0.08095185181871713, 0.8522727272727273, 'x[23] <= 164.0\\ngini = 0.412\\nsamples = 1287\\nvalue = [914, 373]'),\n",
              " Text(0.06301207842231454, 0.8295454545454546, 'x[1] <= 315000.0\\ngini = 0.436\\nsamples = 987\\nvalue = [670, 317]'),\n",
              " Text(0.04023002761990585, 0.8068181818181818, 'x[6] <= 0.5\\ngini = 0.41\\nsamples = 785\\nvalue = [559, 226]'),\n",
              " Text(0.01191210103224925, 0.7840909090909091, 'x[0] <= 13186.5\\ngini = 0.354\\nsamples = 335\\nvalue = [258, 77]'),\n",
              " Text(0.003916886530660048, 0.7613636363636364, 'x[15] <= -9.5\\ngini = 0.247\\nsamples = 125\\nvalue = [107, 18]'),\n",
              " Text(0.0013533428544473254, 0.7386363636363636, 'x[14] <= -24.5\\ngini = 0.494\\nsamples = 9\\nvalue = [5, 4]'),\n",
              " Text(0.000936929668463533, 0.7159090909090909, 'x[5] <= 23.5\\ngini = 0.278\\nsamples = 6\\nvalue = [5, 1]'),\n",
              " Text(0.0005205164824797406, 0.6931818181818182, 'gini = 0.0\\nsamples = 1\\nvalue = [0, 1]'),\n",
              " Text(0.0013533428544473254, 0.6931818181818182, 'gini = 0.0\\nsamples = 5\\nvalue = [5, 0]'),\n",
              " Text(0.0017697560404311178, 0.7159090909090909, 'gini = 0.0\\nsamples = 3\\nvalue = [0, 3]'),\n",
              " Text(0.0064804302068727695, 0.7386363636363636, 'x[22] <= 1317.0\\ngini = 0.212\\nsamples = 116\\nvalue = [102, 14]'),\n",
              " Text(0.004632596694069691, 0.7159090909090909, 'x[0] <= 8787.5\\ngini = 0.191\\nsamples = 112\\nvalue = [100, 12]'),\n",
              " Text(0.0021861692264149102, 0.6931818181818182, 'x[0] <= 43.5\\ngini = 0.136\\nsamples = 82\\nvalue = [76, 6]'),\n",
              " Text(0.0008328263719675848, 0.6704545454545454, 'x[0] <= 16.0\\ngini = 0.5\\nsamples = 2\\nvalue = [1, 1]'),\n",
              " Text(0.0004164131859837924, 0.6477272727272727, 'gini = 0.0\\nsamples = 1\\nvalue = [1, 0]'),\n",
              " Text(0.0012492395579513772, 0.6477272727272727, 'gini = 0.0\\nsamples = 1\\nvalue = [0, 1]'),\n",
              " Text(0.0035395120808622356, 0.6704545454545454, 'x[6] <= -1.5\\ngini = 0.117\\nsamples = 80\\nvalue = [75, 5]'),\n",
              " Text(0.0020820659299189623, 0.6477272727272727, 'x[13] <= 904.5\\ngini = 0.067\\nsamples = 58\\nvalue = [56, 2]'),\n",
              " Text(0.0012492395579513772, 0.625, 'x[5] <= 26.5\\ngini = 0.036\\nsamples = 54\\nvalue = [53, 1]'),\n",
              " Text(0.0008328263719675848, 0.6022727272727273, 'x[4] <= 1.5\\ngini = 0.165\\nsamples = 11\\nvalue = [10, 1]'),\n",
              " Text(0.0004164131859837924, 0.5795454545454546, 'gini = 0.0\\nsamples = 1\\nvalue = [0, 1]'),\n",
              " Text(0.0012492395579513772, 0.5795454545454546, 'gini = 0.0\\nsamples = 10\\nvalue = [10, 0]'),\n",
              " Text(0.0016656527439351696, 0.6022727272727273, 'gini = 0.0\\nsamples = 43\\nvalue = [43, 0]'),\n",
              " Text(0.002914892301886547, 0.625, 'x[5] <= 41.0\\ngini = 0.375\\nsamples = 4\\nvalue = [3, 1]'),\n",
              " Text(0.0024984791159027545, 0.6022727272727273, 'gini = 0.0\\nsamples = 3\\nvalue = [3, 0]'),\n",
              " Text(0.0033313054878703393, 0.6022727272727273, 'gini = 0.0\\nsamples = 1\\nvalue = [0, 1]'),\n",
              " Text(0.004996958231805509, 0.6477272727272727, 'x[5] <= 41.5\\ngini = 0.236\\nsamples = 22\\nvalue = [19, 3]'),\n",
              " Text(0.004580545045821716, 0.625, 'x[5] <= 39.5\\ngini = 0.337\\nsamples = 14\\nvalue = [11, 3]'),\n",
              " Text(0.0041641318598379246, 0.6022727272727273, 'x[8] <= -1.5\\ngini = 0.26\\nsamples = 13\\nvalue = [11, 2]'),\n",
              " Text(0.003747718673854132, 0.5795454545454546, 'x[12] <= 268.0\\ngini = 0.48\\nsamples = 5\\nvalue = [3, 2]'),\n",
              " Text(0.0033313054878703393, 0.5568181818181818, 'gini = 0.0\\nsamples = 1\\nvalue = [0, 1]'),\n",
              " Text(0.0041641318598379246, 0.5568181818181818, 'x[12] <= 333.5\\ngini = 0.375\\nsamples = 4\\nvalue = [3, 1]'),\n",
              " Text(0.003747718673854132, 0.5340909090909091, 'gini = 0.0\\nsamples = 2\\nvalue = [2, 0]'),\n",
              " Text(0.004580545045821716, 0.5340909090909091, 'x[12] <= 420.5\\ngini = 0.5\\nsamples = 2\\nvalue = [1, 1]'),\n",
              " Text(0.0041641318598379246, 0.5113636363636364, 'gini = 0.0\\nsamples = 1\\nvalue = [0, 1]'),\n",
              " Text(0.004996958231805509, 0.5113636363636364, 'gini = 0.0\\nsamples = 1\\nvalue = [1, 0]'),\n",
              " Text(0.004580545045821716, 0.5795454545454546, 'gini = 0.0\\nsamples = 8\\nvalue = [8, 0]'),\n",
              " Text(0.004996958231805509, 0.6022727272727273, 'gini = 0.0\\nsamples = 1\\nvalue = [0, 1]'),\n",
              " Text(0.005413371417789302, 0.625, 'gini = 0.0\\nsamples = 8\\nvalue = [8, 0]'),\n",
              " Text(0.007079024161724471, 0.6931818181818182, 'x[0] <= 9655.0\\ngini = 0.32\\nsamples = 30\\nvalue = [24, 6]'),\n",
              " Text(0.006246197789756886, 0.6704545454545454, 'x[1] <= 170000.0\\ngini = 0.375\\nsamples = 4\\nvalue = [1, 3]'),\n",
              " Text(0.005829784603773094, 0.6477272727272727, 'gini = 0.0\\nsamples = 1\\nvalue = [1, 0]'),\n",
              " Text(0.006662610975740679, 0.6477272727272727, 'gini = 0.0\\nsamples = 3\\nvalue = [0, 3]'),\n",
              " Text(0.007911850533692056, 0.6704545454545454, 'x[1] <= 15000.0\\ngini = 0.204\\nsamples = 26\\nvalue = [23, 3]'),\n",
              " Text(0.007495437347708264, 0.6477272727272727, 'gini = 0.0\\nsamples = 1\\nvalue = [0, 1]'),\n",
              " Text(0.008328263719675849, 0.6477272727272727, 'x[3] <= 1.5\\ngini = 0.147\\nsamples = 25\\nvalue = [23, 2]'),\n",
              " Text(0.007911850533692056, 0.625, 'x[5] <= 33.5\\ngini = 0.26\\nsamples = 13\\nvalue = [11, 2]'),\n",
              " Text(0.007495437347708264, 0.6022727272727273, 'x[5] <= 30.5\\ngini = 0.375\\nsamples = 8\\nvalue = [6, 2]'),\n",
              " Text(0.007079024161724471, 0.5795454545454546, 'x[2] <= 1.5\\ngini = 0.245\\nsamples = 7\\nvalue = [6, 1]'),\n",
              " Text(0.006662610975740679, 0.5568181818181818, 'x[0] <= 11187.0\\ngini = 0.444\\nsamples = 3\\nvalue = [2, 1]'),\n",
              " Text(0.006246197789756886, 0.5340909090909091, 'gini = 0.0\\nsamples = 1\\nvalue = [0, 1]'),\n",
              " Text(0.007079024161724471, 0.5340909090909091, 'gini = 0.0\\nsamples = 2\\nvalue = [2, 0]'),\n",
              " Text(0.007495437347708264, 0.5568181818181818, 'gini = 0.0\\nsamples = 4\\nvalue = [4, 0]'),\n",
              " Text(0.007911850533692056, 0.5795454545454546, 'gini = 0.0\\nsamples = 1\\nvalue = [0, 1]'),\n",
              " Text(0.008328263719675849, 0.6022727272727273, 'gini = 0.0\\nsamples = 5\\nvalue = [5, 0]'),\n",
              " Text(0.008744676905659641, 0.625, 'gini = 0.0\\nsamples = 12\\nvalue = [12, 0]'),\n",
              " Text(0.008328263719675849, 0.7159090909090909, 'x[22] <= 3347.5\\ngini = 0.5\\nsamples = 4\\nvalue = [2, 2]'),\n",
              " Text(0.007911850533692056, 0.6931818181818182, 'gini = 0.0\\nsamples = 2\\nvalue = [0, 2]'),\n",
              " Text(0.008744676905659641, 0.6931818181818182, 'gini = 0.0\\nsamples = 2\\nvalue = [2, 0]'),\n",
              " Text(0.01990731553383845, 0.7613636363636364, 'x[1] <= 235000.0\\ngini = 0.404\\nsamples = 210\\nvalue = [151, 59]'),\n",
              " Text(0.015194201446385176, 0.7386363636363636, 'x[0] <= 13916.0\\ngini = 0.346\\nsamples = 153\\nvalue = [119, 34]'),\n",
              " Text(0.012850250661218594, 0.7159090909090909, 'x[5] <= 32.0\\ngini = 0.32\\nsamples = 5\\nvalue = [1, 4]'),\n",
              " Text(0.012433837475234803, 0.6931818181818182, 'x[0] <= 13707.0\\ngini = 0.5\\nsamples = 2\\nvalue = [1, 1]'),\n",
              " Text(0.012017424289251009, 0.6704545454545454, 'gini = 0.0\\nsamples = 1\\nvalue = [1, 0]'),\n",
              " Text(0.012850250661218594, 0.6704545454545454, 'gini = 0.0\\nsamples = 1\\nvalue = [0, 1]'),\n",
              " Text(0.013266663847202386, 0.6931818181818182, 'gini = 0.0\\nsamples = 3\\nvalue = [0, 3]'),\n",
              " Text(0.017538152231551758, 0.7159090909090909, 'x[5] <= 40.5\\ngini = 0.323\\nsamples = 148\\nvalue = [118, 30]'),\n",
              " Text(0.014099490219169971, 0.6931818181818182, 'x[13] <= -2990.5\\ngini = 0.233\\nsamples = 104\\nvalue = [90, 14]'),\n",
              " Text(0.01368307703318618, 0.6704545454545454, 'gini = 0.0\\nsamples = 1\\nvalue = [0, 1]'),\n",
              " Text(0.014515903405153763, 0.6704545454545454, 'x[1] <= 215000.0\\ngini = 0.221\\nsamples = 103\\nvalue = [90, 13]'),\n",
              " Text(0.011386298054244324, 0.6477272727272727, 'x[14] <= 5137.5\\ngini = 0.19\\nsamples = 94\\nvalue = [84, 10]'),\n",
              " Text(0.010969884868260532, 0.625, 'x[0] <= 15237.0\\ngini = 0.175\\nsamples = 93\\nvalue = [84, 9]'),\n",
              " Text(0.009161090091643433, 0.6022727272727273, 'x[0] <= 14765.5\\ngini = 0.48\\nsamples = 5\\nvalue = [3, 2]'),\n",
              " Text(0.008744676905659641, 0.5795454545454546, 'gini = 0.0\\nsamples = 3\\nvalue = [3, 0]'),\n",
              " Text(0.009577503277627226, 0.5795454545454546, 'gini = 0.0\\nsamples = 2\\nvalue = [0, 2]'),\n",
              " Text(0.01277867964487763, 0.6022727272727273, 'x[0] <= 28446.5\\ngini = 0.146\\nsamples = 88\\nvalue = [81, 7]'),\n",
              " Text(0.01041032964959481, 0.5795454545454546, 'x[1] <= 155000.0\\ngini = 0.113\\nsamples = 83\\nvalue = [78, 5]'),\n",
              " Text(0.00848441866441977, 0.5568181818181818, 'x[10] <= -1.5\\ngini = 0.042\\nsamples = 47\\nvalue = [46, 1]'),\n",
              " Text(0.008068005478435978, 0.5340909090909091, 'gini = 0.0\\nsamples = 42\\nvalue = [42, 0]'),\n",
              " Text(0.008900831850403563, 0.5340909090909091, 'x[17] <= 75.0\\ngini = 0.32\\nsamples = 5\\nvalue = [4, 1]'),\n",
              " Text(0.00848441866441977, 0.5113636363636364, 'x[0] <= 24880.0\\ngini = 0.5\\nsamples = 2\\nvalue = [1, 1]'),\n",
              " Text(0.008068005478435978, 0.48863636363636365, 'gini = 0.0\\nsamples = 1\\nvalue = [1, 0]'),\n",
              " Text(0.008900831850403563, 0.48863636363636365, 'gini = 0.0\\nsamples = 1\\nvalue = [0, 1]'),\n",
              " Text(0.009317245036387355, 0.5113636363636364, 'gini = 0.0\\nsamples = 3\\nvalue = [3, 0]'),\n",
              " Text(0.01233624063476985, 0.5568181818181818, 'x[5] <= 39.5\\ngini = 0.198\\nsamples = 36\\nvalue = [32, 4]'),\n",
              " Text(0.011191104373314421, 0.5340909090909091, 'x[1] <= 165000.0\\ngini = 0.165\\nsamples = 33\\nvalue = [30, 3]'),\n",
              " Text(0.01015007140835494, 0.5113636363636364, 'x[18] <= 432.5\\ngini = 0.444\\nsamples = 3\\nvalue = [2, 1]'),\n",
              " Text(0.009733658222371148, 0.48863636363636365, 'gini = 0.0\\nsamples = 2\\nvalue = [2, 0]'),\n",
              " Text(0.010566484594338732, 0.48863636363636365, 'gini = 0.0\\nsamples = 1\\nvalue = [0, 1]'),\n",
              " Text(0.012232137338273903, 0.5113636363636364, 'x[0] <= 27758.5\\ngini = 0.124\\nsamples = 30\\nvalue = [28, 2]'),\n",
              " Text(0.011399310966306317, 0.48863636363636365, 'x[5] <= 35.5\\ngini = 0.071\\nsamples = 27\\nvalue = [26, 1]'),\n",
              " Text(0.010982897780322525, 0.4659090909090909, 'gini = 0.0\\nsamples = 17\\nvalue = [17, 0]'),\n",
              " Text(0.011815724152290109, 0.4659090909090909, 'x[5] <= 36.5\\ngini = 0.18\\nsamples = 10\\nvalue = [9, 1]'),\n",
              " Text(0.011399310966306317, 0.4431818181818182, 'x[3] <= 1.5\\ngini = 0.375\\nsamples = 4\\nvalue = [3, 1]'),\n",
              " Text(0.010982897780322525, 0.42045454545454547, 'gini = 0.0\\nsamples = 1\\nvalue = [0, 1]'),\n",
              " Text(0.011815724152290109, 0.42045454545454547, 'gini = 0.0\\nsamples = 3\\nvalue = [3, 0]'),\n",
              " Text(0.012232137338273903, 0.4431818181818182, 'gini = 0.0\\nsamples = 6\\nvalue = [6, 0]'),\n",
              " Text(0.013064963710241488, 0.48863636363636365, 'x[0] <= 27939.0\\ngini = 0.444\\nsamples = 3\\nvalue = [2, 1]'),\n",
              " Text(0.012648550524257694, 0.4659090909090909, 'gini = 0.0\\nsamples = 1\\nvalue = [0, 1]'),\n",
              " Text(0.01348137689622528, 0.4659090909090909, 'gini = 0.0\\nsamples = 2\\nvalue = [2, 0]'),\n",
              " Text(0.01348137689622528, 0.5340909090909091, 'x[2] <= 1.5\\ngini = 0.444\\nsamples = 3\\nvalue = [2, 1]'),\n",
              " Text(0.013064963710241488, 0.5113636363636364, 'gini = 0.0\\nsamples = 1\\nvalue = [0, 1]'),\n",
              " Text(0.013897790082209071, 0.5113636363636364, 'gini = 0.0\\nsamples = 2\\nvalue = [2, 0]'),\n",
              " Text(0.01514702964016045, 0.5795454545454546, 'x[3] <= 2.5\\ngini = 0.48\\nsamples = 5\\nvalue = [3, 2]'),\n",
              " Text(0.014730616454176657, 0.5568181818181818, 'x[18] <= 1106.5\\ngini = 0.444\\nsamples = 3\\nvalue = [1, 2]'),\n",
              " Text(0.014314203268192865, 0.5340909090909091, 'gini = 0.0\\nsamples = 2\\nvalue = [0, 2]'),\n",
              " Text(0.01514702964016045, 0.5340909090909091, 'gini = 0.0\\nsamples = 1\\nvalue = [1, 0]'),\n",
              " Text(0.015563442826144242, 0.5568181818181818, 'gini = 0.0\\nsamples = 2\\nvalue = [2, 0]'),\n",
              " Text(0.011802711240228116, 0.625, 'gini = 0.0\\nsamples = 1\\nvalue = [0, 1]'),\n",
              " Text(0.017645508756063202, 0.6477272727272727, 'x[5] <= 34.5\\ngini = 0.444\\nsamples = 9\\nvalue = [6, 3]'),\n",
              " Text(0.01681268238409562, 0.625, 'x[0] <= 23396.0\\ngini = 0.278\\nsamples = 6\\nvalue = [5, 1]'),\n",
              " Text(0.016396269198111827, 0.6022727272727273, 'x[0] <= 22856.5\\ngini = 0.444\\nsamples = 3\\nvalue = [2, 1]'),\n",
              " Text(0.015979856012128035, 0.5795454545454546, 'gini = 0.0\\nsamples = 2\\nvalue = [2, 0]'),\n",
              " Text(0.01681268238409562, 0.5795454545454546, 'gini = 0.0\\nsamples = 1\\nvalue = [0, 1]'),\n",
              " Text(0.01722909557007941, 0.6022727272727273, 'gini = 0.0\\nsamples = 3\\nvalue = [3, 0]'),\n",
              " Text(0.01847833512803079, 0.625, 'x[11] <= -1.5\\ngini = 0.444\\nsamples = 3\\nvalue = [1, 2]'),\n",
              " Text(0.018061921942046998, 0.6022727272727273, 'gini = 0.0\\nsamples = 2\\nvalue = [0, 2]'),\n",
              " Text(0.01889474831401458, 0.6022727272727273, 'gini = 0.0\\nsamples = 1\\nvalue = [1, 0]'),\n",
              " Text(0.020976814243933543, 0.6931818181818182, 'x[10] <= -1.5\\ngini = 0.463\\nsamples = 44\\nvalue = [28, 16]'),\n",
              " Text(0.02056040105794975, 0.6704545454545454, 'x[0] <= 17561.0\\ngini = 0.42\\nsamples = 40\\nvalue = [28, 12]'),\n",
              " Text(0.02014398787196596, 0.6477272727272727, 'gini = 0.0\\nsamples = 7\\nvalue = [7, 0]'),\n",
              " Text(0.020976814243933543, 0.6477272727272727, 'x[0] <= 21331.5\\ngini = 0.463\\nsamples = 33\\nvalue = [21, 12]'),\n",
              " Text(0.02014398787196596, 0.625, 'x[5] <= 45.0\\ngini = 0.444\\nsamples = 9\\nvalue = [3, 6]'),\n",
              " Text(0.019727574685982165, 0.6022727272727273, 'x[5] <= 41.5\\ngini = 0.48\\nsamples = 5\\nvalue = [3, 2]'),\n",
              " Text(0.019311161499998373, 0.5795454545454546, 'gini = 0.0\\nsamples = 2\\nvalue = [0, 2]'),\n",
              " Text(0.02014398787196596, 0.5795454545454546, 'gini = 0.0\\nsamples = 3\\nvalue = [3, 0]'),\n",
              " Text(0.02056040105794975, 0.6022727272727273, 'gini = 0.0\\nsamples = 4\\nvalue = [0, 4]'),\n",
              " Text(0.021809640615901127, 0.625, 'x[14] <= 250.0\\ngini = 0.375\\nsamples = 24\\nvalue = [18, 6]'),\n",
              " Text(0.021393227429917335, 0.6022727272727273, 'x[0] <= 27275.0\\ngini = 0.457\\nsamples = 17\\nvalue = [11, 6]'),\n",
              " Text(0.020976814243933543, 0.5795454545454546, 'x[0] <= 23629.0\\ngini = 0.5\\nsamples = 12\\nvalue = [6, 6]'),\n",
              " Text(0.02056040105794975, 0.5568181818181818, 'gini = 0.0\\nsamples = 4\\nvalue = [4, 0]'),\n",
              " Text(0.021393227429917335, 0.5568181818181818, 'x[5] <= 49.5\\ngini = 0.375\\nsamples = 8\\nvalue = [2, 6]'),\n",
              " Text(0.020976814243933543, 0.5340909090909091, 'gini = 0.0\\nsamples = 5\\nvalue = [0, 5]'),\n",
              " Text(0.021809640615901127, 0.5340909090909091, 'x[4] <= 1.5\\ngini = 0.444\\nsamples = 3\\nvalue = [2, 1]'),\n",
              " Text(0.021393227429917335, 0.5113636363636364, 'gini = 0.0\\nsamples = 1\\nvalue = [0, 1]'),\n",
              " Text(0.02222605380188492, 0.5113636363636364, 'gini = 0.0\\nsamples = 2\\nvalue = [2, 0]'),\n",
              " Text(0.021809640615901127, 0.5795454545454546, 'gini = 0.0\\nsamples = 5\\nvalue = [5, 0]'),\n",
              " Text(0.02222605380188492, 0.6022727272727273, 'gini = 0.0\\nsamples = 7\\nvalue = [7, 0]'),\n",
              " Text(0.021393227429917335, 0.6704545454545454, 'gini = 0.0\\nsamples = 4\\nvalue = [0, 4]'),\n",
              " Text(0.024620429621291726, 0.7386363636363636, 'x[5] <= 27.5\\ngini = 0.492\\nsamples = 57\\nvalue = [32, 25]'),\n",
              " Text(0.024204016435307934, 0.7159090909090909, 'gini = 0.0\\nsamples = 6\\nvalue = [6, 0]'),\n",
              " Text(0.02503684280727552, 0.7159090909090909, 'x[5] <= 32.5\\ngini = 0.5\\nsamples = 51\\nvalue = [26, 25]'),\n",
              " Text(0.022642466987868714, 0.6931818181818182, 'x[0] <= 15507.0\\ngini = 0.397\\nsamples = 11\\nvalue = [3, 8]'),\n",
              " Text(0.02222605380188492, 0.6704545454545454, 'gini = 0.0\\nsamples = 2\\nvalue = [2, 0]'),\n",
              " Text(0.023058880173852506, 0.6704545454545454, 'x[0] <= 26901.5\\ngini = 0.198\\nsamples = 9\\nvalue = [1, 8]'),\n",
              " Text(0.022642466987868714, 0.6477272727272727, 'gini = 0.0\\nsamples = 7\\nvalue = [0, 7]'),\n",
              " Text(0.023475293359836297, 0.6477272727272727, 'x[0] <= 28063.0\\ngini = 0.5\\nsamples = 2\\nvalue = [1, 1]'),\n",
              " Text(0.023058880173852506, 0.625, 'gini = 0.0\\nsamples = 1\\nvalue = [1, 0]'),\n",
              " Text(0.02389170654582009, 0.625, 'gini = 0.0\\nsamples = 1\\nvalue = [0, 1]'),\n",
              " Text(0.027431218626682324, 0.6931818181818182, 'x[5] <= 35.5\\ngini = 0.489\\nsamples = 40\\nvalue = [23, 17]'),\n",
              " Text(0.02597377247573905, 0.6704545454545454, 'x[3] <= 2.5\\ngini = 0.337\\nsamples = 14\\nvalue = [11, 3]'),\n",
              " Text(0.025140946103771468, 0.6477272727272727, 'x[5] <= 33.5\\ngini = 0.18\\nsamples = 10\\nvalue = [9, 1]'),\n",
              " Text(0.024724532917787676, 0.625, 'x[1] <= 265000.0\\ngini = 0.5\\nsamples = 2\\nvalue = [1, 1]'),\n",
              " Text(0.02430811973180388, 0.6022727272727273, 'gini = 0.0\\nsamples = 1\\nvalue = [1, 0]'),\n",
              " Text(0.025140946103771468, 0.6022727272727273, 'gini = 0.0\\nsamples = 1\\nvalue = [0, 1]'),\n",
              " Text(0.02555735928975526, 0.625, 'gini = 0.0\\nsamples = 8\\nvalue = [8, 0]'),\n",
              " Text(0.02680659884770664, 0.6477272727272727, 'x[1] <= 260000.0\\ngini = 0.5\\nsamples = 4\\nvalue = [2, 2]'),\n",
              " Text(0.026390185661722843, 0.625, 'gini = 0.0\\nsamples = 2\\nvalue = [0, 2]'),\n",
              " Text(0.02722301203369043, 0.625, 'gini = 0.0\\nsamples = 2\\nvalue = [2, 0]'),\n",
              " Text(0.0288886647776256, 0.6704545454545454, 'x[12] <= 191.5\\ngini = 0.497\\nsamples = 26\\nvalue = [12, 14]'),\n",
              " Text(0.028472251591641805, 0.6477272727272727, 'x[1] <= 245000.0\\ngini = 0.476\\nsamples = 23\\nvalue = [9, 14]'),\n",
              " Text(0.028055838405658014, 0.625, 'gini = 0.0\\nsamples = 4\\nvalue = [0, 4]'),\n",
              " Text(0.0288886647776256, 0.625, 'x[0] <= 19157.0\\ngini = 0.499\\nsamples = 19\\nvalue = [9, 10]'),\n",
              " Text(0.028055838405658014, 0.6022727272727273, 'x[4] <= 1.5\\ngini = 0.32\\nsamples = 5\\nvalue = [4, 1]'),\n",
              " Text(0.027639425219674222, 0.5795454545454546, 'gini = 0.0\\nsamples = 4\\nvalue = [4, 0]'),\n",
              " Text(0.028472251591641805, 0.5795454545454546, 'gini = 0.0\\nsamples = 1\\nvalue = [0, 1]'),\n",
              " Text(0.029721491149593184, 0.6022727272727273, 'x[4] <= 1.5\\ngini = 0.459\\nsamples = 14\\nvalue = [5, 9]'),\n",
              " Text(0.029305077963609392, 0.5795454545454546, 'x[1] <= 305000.0\\ngini = 0.375\\nsamples = 12\\nvalue = [3, 9]'),\n",
              " Text(0.0288886647776256, 0.5568181818181818, 'x[4] <= 0.5\\ngini = 0.298\\nsamples = 11\\nvalue = [2, 9]'),\n",
              " Text(0.028472251591641805, 0.5340909090909091, 'gini = 0.0\\nsamples = 1\\nvalue = [1, 0]'),\n",
              " Text(0.029305077963609392, 0.5340909090909091, 'x[5] <= 39.0\\ngini = 0.18\\nsamples = 10\\nvalue = [1, 9]'),\n",
              " Text(0.0288886647776256, 0.5113636363636364, 'x[3] <= 1.5\\ngini = 0.5\\nsamples = 2\\nvalue = [1, 1]'),\n",
              " Text(0.028472251591641805, 0.48863636363636365, 'gini = 0.0\\nsamples = 1\\nvalue = [0, 1]'),\n",
              " Text(0.029305077963609392, 0.48863636363636365, 'gini = 0.0\\nsamples = 1\\nvalue = [1, 0]'),\n",
              " Text(0.029721491149593184, 0.5113636363636364, 'gini = 0.0\\nsamples = 8\\nvalue = [0, 8]'),\n",
              " Text(0.029721491149593184, 0.5568181818181818, 'gini = 0.0\\nsamples = 1\\nvalue = [1, 0]'),\n",
              " Text(0.030137904335576976, 0.5795454545454546, 'gini = 0.0\\nsamples = 2\\nvalue = [2, 0]'),\n",
              " Text(0.029305077963609392, 0.6477272727272727, 'gini = 0.0\\nsamples = 3\\nvalue = [3, 0]'),\n",
              " Text(0.06854795420756245, 0.7840909090909091, 'x[21] <= 96.5\\ngini = 0.443\\nsamples = 450\\nvalue = [301, 149]'),\n",
              " Text(0.05990331406337939, 0.7613636363636364, 'x[5] <= 52.5\\ngini = 0.463\\nsamples = 388\\nvalue = [247, 141]'),\n",
              " Text(0.04896433486126609, 0.7386363636363636, 'x[0] <= 13894.5\\ngini = 0.449\\nsamples = 365\\nvalue = [241, 124]'),\n",
              " Text(0.03684606050353463, 0.7159090909090909, 'x[5] <= 26.5\\ngini = 0.48\\nsamples = 180\\nvalue = [108, 72]'),\n",
              " Text(0.032636383451479734, 0.6931818181818182, 'x[15] <= -759.0\\ngini = 0.488\\nsamples = 26\\nvalue = [11, 15]'),\n",
              " Text(0.03221997026549594, 0.6704545454545454, 'gini = 0.0\\nsamples = 3\\nvalue = [0, 3]'),\n",
              " Text(0.03305279663746352, 0.6704545454545454, 'x[1] <= 135000.0\\ngini = 0.499\\nsamples = 23\\nvalue = [11, 12]'),\n",
              " Text(0.032636383451479734, 0.6477272727272727, 'x[1] <= 110000.0\\ngini = 0.495\\nsamples = 20\\nvalue = [11, 9]'),\n",
              " Text(0.03221997026549594, 0.625, 'x[0] <= 9945.5\\ngini = 0.498\\nsamples = 17\\nvalue = [8, 9]'),\n",
              " Text(0.03180355707951214, 0.6022727272727273, 'x[0] <= 5403.0\\ngini = 0.49\\nsamples = 14\\nvalue = [8, 6]'),\n",
              " Text(0.03097073070754456, 0.5795454545454546, 'x[0] <= 3135.5\\ngini = 0.469\\nsamples = 8\\nvalue = [3, 5]'),\n",
              " Text(0.030554317521560768, 0.5568181818181818, 'x[5] <= 22.5\\ngini = 0.375\\nsamples = 4\\nvalue = [3, 1]'),\n",
              " Text(0.030137904335576976, 0.5340909090909091, 'gini = 0.0\\nsamples = 1\\nvalue = [0, 1]'),\n",
              " Text(0.03097073070754456, 0.5340909090909091, 'gini = 0.0\\nsamples = 3\\nvalue = [3, 0]'),\n",
              " Text(0.031387143893528355, 0.5568181818181818, 'gini = 0.0\\nsamples = 4\\nvalue = [0, 4]'),\n",
              " Text(0.032636383451479734, 0.5795454545454546, 'x[0] <= 8403.5\\ngini = 0.278\\nsamples = 6\\nvalue = [5, 1]'),\n",
              " Text(0.03221997026549594, 0.5568181818181818, 'gini = 0.0\\nsamples = 3\\nvalue = [3, 0]'),\n",
              " Text(0.03305279663746352, 0.5568181818181818, 'x[0] <= 8584.5\\ngini = 0.444\\nsamples = 3\\nvalue = [2, 1]'),\n",
              " Text(0.032636383451479734, 0.5340909090909091, 'gini = 0.0\\nsamples = 1\\nvalue = [0, 1]'),\n",
              " Text(0.03346920982344732, 0.5340909090909091, 'gini = 0.0\\nsamples = 2\\nvalue = [2, 0]'),\n",
              " Text(0.032636383451479734, 0.6022727272727273, 'gini = 0.0\\nsamples = 3\\nvalue = [0, 3]'),\n",
              " Text(0.03305279663746352, 0.625, 'gini = 0.0\\nsamples = 3\\nvalue = [3, 0]'),\n",
              " Text(0.03346920982344732, 0.6477272727272727, 'gini = 0.0\\nsamples = 3\\nvalue = [0, 3]'),\n",
              " Text(0.041055737555589535, 0.6931818181818182, 'x[1] <= 145000.0\\ngini = 0.466\\nsamples = 154\\nvalue = [97, 57]'),\n",
              " Text(0.03695667025606158, 0.6704545454545454, 'x[1] <= 35000.0\\ngini = 0.38\\nsamples = 55\\nvalue = [41, 14]'),\n",
              " Text(0.034718449381398696, 0.6477272727272727, 'x[1] <= 15000.0\\ngini = 0.444\\nsamples = 9\\nvalue = [3, 6]'),\n",
              " Text(0.0343020361954149, 0.625, 'gini = 0.0\\nsamples = 1\\nvalue = [1, 0]'),\n",
              " Text(0.035134862567382484, 0.625, 'x[3] <= 2.5\\ngini = 0.375\\nsamples = 8\\nvalue = [2, 6]'),\n",
              " Text(0.034718449381398696, 0.6022727272727273, 'x[5] <= 27.5\\ngini = 0.245\\nsamples = 7\\nvalue = [1, 6]'),\n",
              " Text(0.0343020361954149, 0.5795454545454546, 'x[3] <= 1.5\\ngini = 0.5\\nsamples = 2\\nvalue = [1, 1]'),\n",
              " Text(0.033885623009431105, 0.5568181818181818, 'gini = 0.0\\nsamples = 1\\nvalue = [1, 0]'),\n",
              " Text(0.034718449381398696, 0.5568181818181818, 'gini = 0.0\\nsamples = 1\\nvalue = [0, 1]'),\n",
              " Text(0.035134862567382484, 0.5795454545454546, 'gini = 0.0\\nsamples = 5\\nvalue = [0, 5]'),\n",
              " Text(0.03555127575336628, 0.6022727272727273, 'gini = 0.0\\nsamples = 1\\nvalue = [1, 0]'),\n",
              " Text(0.03919489113072446, 0.6477272727272727, 'x[0] <= 3760.5\\ngini = 0.287\\nsamples = 46\\nvalue = [38, 8]'),\n",
              " Text(0.037216928497301446, 0.625, 'x[1] <= 125000.0\\ngini = 0.459\\nsamples = 14\\nvalue = [9, 5]'),\n",
              " Text(0.03680051531131766, 0.6022727272727273, 'x[5] <= 42.5\\ngini = 0.375\\nsamples = 12\\nvalue = [9, 3]'),\n",
              " Text(0.03596768893935007, 0.5795454545454546, 'x[2] <= 1.5\\ngini = 0.198\\nsamples = 9\\nvalue = [8, 1]'),\n",
              " Text(0.03555127575336628, 0.5568181818181818, 'x[12] <= -27.0\\ngini = 0.375\\nsamples = 4\\nvalue = [3, 1]'),\n",
              " Text(0.035134862567382484, 0.5340909090909091, 'gini = 0.0\\nsamples = 3\\nvalue = [3, 0]'),\n",
              " Text(0.03596768893935007, 0.5340909090909091, 'gini = 0.0\\nsamples = 1\\nvalue = [0, 1]'),\n",
              " Text(0.03638410212533386, 0.5568181818181818, 'gini = 0.0\\nsamples = 5\\nvalue = [5, 0]'),\n",
              " Text(0.03763334168328524, 0.5795454545454546, 'x[5] <= 47.0\\ngini = 0.444\\nsamples = 3\\nvalue = [1, 2]'),\n",
              " Text(0.037216928497301446, 0.5568181818181818, 'gini = 0.0\\nsamples = 2\\nvalue = [0, 2]'),\n",
              " Text(0.03804975486926903, 0.5568181818181818, 'gini = 0.0\\nsamples = 1\\nvalue = [1, 0]'),\n",
              " Text(0.03763334168328524, 0.6022727272727273, 'gini = 0.0\\nsamples = 2\\nvalue = [0, 2]'),\n",
              " Text(0.04117285376414748, 0.625, 'x[17] <= 140.5\\ngini = 0.17\\nsamples = 32\\nvalue = [29, 3]'),\n",
              " Text(0.04013182079918799, 0.6022727272727273, 'x[5] <= 48.5\\ngini = 0.124\\nsamples = 30\\nvalue = [28, 2]'),\n",
              " Text(0.03929899442722041, 0.5795454545454546, 'x[0] <= 11291.5\\ngini = 0.069\\nsamples = 28\\nvalue = [27, 1]'),\n",
              " Text(0.03888258124123662, 0.5568181818181818, 'gini = 0.0\\nsamples = 21\\nvalue = [21, 0]'),\n",
              " Text(0.039715407613204204, 0.5568181818181818, 'x[0] <= 11446.0\\ngini = 0.245\\nsamples = 7\\nvalue = [6, 1]'),\n",
              " Text(0.03929899442722041, 0.5340909090909091, 'gini = 0.0\\nsamples = 1\\nvalue = [0, 1]'),\n",
              " Text(0.04013182079918799, 0.5340909090909091, 'gini = 0.0\\nsamples = 6\\nvalue = [6, 0]'),\n",
              " Text(0.040964647171155576, 0.5795454545454546, 'x[1] <= 70000.0\\ngini = 0.5\\nsamples = 2\\nvalue = [1, 1]'),\n",
              " Text(0.04054823398517179, 0.5568181818181818, 'gini = 0.0\\nsamples = 1\\nvalue = [0, 1]'),\n",
              " Text(0.04138106035713937, 0.5568181818181818, 'gini = 0.0\\nsamples = 1\\nvalue = [1, 0]'),\n",
              " Text(0.042213886729106954, 0.6022727272727273, 'x[4] <= 1.5\\ngini = 0.5\\nsamples = 2\\nvalue = [1, 1]'),\n",
              " Text(0.041797473543123166, 0.5795454545454546, 'gini = 0.0\\nsamples = 1\\nvalue = [1, 0]'),\n",
              " Text(0.04263029991509075, 0.5795454545454546, 'gini = 0.0\\nsamples = 1\\nvalue = [0, 1]'),\n",
              " Text(0.04515480485511749, 0.6704545454545454, 'x[5] <= 28.5\\ngini = 0.491\\nsamples = 99\\nvalue = [56, 43]'),\n",
              " Text(0.04304671310107454, 0.6477272727272727, 'x[0] <= 8126.5\\ngini = 0.198\\nsamples = 9\\nvalue = [8, 1]'),\n",
              " Text(0.04263029991509075, 0.625, 'gini = 0.0\\nsamples = 6\\nvalue = [6, 0]'),\n",
              " Text(0.04346312628705833, 0.625, 'x[0] <= 11496.0\\ngini = 0.444\\nsamples = 3\\nvalue = [2, 1]'),\n",
              " Text(0.04304671310107454, 0.6022727272727273, 'gini = 0.0\\nsamples = 1\\nvalue = [0, 1]'),\n",
              " Text(0.04387953947304213, 0.6022727272727273, 'gini = 0.0\\nsamples = 2\\nvalue = [2, 0]'),\n",
              " Text(0.047262896609160436, 0.6477272727272727, 'x[5] <= 48.5\\ngini = 0.498\\nsamples = 90\\nvalue = [48, 42]'),\n",
              " Text(0.04684648342317665, 0.625, 'x[0] <= 4006.0\\ngini = 0.5\\nsamples = 85\\nvalue = [43, 42]'),\n",
              " Text(0.04471236584500971, 0.6022727272727273, 'x[0] <= 1995.5\\ngini = 0.435\\nsamples = 25\\nvalue = [17, 8]'),\n",
              " Text(0.04429595265902592, 0.5795454545454546, 'x[5] <= 35.5\\ngini = 0.49\\nsamples = 14\\nvalue = [6, 8]'),\n",
              " Text(0.04346312628705833, 0.5568181818181818, 'x[1] <= 245000.0\\ngini = 0.32\\nsamples = 5\\nvalue = [4, 1]'),\n",
              " Text(0.04304671310107454, 0.5340909090909091, 'gini = 0.0\\nsamples = 4\\nvalue = [4, 0]'),\n",
              " Text(0.04387953947304213, 0.5340909090909091, 'gini = 0.0\\nsamples = 1\\nvalue = [0, 1]'),\n",
              " Text(0.0451287790309935, 0.5568181818181818, 'x[1] <= 250000.0\\ngini = 0.346\\nsamples = 9\\nvalue = [2, 7]'),\n",
              " Text(0.04471236584500971, 0.5340909090909091, 'gini = 0.0\\nsamples = 6\\nvalue = [0, 6]'),\n",
              " Text(0.045545192216977295, 0.5340909090909091, 'x[5] <= 41.5\\ngini = 0.444\\nsamples = 3\\nvalue = [2, 1]'),\n",
              " Text(0.0451287790309935, 0.5113636363636364, 'gini = 0.0\\nsamples = 2\\nvalue = [2, 0]'),\n",
              " Text(0.04596160540296109, 0.5113636363636364, 'gini = 0.0\\nsamples = 1\\nvalue = [0, 1]'),\n",
              " Text(0.0451287790309935, 0.5795454545454546, 'gini = 0.0\\nsamples = 11\\nvalue = [11, 0]'),\n",
              " Text(0.048980601001343584, 0.6022727272727273, 'x[14] <= 428.0\\ngini = 0.491\\nsamples = 60\\nvalue = [26, 34]'),\n",
              " Text(0.04856418781535979, 0.5795454545454546, 'x[16] <= -9.0\\ngini = 0.497\\nsamples = 56\\nvalue = [26, 30]'),\n",
              " Text(0.048147774629376, 0.5568181818181818, 'gini = 0.0\\nsamples = 2\\nvalue = [2, 0]'),\n",
              " Text(0.048980601001343584, 0.5568181818181818, 'x[0] <= 12724.5\\ngini = 0.494\\nsamples = 54\\nvalue = [24, 30]'),\n",
              " Text(0.04783546473988815, 0.5340909090909091, 'x[5] <= 30.5\\ngini = 0.499\\nsamples = 48\\nvalue = [23, 25]'),\n",
              " Text(0.046794431774928674, 0.5113636363636364, 'x[17] <= 5046.0\\ngini = 0.32\\nsamples = 10\\nvalue = [2, 8]'),\n",
              " Text(0.04637801858894488, 0.48863636363636365, 'x[1] <= 245000.0\\ngini = 0.198\\nsamples = 9\\nvalue = [1, 8]'),\n",
              " Text(0.04596160540296109, 0.4659090909090909, 'gini = 0.0\\nsamples = 8\\nvalue = [0, 8]'),\n",
              " Text(0.046794431774928674, 0.4659090909090909, 'gini = 0.0\\nsamples = 1\\nvalue = [1, 0]'),\n",
              " Text(0.04721084496091246, 0.48863636363636365, 'gini = 0.0\\nsamples = 1\\nvalue = [1, 0]'),\n",
              " Text(0.048876497704847637, 0.5113636363636364, 'x[0] <= 4716.0\\ngini = 0.494\\nsamples = 38\\nvalue = [21, 17]'),\n",
              " Text(0.04804367133288005, 0.48863636363636365, 'x[5] <= 34.0\\ngini = 0.278\\nsamples = 6\\nvalue = [1, 5]'),\n",
              " Text(0.04762725814689626, 0.4659090909090909, 'gini = 0.0\\nsamples = 1\\nvalue = [1, 0]'),\n",
              " Text(0.04846008451886384, 0.4659090909090909, 'gini = 0.0\\nsamples = 5\\nvalue = [0, 5]'),\n",
              " Text(0.04970932407681522, 0.48863636363636365, 'x[1] <= 155000.0\\ngini = 0.469\\nsamples = 32\\nvalue = [20, 12]'),\n",
              " Text(0.049292910890831425, 0.4659090909090909, 'gini = 0.0\\nsamples = 2\\nvalue = [0, 2]'),\n",
              " Text(0.050125737262799015, 0.4659090909090909, 'x[9] <= 0.0\\ngini = 0.444\\nsamples = 30\\nvalue = [20, 10]'),\n",
              " Text(0.04970932407681522, 0.4431818181818182, 'x[1] <= 170000.0\\ngini = 0.428\\nsamples = 29\\nvalue = [20, 9]'),\n",
              " Text(0.049292910890831425, 0.42045454545454547, 'gini = 0.0\\nsamples = 5\\nvalue = [5, 0]'),\n",
              " Text(0.050125737262799015, 0.42045454545454547, 'x[5] <= 31.5\\ngini = 0.469\\nsamples = 24\\nvalue = [15, 9]'),\n",
              " Text(0.04970932407681522, 0.3977272727272727, 'gini = 0.0\\nsamples = 1\\nvalue = [0, 1]'),\n",
              " Text(0.050542150448782804, 0.3977272727272727, 'x[4] <= 1.5\\ngini = 0.454\\nsamples = 23\\nvalue = [15, 8]'),\n",
              " Text(0.04970932407681522, 0.375, 'x[1] <= 250000.0\\ngini = 0.498\\nsamples = 15\\nvalue = [8, 7]'),\n",
              " Text(0.049292910890831425, 0.3522727272727273, 'x[5] <= 43.5\\ngini = 0.486\\nsamples = 12\\nvalue = [5, 7]'),\n",
              " Text(0.048876497704847637, 0.32954545454545453, 'x[22] <= 515.5\\ngini = 0.42\\nsamples = 10\\nvalue = [3, 7]'),\n",
              " Text(0.04846008451886384, 0.3068181818181818, 'x[1] <= 225000.0\\ngini = 0.346\\nsamples = 9\\nvalue = [2, 7]'),\n",
              " Text(0.04804367133288005, 0.2840909090909091, 'gini = 0.0\\nsamples = 5\\nvalue = [0, 5]'),\n",
              " Text(0.048876497704847637, 0.2840909090909091, 'x[0] <= 11106.0\\ngini = 0.5\\nsamples = 4\\nvalue = [2, 2]'),\n",
              " Text(0.04846008451886384, 0.26136363636363635, 'gini = 0.0\\nsamples = 2\\nvalue = [2, 0]'),\n",
              " Text(0.049292910890831425, 0.26136363636363635, 'gini = 0.0\\nsamples = 2\\nvalue = [0, 2]'),\n",
              " Text(0.049292910890831425, 0.3068181818181818, 'gini = 0.0\\nsamples = 1\\nvalue = [1, 0]'),\n",
              " Text(0.04970932407681522, 0.32954545454545453, 'gini = 0.0\\nsamples = 2\\nvalue = [2, 0]'),\n",
              " Text(0.050125737262799015, 0.3522727272727273, 'gini = 0.0\\nsamples = 3\\nvalue = [3, 0]'),\n",
              " Text(0.05137497682075039, 0.375, 'x[5] <= 41.5\\ngini = 0.219\\nsamples = 8\\nvalue = [7, 1]'),\n",
              " Text(0.0509585636347666, 0.3522727272727273, 'gini = 0.0\\nsamples = 7\\nvalue = [7, 0]'),\n",
              " Text(0.05179139000673418, 0.3522727272727273, 'gini = 0.0\\nsamples = 1\\nvalue = [0, 1]'),\n",
              " Text(0.050542150448782804, 0.4431818181818182, 'gini = 0.0\\nsamples = 1\\nvalue = [0, 1]'),\n",
              " Text(0.050125737262799015, 0.5340909090909091, 'x[16] <= 153.0\\ngini = 0.278\\nsamples = 6\\nvalue = [1, 5]'),\n",
              " Text(0.04970932407681522, 0.5113636363636364, 'gini = 0.0\\nsamples = 5\\nvalue = [0, 5]'),\n",
              " Text(0.050542150448782804, 0.5113636363636364, 'gini = 0.0\\nsamples = 1\\nvalue = [1, 0]'),\n",
              " Text(0.04939701418732738, 0.5795454545454546, 'gini = 0.0\\nsamples = 4\\nvalue = [0, 4]'),\n",
              " Text(0.04767930979514423, 0.625, 'gini = 0.0\\nsamples = 5\\nvalue = [5, 0]'),\n",
              " Text(0.06108260921899755, 0.7159090909090909, 'x[1] <= 125000.0\\ngini = 0.404\\nsamples = 185\\nvalue = [133, 52]'),\n",
              " Text(0.05423781747438896, 0.6931818181818182, 'x[5] <= 24.5\\ngini = 0.479\\nsamples = 73\\nvalue = [44, 29]'),\n",
              " Text(0.05382140428840517, 0.6704545454545454, 'gini = 0.0\\nsamples = 7\\nvalue = [7, 0]'),\n",
              " Text(0.054654230660372755, 0.6704545454545454, 'x[22] <= 181.5\\ngini = 0.493\\nsamples = 66\\nvalue = [37, 29]'),\n",
              " Text(0.05423781747438896, 0.6477272727272727, 'x[12] <= -97.0\\ngini = 0.498\\nsamples = 62\\nvalue = [33, 29]'),\n",
              " Text(0.05382140428840517, 0.625, 'gini = 0.0\\nsamples = 3\\nvalue = [3, 0]'),\n",
              " Text(0.054654230660372755, 0.625, 'x[3] <= 1.5\\ngini = 0.5\\nsamples = 59\\nvalue = [30, 29]'),\n",
              " Text(0.05137497682075039, 0.6022727272727273, 'x[0] <= 14752.0\\ngini = 0.444\\nsamples = 21\\nvalue = [14, 7]'),\n",
              " Text(0.0509585636347666, 0.5795454545454546, 'gini = 0.0\\nsamples = 2\\nvalue = [0, 2]'),\n",
              " Text(0.05179139000673418, 0.5795454545454546, 'x[0] <= 20849.5\\ngini = 0.388\\nsamples = 19\\nvalue = [14, 5]'),\n",
              " Text(0.05137497682075039, 0.5568181818181818, 'gini = 0.0\\nsamples = 8\\nvalue = [8, 0]'),\n",
              " Text(0.05220780319271798, 0.5568181818181818, 'x[5] <= 39.0\\ngini = 0.496\\nsamples = 11\\nvalue = [6, 5]'),\n",
              " Text(0.05179139000673418, 0.5340909090909091, 'x[16] <= -9.0\\ngini = 0.469\\nsamples = 8\\nvalue = [3, 5]'),\n",
              " Text(0.05137497682075039, 0.5113636363636364, 'gini = 0.0\\nsamples = 1\\nvalue = [1, 0]'),\n",
              " Text(0.05220780319271798, 0.5113636363636364, 'x[1] <= 85000.0\\ngini = 0.408\\nsamples = 7\\nvalue = [2, 5]'),\n",
              " Text(0.05179139000673418, 0.48863636363636365, 'gini = 0.0\\nsamples = 3\\nvalue = [0, 3]'),\n",
              " Text(0.052624216378701766, 0.48863636363636365, 'x[1] <= 95000.0\\ngini = 0.5\\nsamples = 4\\nvalue = [2, 2]'),\n",
              " Text(0.05220780319271798, 0.4659090909090909, 'gini = 0.0\\nsamples = 2\\nvalue = [2, 0]'),\n",
              " Text(0.05304062956468556, 0.4659090909090909, 'gini = 0.0\\nsamples = 2\\nvalue = [0, 2]'),\n",
              " Text(0.052624216378701766, 0.5340909090909091, 'gini = 0.0\\nsamples = 3\\nvalue = [3, 0]'),\n",
              " Text(0.05793348449999512, 0.6022727272727273, 'x[1] <= 85000.0\\ngini = 0.488\\nsamples = 38\\nvalue = [16, 22]'),\n",
              " Text(0.056163728459564, 0.5795454545454546, 'x[5] <= 35.5\\ngini = 0.497\\nsamples = 26\\nvalue = [14, 12]'),\n",
              " Text(0.05512269549460452, 0.5568181818181818, 'x[2] <= 1.5\\ngini = 0.43\\nsamples = 16\\nvalue = [11, 5]'),\n",
              " Text(0.05428986912263694, 0.5340909090909091, 'x[0] <= 19226.0\\ngini = 0.219\\nsamples = 8\\nvalue = [7, 1]'),\n",
              " Text(0.053873455936653145, 0.5113636363636364, 'x[0] <= 17244.0\\ngini = 0.375\\nsamples = 4\\nvalue = [3, 1]'),\n",
              " Text(0.05345704275066935, 0.48863636363636365, 'gini = 0.0\\nsamples = 3\\nvalue = [3, 0]'),\n",
              " Text(0.05428986912263694, 0.48863636363636365, 'gini = 0.0\\nsamples = 1\\nvalue = [0, 1]'),\n",
              " Text(0.05470628230862073, 0.5113636363636364, 'gini = 0.0\\nsamples = 4\\nvalue = [4, 0]'),\n",
              " Text(0.05595552186657211, 0.5340909090909091, 'x[1] <= 40000.0\\ngini = 0.5\\nsamples = 8\\nvalue = [4, 4]'),\n",
              " Text(0.05553910868058831, 0.5113636363636364, 'x[1] <= 15000.0\\ngini = 0.32\\nsamples = 5\\nvalue = [1, 4]'),\n",
              " Text(0.05512269549460452, 0.48863636363636365, 'gini = 0.0\\nsamples = 1\\nvalue = [1, 0]'),\n",
              " Text(0.05595552186657211, 0.48863636363636365, 'gini = 0.0\\nsamples = 4\\nvalue = [0, 4]'),\n",
              " Text(0.056371935052555895, 0.5113636363636364, 'gini = 0.0\\nsamples = 3\\nvalue = [3, 0]'),\n",
              " Text(0.057204761424523486, 0.5568181818181818, 'x[16] <= -415.0\\ngini = 0.42\\nsamples = 10\\nvalue = [3, 7]'),\n",
              " Text(0.05678834823853969, 0.5340909090909091, 'gini = 0.0\\nsamples = 1\\nvalue = [1, 0]'),\n",
              " Text(0.057621174610507274, 0.5340909090909091, 'x[4] <= 1.5\\ngini = 0.346\\nsamples = 9\\nvalue = [2, 7]'),\n",
              " Text(0.057204761424523486, 0.5113636363636364, 'gini = 0.0\\nsamples = 5\\nvalue = [0, 5]'),\n",
              " Text(0.05803758779649107, 0.5113636363636364, 'x[0] <= 19009.0\\ngini = 0.5\\nsamples = 4\\nvalue = [2, 2]'),\n",
              " Text(0.057621174610507274, 0.48863636363636365, 'gini = 0.0\\nsamples = 1\\nvalue = [1, 0]'),\n",
              " Text(0.05845400098247486, 0.48863636363636365, 'x[5] <= 41.5\\ngini = 0.444\\nsamples = 3\\nvalue = [1, 2]'),\n",
              " Text(0.05803758779649107, 0.4659090909090909, 'gini = 0.0\\nsamples = 1\\nvalue = [0, 1]'),\n",
              " Text(0.05887041416845865, 0.4659090909090909, 'x[5] <= 47.5\\ngini = 0.5\\nsamples = 2\\nvalue = [1, 1]'),\n",
              " Text(0.05845400098247486, 0.4431818181818182, 'gini = 0.0\\nsamples = 1\\nvalue = [1, 0]'),\n",
              " Text(0.05928682735444245, 0.4431818181818182, 'gini = 0.0\\nsamples = 1\\nvalue = [0, 1]'),\n",
              " Text(0.059703240540426236, 0.5795454545454546, 'x[5] <= 46.5\\ngini = 0.278\\nsamples = 12\\nvalue = [2, 10]'),\n",
              " Text(0.05887041416845865, 0.5568181818181818, 'x[0] <= 22407.5\\ngini = 0.18\\nsamples = 10\\nvalue = [1, 9]'),\n",
              " Text(0.05845400098247486, 0.5340909090909091, 'gini = 0.0\\nsamples = 6\\nvalue = [0, 6]'),\n",
              " Text(0.05928682735444245, 0.5340909090909091, 'x[0] <= 23069.5\\ngini = 0.375\\nsamples = 4\\nvalue = [1, 3]'),\n",
              " Text(0.05887041416845865, 0.5113636363636364, 'gini = 0.0\\nsamples = 1\\nvalue = [1, 0]'),\n",
              " Text(0.059703240540426236, 0.5113636363636364, 'gini = 0.0\\nsamples = 3\\nvalue = [0, 3]'),\n",
              " Text(0.06053606691239382, 0.5568181818181818, 'x[3] <= 2.5\\ngini = 0.5\\nsamples = 2\\nvalue = [1, 1]'),\n",
              " Text(0.06011965372641003, 0.5340909090909091, 'gini = 0.0\\nsamples = 1\\nvalue = [1, 0]'),\n",
              " Text(0.060952480098377615, 0.5340909090909091, 'gini = 0.0\\nsamples = 1\\nvalue = [0, 1]'),\n",
              " Text(0.05507064384635655, 0.6477272727272727, 'gini = 0.0\\nsamples = 4\\nvalue = [4, 0]'),\n",
              " Text(0.06792740096360614, 0.6931818181818182, 'x[23] <= 75.0\\ngini = 0.326\\nsamples = 112\\nvalue = [89, 23]'),\n",
              " Text(0.06751098777762235, 0.6704545454545454, 'x[0] <= 23368.5\\ngini = 0.309\\nsamples = 110\\nvalue = [89, 21]'),\n",
              " Text(0.06470019877223175, 0.6477272727272727, 'x[2] <= 1.5\\ngini = 0.18\\nsamples = 60\\nvalue = [54, 6]'),\n",
              " Text(0.06386737240026416, 0.625, 'x[5] <= 39.5\\ngini = 0.375\\nsamples = 16\\nvalue = [12, 4]'),\n",
              " Text(0.06345095921428037, 0.6022727272727273, 'x[0] <= 17396.5\\ngini = 0.48\\nsamples = 10\\nvalue = [6, 4]'),\n",
              " Text(0.06261813284231278, 0.5795454545454546, 'x[5] <= 34.5\\ngini = 0.48\\nsamples = 5\\nvalue = [2, 3]'),\n",
              " Text(0.062201719656328994, 0.5568181818181818, 'x[8] <= -1.5\\ngini = 0.444\\nsamples = 3\\nvalue = [2, 1]'),\n",
              " Text(0.0617853064703452, 0.5340909090909091, 'gini = 0.0\\nsamples = 2\\nvalue = [2, 0]'),\n",
              " Text(0.06261813284231278, 0.5340909090909091, 'gini = 0.0\\nsamples = 1\\nvalue = [0, 1]'),\n",
              " Text(0.06303454602829658, 0.5568181818181818, 'gini = 0.0\\nsamples = 2\\nvalue = [0, 2]'),\n",
              " Text(0.06428378558624795, 0.5795454545454546, 'x[0] <= 20881.0\\ngini = 0.32\\nsamples = 5\\nvalue = [4, 1]'),\n",
              " Text(0.06386737240026416, 0.5568181818181818, 'gini = 0.0\\nsamples = 4\\nvalue = [4, 0]'),\n",
              " Text(0.06470019877223175, 0.5568181818181818, 'gini = 0.0\\nsamples = 1\\nvalue = [0, 1]'),\n",
              " Text(0.06428378558624795, 0.6022727272727273, 'gini = 0.0\\nsamples = 6\\nvalue = [6, 0]'),\n",
              " Text(0.06553302514419933, 0.625, 'x[5] <= 38.5\\ngini = 0.087\\nsamples = 44\\nvalue = [42, 2]'),\n",
              " Text(0.06511661195821554, 0.6022727272727273, 'gini = 0.0\\nsamples = 30\\nvalue = [30, 0]'),\n",
              " Text(0.06594943833018313, 0.6022727272727273, 'x[0] <= 19335.5\\ngini = 0.245\\nsamples = 14\\nvalue = [12, 2]'),\n",
              " Text(0.06553302514419933, 0.5795454545454546, 'gini = 0.0\\nsamples = 8\\nvalue = [8, 0]'),\n",
              " Text(0.06636585151616692, 0.5795454545454546, 'x[0] <= 22587.5\\ngini = 0.444\\nsamples = 6\\nvalue = [4, 2]'),\n",
              " Text(0.06594943833018313, 0.5568181818181818, 'x[3] <= 1.5\\ngini = 0.444\\nsamples = 3\\nvalue = [1, 2]'),\n",
              " Text(0.06553302514419933, 0.5340909090909091, 'gini = 0.0\\nsamples = 1\\nvalue = [1, 0]'),\n",
              " Text(0.06636585151616692, 0.5340909090909091, 'gini = 0.0\\nsamples = 2\\nvalue = [0, 2]'),\n",
              " Text(0.0667822647021507, 0.5568181818181818, 'gini = 0.0\\nsamples = 3\\nvalue = [3, 0]'),\n",
              " Text(0.07032177678301295, 0.6477272727272727, 'x[0] <= 27369.5\\ngini = 0.42\\nsamples = 50\\nvalue = [35, 15]'),\n",
              " Text(0.06844791744608587, 0.625, 'x[16] <= -57.0\\ngini = 0.49\\nsamples = 28\\nvalue = [16, 12]'),\n",
              " Text(0.06803150426010209, 0.6022727272727273, 'gini = 0.0\\nsamples = 4\\nvalue = [4, 0]'),\n",
              " Text(0.06886433063206968, 0.6022727272727273, 'x[1] <= 170000.0\\ngini = 0.5\\nsamples = 24\\nvalue = [12, 12]'),\n",
              " Text(0.06803150426010209, 0.5795454545454546, 'x[0] <= 24303.5\\ngini = 0.32\\nsamples = 5\\nvalue = [1, 4]'),\n",
              " Text(0.0676150910741183, 0.5568181818181818, 'gini = 0.0\\nsamples = 1\\nvalue = [1, 0]'),\n",
              " Text(0.06844791744608587, 0.5568181818181818, 'gini = 0.0\\nsamples = 4\\nvalue = [0, 4]'),\n",
              " Text(0.06969715700403725, 0.5795454545454546, 'x[0] <= 27030.5\\ngini = 0.488\\nsamples = 19\\nvalue = [11, 8]'),\n",
              " Text(0.06928074381805346, 0.5568181818181818, 'x[0] <= 26254.0\\ngini = 0.457\\nsamples = 17\\nvalue = [11, 6]'),\n",
              " Text(0.06886433063206968, 0.5340909090909091, 'x[14] <= 237.0\\ngini = 0.497\\nsamples = 13\\nvalue = [7, 6]'),\n",
              " Text(0.06844791744608587, 0.5113636363636364, 'x[5] <= 38.5\\ngini = 0.496\\nsamples = 11\\nvalue = [5, 6]'),\n",
              " Text(0.0676150910741183, 0.48863636363636365, 'x[0] <= 26044.5\\ngini = 0.408\\nsamples = 7\\nvalue = [2, 5]'),\n",
              " Text(0.0671986778881345, 0.4659090909090909, 'x[2] <= 1.5\\ngini = 0.278\\nsamples = 6\\nvalue = [1, 5]'),\n",
              " Text(0.0667822647021507, 0.4431818181818182, 'x[0] <= 24662.5\\ngini = 0.5\\nsamples = 2\\nvalue = [1, 1]'),\n",
              " Text(0.06636585151616692, 0.42045454545454547, 'gini = 0.0\\nsamples = 1\\nvalue = [0, 1]'),\n",
              " Text(0.0671986778881345, 0.42045454545454547, 'gini = 0.0\\nsamples = 1\\nvalue = [1, 0]'),\n",
              " Text(0.0676150910741183, 0.4431818181818182, 'gini = 0.0\\nsamples = 4\\nvalue = [0, 4]'),\n",
              " Text(0.06803150426010209, 0.4659090909090909, 'gini = 0.0\\nsamples = 1\\nvalue = [1, 0]'),\n",
              " Text(0.06928074381805346, 0.48863636363636365, 'x[3] <= 2.5\\ngini = 0.375\\nsamples = 4\\nvalue = [3, 1]'),\n",
              " Text(0.06886433063206968, 0.4659090909090909, 'gini = 0.0\\nsamples = 3\\nvalue = [3, 0]'),\n",
              " Text(0.06969715700403725, 0.4659090909090909, 'gini = 0.0\\nsamples = 1\\nvalue = [0, 1]'),\n",
              " Text(0.06928074381805346, 0.5113636363636364, 'gini = 0.0\\nsamples = 2\\nvalue = [2, 0]'),\n",
              " Text(0.06969715700403725, 0.5340909090909091, 'gini = 0.0\\nsamples = 4\\nvalue = [4, 0]'),\n",
              " Text(0.07011357019002105, 0.5568181818181818, 'gini = 0.0\\nsamples = 2\\nvalue = [0, 2]'),\n",
              " Text(0.07219563611994001, 0.625, 'x[0] <= 29948.5\\ngini = 0.236\\nsamples = 22\\nvalue = [19, 3]'),\n",
              " Text(0.07177922293395622, 0.6022727272727273, 'x[5] <= 28.5\\ngini = 0.172\\nsamples = 21\\nvalue = [19, 2]'),\n",
              " Text(0.07136280974797242, 0.5795454545454546, 'x[3] <= 1.5\\ngini = 0.5\\nsamples = 4\\nvalue = [2, 2]'),\n",
              " Text(0.07094639656198863, 0.5568181818181818, 'x[0] <= 29426.0\\ngini = 0.444\\nsamples = 3\\nvalue = [2, 1]'),\n",
              " Text(0.07052998337600484, 0.5340909090909091, 'gini = 0.0\\nsamples = 2\\nvalue = [2, 0]'),\n",
              " Text(0.07136280974797242, 0.5340909090909091, 'gini = 0.0\\nsamples = 1\\nvalue = [0, 1]'),\n",
              " Text(0.07177922293395622, 0.5568181818181818, 'gini = 0.0\\nsamples = 1\\nvalue = [0, 1]'),\n",
              " Text(0.07219563611994001, 0.5795454545454546, 'gini = 0.0\\nsamples = 17\\nvalue = [17, 0]'),\n",
              " Text(0.0726120493059238, 0.6022727272727273, 'gini = 0.0\\nsamples = 1\\nvalue = [0, 1]'),\n",
              " Text(0.06834381414958993, 0.6704545454545454, 'gini = 0.0\\nsamples = 2\\nvalue = [0, 2]'),\n",
              " Text(0.07084229326549268, 0.7386363636363636, 'x[0] <= 21306.0\\ngini = 0.386\\nsamples = 23\\nvalue = [6, 17]'),\n",
              " Text(0.0700094668935251, 0.7159090909090909, 'x[0] <= 6319.0\\ngini = 0.208\\nsamples = 17\\nvalue = [2, 15]'),\n",
              " Text(0.0695930537075413, 0.6931818181818182, 'x[0] <= 2959.5\\ngini = 0.48\\nsamples = 5\\nvalue = [2, 3]'),\n",
              " Text(0.06917664052155752, 0.6704545454545454, 'gini = 0.0\\nsamples = 3\\nvalue = [0, 3]'),\n",
              " Text(0.0700094668935251, 0.6704545454545454, 'gini = 0.0\\nsamples = 2\\nvalue = [2, 0]'),\n",
              " Text(0.0704258800795089, 0.6931818181818182, 'gini = 0.0\\nsamples = 12\\nvalue = [0, 12]'),\n",
              " Text(0.07167511963746027, 0.7159090909090909, 'x[0] <= 27036.0\\ngini = 0.444\\nsamples = 6\\nvalue = [4, 2]'),\n",
              " Text(0.07125870645147647, 0.6931818181818182, 'gini = 0.0\\nsamples = 4\\nvalue = [4, 0]'),\n",
              " Text(0.07209153282344406, 0.6931818181818182, 'gini = 0.0\\nsamples = 2\\nvalue = [0, 2]'),\n",
              " Text(0.07719259435174552, 0.7613636363636364, 'x[18] <= 4013.0\\ngini = 0.225\\nsamples = 62\\nvalue = [54, 8]'),\n",
              " Text(0.07635976797977793, 0.7386363636363636, 'x[15] <= 35.5\\ngini = 0.158\\nsamples = 58\\nvalue = [53, 5]'),\n",
              " Text(0.07594335479379415, 0.7159090909090909, 'x[5] <= 30.5\\ngini = 0.131\\nsamples = 57\\nvalue = [53, 4]'),\n",
              " Text(0.07552694160781034, 0.6931818181818182, 'x[11] <= -0.5\\ngini = 0.332\\nsamples = 19\\nvalue = [15, 4]'),\n",
              " Text(0.07511052842182656, 0.6704545454545454, 'x[16] <= 31447.0\\ngini = 0.208\\nsamples = 17\\nvalue = [15, 2]'),\n",
              " Text(0.07427770204985898, 0.6477272727272727, 'x[5] <= 23.5\\ngini = 0.124\\nsamples = 15\\nvalue = [14, 1]'),\n",
              " Text(0.07386128886387518, 0.625, 'x[21] <= 613.0\\ngini = 0.5\\nsamples = 2\\nvalue = [1, 1]'),\n",
              " Text(0.07344487567789139, 0.6022727272727273, 'gini = 0.0\\nsamples = 1\\nvalue = [1, 0]'),\n",
              " Text(0.07427770204985898, 0.6022727272727273, 'gini = 0.0\\nsamples = 1\\nvalue = [0, 1]'),\n",
              " Text(0.07469411523584277, 0.625, 'gini = 0.0\\nsamples = 13\\nvalue = [13, 0]'),\n",
              " Text(0.07594335479379415, 0.6477272727272727, 'x[0] <= 5910.0\\ngini = 0.5\\nsamples = 2\\nvalue = [1, 1]'),\n",
              " Text(0.07552694160781034, 0.625, 'gini = 0.0\\nsamples = 1\\nvalue = [0, 1]'),\n",
              " Text(0.07635976797977793, 0.625, 'gini = 0.0\\nsamples = 1\\nvalue = [1, 0]'),\n",
              " Text(0.07594335479379415, 0.6704545454545454, 'gini = 0.0\\nsamples = 2\\nvalue = [0, 2]'),\n",
              " Text(0.07635976797977793, 0.6931818181818182, 'gini = 0.0\\nsamples = 38\\nvalue = [38, 0]'),\n",
              " Text(0.07677618116576172, 0.7159090909090909, 'gini = 0.0\\nsamples = 1\\nvalue = [0, 1]'),\n",
              " Text(0.0780254207237131, 0.7386363636363636, 'x[19] <= 34217.5\\ngini = 0.375\\nsamples = 4\\nvalue = [1, 3]'),\n",
              " Text(0.07760900753772931, 0.7159090909090909, 'gini = 0.0\\nsamples = 3\\nvalue = [0, 3]'),\n",
              " Text(0.0784418339096969, 0.7159090909090909, 'gini = 0.0\\nsamples = 1\\nvalue = [1, 0]'),\n",
              " Text(0.08579412922472324, 0.8068181818181818, 'x[0] <= 15487.0\\ngini = 0.495\\nsamples = 202\\nvalue = [111, 91]'),\n",
              " Text(0.08187724269406318, 0.7840909090909091, 'x[22] <= 1415.0\\ngini = 0.499\\nsamples = 116\\nvalue = [55, 61]'),\n",
              " Text(0.08073210643260775, 0.7613636363636364, 'x[11] <= -1.5\\ngini = 0.492\\nsamples = 103\\nvalue = [45, 58]'),\n",
              " Text(0.08031569324662396, 0.7386363636363636, 'x[19] <= 2.0\\ngini = 0.499\\nsamples = 95\\nvalue = [45, 50]'),\n",
              " Text(0.07927466028166448, 0.7159090909090909, 'x[0] <= 13224.5\\ngini = 0.492\\nsamples = 87\\nvalue = [38, 49]'),\n",
              " Text(0.0784418339096969, 0.6931818181818182, 'x[0] <= 11317.5\\ngini = 0.498\\nsamples = 79\\nvalue = [37, 42]'),\n",
              " Text(0.0780254207237131, 0.6704545454545454, 'x[5] <= 27.5\\ngini = 0.489\\nsamples = 73\\nvalue = [31, 42]'),\n",
              " Text(0.07760900753772931, 0.6477272727272727, 'gini = 0.0\\nsamples = 3\\nvalue = [3, 0]'),\n",
              " Text(0.0784418339096969, 0.6477272727272727, 'x[5] <= 52.5\\ngini = 0.48\\nsamples = 70\\nvalue = [28, 42]'),\n",
              " Text(0.0780254207237131, 0.625, 'x[12] <= -3.0\\ngini = 0.472\\nsamples = 68\\nvalue = [26, 42]'),\n",
              " Text(0.076203613035034, 0.6022727272727273, 'x[0] <= 4558.5\\ngini = 0.444\\nsamples = 6\\nvalue = [4, 2]'),\n",
              " Text(0.07578719984905022, 0.5795454545454546, 'x[12] <= -599.0\\ngini = 0.444\\nsamples = 3\\nvalue = [1, 2]'),\n",
              " Text(0.07537078666306643, 0.5568181818181818, 'gini = 0.0\\nsamples = 1\\nvalue = [1, 0]'),\n",
              " Text(0.076203613035034, 0.5568181818181818, 'gini = 0.0\\nsamples = 2\\nvalue = [0, 2]'),\n",
              " Text(0.07662002622101781, 0.5795454545454546, 'gini = 0.0\\nsamples = 3\\nvalue = [3, 0]'),\n",
              " Text(0.0798472284123922, 0.6022727272727273, 'x[5] <= 32.5\\ngini = 0.458\\nsamples = 62\\nvalue = [22, 40]'),\n",
              " Text(0.07786926577896919, 0.5795454545454546, 'x[3] <= 1.5\\ngini = 0.5\\nsamples = 20\\nvalue = [10, 10]'),\n",
              " Text(0.0770364394070016, 0.5568181818181818, 'x[0] <= 6147.5\\ngini = 0.444\\nsamples = 12\\nvalue = [8, 4]'),\n",
              " Text(0.07662002622101781, 0.5340909090909091, 'gini = 0.0\\nsamples = 5\\nvalue = [5, 0]'),\n",
              " Text(0.07745285259298539, 0.5340909090909091, 'x[5] <= 30.5\\ngini = 0.49\\nsamples = 7\\nvalue = [3, 4]'),\n",
              " Text(0.0770364394070016, 0.5113636363636364, 'x[6] <= -0.5\\ngini = 0.375\\nsamples = 4\\nvalue = [3, 1]'),\n",
              " Text(0.07662002622101781, 0.48863636363636365, 'gini = 0.0\\nsamples = 1\\nvalue = [0, 1]'),\n",
              " Text(0.07745285259298539, 0.48863636363636365, 'gini = 0.0\\nsamples = 3\\nvalue = [3, 0]'),\n",
              " Text(0.07786926577896919, 0.5113636363636364, 'gini = 0.0\\nsamples = 3\\nvalue = [0, 3]'),\n",
              " Text(0.07870209215093676, 0.5568181818181818, 'x[0] <= 8096.5\\ngini = 0.375\\nsamples = 8\\nvalue = [2, 6]'),\n",
              " Text(0.07828567896495298, 0.5340909090909091, 'gini = 0.0\\nsamples = 6\\nvalue = [0, 6]'),\n",
              " Text(0.07911850533692055, 0.5340909090909091, 'gini = 0.0\\nsamples = 2\\nvalue = [2, 0]'),\n",
              " Text(0.0818251910458152, 0.5795454545454546, 'x[5] <= 46.5\\ngini = 0.408\\nsamples = 42\\nvalue = [12, 30]'),\n",
              " Text(0.08036774489487193, 0.5568181818181818, 'x[5] <= 35.5\\ngini = 0.342\\nsamples = 32\\nvalue = [7, 25]'),\n",
              " Text(0.07995133170888814, 0.5340909090909091, 'gini = 0.0\\nsamples = 5\\nvalue = [0, 5]'),\n",
              " Text(0.08078415808085573, 0.5340909090909091, 'x[5] <= 42.5\\ngini = 0.384\\nsamples = 27\\nvalue = [7, 20]'),\n",
              " Text(0.08036774489487193, 0.5113636363636364, 'x[0] <= 6103.5\\ngini = 0.423\\nsamples = 23\\nvalue = [7, 16]'),\n",
              " Text(0.07953491852290435, 0.48863636363636365, 'x[0] <= 2232.0\\ngini = 0.278\\nsamples = 12\\nvalue = [2, 10]'),\n",
              " Text(0.07911850533692055, 0.4659090909090909, 'x[2] <= 1.5\\ngini = 0.444\\nsamples = 6\\nvalue = [2, 4]'),\n",
              " Text(0.07870209215093676, 0.4431818181818182, 'x[1] <= 355000.0\\ngini = 0.32\\nsamples = 5\\nvalue = [1, 4]'),\n",
              " Text(0.07828567896495298, 0.42045454545454547, 'gini = 0.0\\nsamples = 1\\nvalue = [1, 0]'),\n",
              " Text(0.07911850533692055, 0.42045454545454547, 'gini = 0.0\\nsamples = 4\\nvalue = [0, 4]'),\n",
              " Text(0.07953491852290435, 0.4431818181818182, 'gini = 0.0\\nsamples = 1\\nvalue = [1, 0]'),\n",
              " Text(0.07995133170888814, 0.4659090909090909, 'gini = 0.0\\nsamples = 6\\nvalue = [0, 6]'),\n",
              " Text(0.08120057126683952, 0.48863636363636365, 'x[0] <= 10324.0\\ngini = 0.496\\nsamples = 11\\nvalue = [5, 6]'),\n",
              " Text(0.08078415808085573, 0.4659090909090909, 'x[3] <= 2.5\\ngini = 0.494\\nsamples = 9\\nvalue = [5, 4]'),\n",
              " Text(0.08036774489487193, 0.4431818181818182, 'x[1] <= 350000.0\\ngini = 0.469\\nsamples = 8\\nvalue = [5, 3]'),\n",
              " Text(0.07995133170888814, 0.42045454545454547, 'gini = 0.0\\nsamples = 1\\nvalue = [0, 1]'),\n",
              " Text(0.08078415808085573, 0.42045454545454547, 'x[1] <= 425000.0\\ngini = 0.408\\nsamples = 7\\nvalue = [5, 2]'),\n",
              " Text(0.08036774489487193, 0.3977272727272727, 'gini = 0.0\\nsamples = 3\\nvalue = [3, 0]'),\n",
              " Text(0.08120057126683952, 0.3977272727272727, 'x[5] <= 37.5\\ngini = 0.5\\nsamples = 4\\nvalue = [2, 2]'),\n",
              " Text(0.08078415808085573, 0.375, 'gini = 0.0\\nsamples = 1\\nvalue = [0, 1]'),\n",
              " Text(0.08161698445282331, 0.375, 'x[5] <= 41.0\\ngini = 0.444\\nsamples = 3\\nvalue = [2, 1]'),\n",
              " Text(0.08120057126683952, 0.3522727272727273, 'gini = 0.0\\nsamples = 2\\nvalue = [2, 0]'),\n",
              " Text(0.08203339763880711, 0.3522727272727273, 'gini = 0.0\\nsamples = 1\\nvalue = [0, 1]'),\n",
              " Text(0.08120057126683952, 0.4431818181818182, 'gini = 0.0\\nsamples = 1\\nvalue = [0, 1]'),\n",
              " Text(0.08161698445282331, 0.4659090909090909, 'gini = 0.0\\nsamples = 2\\nvalue = [0, 2]'),\n",
              " Text(0.08120057126683952, 0.5113636363636364, 'gini = 0.0\\nsamples = 4\\nvalue = [0, 4]'),\n",
              " Text(0.08328263719675848, 0.5568181818181818, 'x[6] <= -0.5\\ngini = 0.5\\nsamples = 10\\nvalue = [5, 5]'),\n",
              " Text(0.08286622401077469, 0.5340909090909091, 'gini = 0.0\\nsamples = 2\\nvalue = [0, 2]'),\n",
              " Text(0.08369905038274228, 0.5340909090909091, 'x[18] <= 1850.0\\ngini = 0.469\\nsamples = 8\\nvalue = [5, 3]'),\n",
              " Text(0.08328263719675848, 0.5113636363636364, 'x[0] <= 6845.5\\ngini = 0.408\\nsamples = 7\\nvalue = [5, 2]'),\n",
              " Text(0.08286622401077469, 0.48863636363636365, 'x[2] <= 1.5\\ngini = 0.5\\nsamples = 4\\nvalue = [2, 2]'),\n",
              " Text(0.0824498108247909, 0.4659090909090909, 'x[1] <= 545000.0\\ngini = 0.444\\nsamples = 3\\nvalue = [1, 2]'),\n",
              " Text(0.08203339763880711, 0.4431818181818182, 'gini = 0.0\\nsamples = 2\\nvalue = [0, 2]'),\n",
              " Text(0.08286622401077469, 0.4431818181818182, 'gini = 0.0\\nsamples = 1\\nvalue = [1, 0]'),\n",
              " Text(0.08328263719675848, 0.4659090909090909, 'gini = 0.0\\nsamples = 1\\nvalue = [1, 0]'),\n",
              " Text(0.08369905038274228, 0.48863636363636365, 'gini = 0.0\\nsamples = 3\\nvalue = [3, 0]'),\n",
              " Text(0.08411546356872607, 0.5113636363636364, 'gini = 0.0\\nsamples = 1\\nvalue = [0, 1]'),\n",
              " Text(0.07885824709568069, 0.625, 'gini = 0.0\\nsamples = 2\\nvalue = [2, 0]'),\n",
              " Text(0.07885824709568069, 0.6704545454545454, 'gini = 0.0\\nsamples = 6\\nvalue = [6, 0]'),\n",
              " Text(0.08010748665363207, 0.6931818181818182, 'x[3] <= 1.5\\ngini = 0.219\\nsamples = 8\\nvalue = [1, 7]'),\n",
              " Text(0.07969107346764827, 0.6704545454545454, 'gini = 0.0\\nsamples = 6\\nvalue = [0, 6]'),\n",
              " Text(0.08052389983961586, 0.6704545454545454, 'x[5] <= 49.5\\ngini = 0.5\\nsamples = 2\\nvalue = [1, 1]'),\n",
              " Text(0.08010748665363207, 0.6477272727272727, 'gini = 0.0\\nsamples = 1\\nvalue = [1, 0]'),\n",
              " Text(0.08094031302559965, 0.6477272727272727, 'gini = 0.0\\nsamples = 1\\nvalue = [0, 1]'),\n",
              " Text(0.08135672621158345, 0.7159090909090909, 'x[5] <= 46.0\\ngini = 0.219\\nsamples = 8\\nvalue = [7, 1]'),\n",
              " Text(0.08094031302559965, 0.6931818181818182, 'gini = 0.0\\nsamples = 7\\nvalue = [7, 0]'),\n",
              " Text(0.08177313939756724, 0.6931818181818182, 'gini = 0.0\\nsamples = 1\\nvalue = [0, 1]'),\n",
              " Text(0.08114851961859154, 0.7386363636363636, 'gini = 0.0\\nsamples = 8\\nvalue = [0, 8]'),\n",
              " Text(0.08302237895551862, 0.7613636363636364, 'x[5] <= 52.5\\ngini = 0.355\\nsamples = 13\\nvalue = [10, 3]'),\n",
              " Text(0.08260596576953481, 0.7386363636363636, 'x[16] <= -7.5\\ngini = 0.165\\nsamples = 11\\nvalue = [10, 1]'),\n",
              " Text(0.08218955258355103, 0.7159090909090909, 'gini = 0.0\\nsamples = 1\\nvalue = [0, 1]'),\n",
              " Text(0.08302237895551862, 0.7159090909090909, 'gini = 0.0\\nsamples = 10\\nvalue = [10, 0]'),\n",
              " Text(0.0834387921415024, 0.7386363636363636, 'gini = 0.0\\nsamples = 2\\nvalue = [0, 2]'),\n",
              " Text(0.08971101575538327, 0.7840909090909091, 'x[23] <= 0.5\\ngini = 0.454\\nsamples = 86\\nvalue = [56, 30]'),\n",
              " Text(0.08929460256939949, 0.7613636363636364, 'x[18] <= 519.0\\ngini = 0.444\\nsamples = 84\\nvalue = [56, 28]'),\n",
              " Text(0.08739471740834844, 0.7386363636363636, 'x[6] <= -1.5\\ngini = 0.471\\nsamples = 71\\nvalue = [44, 27]'),\n",
              " Text(0.0854688064231734, 0.7159090909090909, 'x[0] <= 27563.5\\ngini = 0.499\\nsamples = 42\\nvalue = [22, 20]'),\n",
              " Text(0.08432367016171796, 0.6931818181818182, 'x[1] <= 425000.0\\ngini = 0.493\\nsamples = 34\\nvalue = [15, 19]'),\n",
              " Text(0.08328263719675848, 0.6704545454545454, 'x[5] <= 30.5\\ngini = 0.459\\nsamples = 28\\nvalue = [10, 18]'),\n",
              " Text(0.0824498108247909, 0.6477272727272727, 'x[2] <= 1.5\\ngini = 0.469\\nsamples = 8\\nvalue = [5, 3]'),\n",
              " Text(0.08203339763880711, 0.625, 'gini = 0.0\\nsamples = 3\\nvalue = [3, 0]'),\n",
              " Text(0.08286622401077469, 0.625, 'x[1] <= 350000.0\\ngini = 0.48\\nsamples = 5\\nvalue = [2, 3]'),\n",
              " Text(0.0824498108247909, 0.6022727272727273, 'gini = 0.0\\nsamples = 1\\nvalue = [1, 0]'),\n",
              " Text(0.08328263719675848, 0.6022727272727273, 'x[0] <= 25753.0\\ngini = 0.375\\nsamples = 4\\nvalue = [1, 3]'),\n",
              " Text(0.08286622401077469, 0.5795454545454546, 'gini = 0.0\\nsamples = 3\\nvalue = [0, 3]'),\n",
              " Text(0.08369905038274228, 0.5795454545454546, 'gini = 0.0\\nsamples = 1\\nvalue = [1, 0]'),\n",
              " Text(0.08411546356872607, 0.6477272727272727, 'x[16] <= -2.5\\ngini = 0.375\\nsamples = 20\\nvalue = [5, 15]'),\n",
              " Text(0.08369905038274228, 0.625, 'gini = 0.0\\nsamples = 2\\nvalue = [2, 0]'),\n",
              " Text(0.08453187675470986, 0.625, 'x[3] <= 1.5\\ngini = 0.278\\nsamples = 18\\nvalue = [3, 15]'),\n",
              " Text(0.08411546356872607, 0.6022727272727273, 'gini = 0.0\\nsamples = 9\\nvalue = [0, 9]'),\n",
              " Text(0.08494828994069366, 0.6022727272727273, 'x[4] <= 1.5\\ngini = 0.444\\nsamples = 9\\nvalue = [3, 6]'),\n",
              " Text(0.08453187675470986, 0.5795454545454546, 'x[0] <= 25508.0\\ngini = 0.5\\nsamples = 6\\nvalue = [3, 3]'),\n",
              " Text(0.08411546356872607, 0.5568181818181818, 'gini = 0.0\\nsamples = 3\\nvalue = [3, 0]'),\n",
              " Text(0.08494828994069366, 0.5568181818181818, 'gini = 0.0\\nsamples = 3\\nvalue = [0, 3]'),\n",
              " Text(0.08536470312667745, 0.5795454545454546, 'gini = 0.0\\nsamples = 3\\nvalue = [0, 3]'),\n",
              " Text(0.08536470312667745, 0.6704545454545454, 'x[1] <= 480000.0\\ngini = 0.278\\nsamples = 6\\nvalue = [5, 1]'),\n",
              " Text(0.08494828994069366, 0.6477272727272727, 'gini = 0.0\\nsamples = 5\\nvalue = [5, 0]'),\n",
              " Text(0.08578111631266123, 0.6477272727272727, 'gini = 0.0\\nsamples = 1\\nvalue = [0, 1]'),\n",
              " Text(0.08661394268462883, 0.6931818181818182, 'x[5] <= 66.0\\ngini = 0.219\\nsamples = 8\\nvalue = [7, 1]'),\n",
              " Text(0.08619752949864504, 0.6704545454545454, 'gini = 0.0\\nsamples = 7\\nvalue = [7, 0]'),\n",
              " Text(0.08703035587061261, 0.6704545454545454, 'gini = 0.0\\nsamples = 1\\nvalue = [0, 1]'),\n",
              " Text(0.08932062839352348, 0.7159090909090909, 'x[1] <= 345000.0\\ngini = 0.366\\nsamples = 29\\nvalue = [22, 7]'),\n",
              " Text(0.08827959542856399, 0.6931818181818182, 'x[3] <= 1.5\\ngini = 0.375\\nsamples = 4\\nvalue = [1, 3]'),\n",
              " Text(0.0878631822425802, 0.6704545454545454, 'gini = 0.0\\nsamples = 3\\nvalue = [0, 3]'),\n",
              " Text(0.08869600861454778, 0.6704545454545454, 'gini = 0.0\\nsamples = 1\\nvalue = [1, 0]'),\n",
              " Text(0.09036166135848296, 0.6931818181818182, 'x[5] <= 46.5\\ngini = 0.269\\nsamples = 25\\nvalue = [21, 4]'),\n",
              " Text(0.08952883498651537, 0.6704545454545454, 'x[11] <= -0.5\\ngini = 0.165\\nsamples = 22\\nvalue = [20, 2]'),\n",
              " Text(0.08911242180053158, 0.6477272727272727, 'x[0] <= 28863.0\\ngini = 0.091\\nsamples = 21\\nvalue = [20, 1]'),\n",
              " Text(0.08869600861454778, 0.625, 'gini = 0.0\\nsamples = 19\\nvalue = [19, 0]'),\n",
              " Text(0.08952883498651537, 0.625, 'x[4] <= 1.5\\ngini = 0.5\\nsamples = 2\\nvalue = [1, 1]'),\n",
              " Text(0.08911242180053158, 0.6022727272727273, 'gini = 0.0\\nsamples = 1\\nvalue = [1, 0]'),\n",
              " Text(0.08994524817249916, 0.6022727272727273, 'gini = 0.0\\nsamples = 1\\nvalue = [0, 1]'),\n",
              " Text(0.08994524817249916, 0.6477272727272727, 'gini = 0.0\\nsamples = 1\\nvalue = [0, 1]'),\n",
              " Text(0.09119448773045054, 0.6704545454545454, 'x[1] <= 440000.0\\ngini = 0.444\\nsamples = 3\\nvalue = [1, 2]'),\n",
              " Text(0.09077807454446675, 0.6477272727272727, 'gini = 0.0\\nsamples = 2\\nvalue = [0, 2]'),\n",
              " Text(0.09161090091643433, 0.6477272727272727, 'gini = 0.0\\nsamples = 1\\nvalue = [1, 0]'),\n",
              " Text(0.09119448773045054, 0.7386363636363636, 'x[18] <= 7926.0\\ngini = 0.142\\nsamples = 13\\nvalue = [12, 1]'),\n",
              " Text(0.09077807454446675, 0.7159090909090909, 'gini = 0.0\\nsamples = 11\\nvalue = [11, 0]'),\n",
              " Text(0.09161090091643433, 0.7159090909090909, 'x[14] <= 33229.0\\ngini = 0.5\\nsamples = 2\\nvalue = [1, 1]'),\n",
              " Text(0.09119448773045054, 0.6931818181818182, 'gini = 0.0\\nsamples = 1\\nvalue = [0, 1]'),\n",
              " Text(0.09202731410241813, 0.6931818181818182, 'gini = 0.0\\nsamples = 1\\nvalue = [1, 0]'),\n",
              " Text(0.09012742894136708, 0.7613636363636364, 'gini = 0.0\\nsamples = 2\\nvalue = [0, 2]'),\n",
              " Text(0.0988916252151197, 0.8295454545454546, 'x[12] <= 350.5\\ngini = 0.304\\nsamples = 300\\nvalue = [244, 56]'),\n",
              " Text(0.09680305282916975, 0.8068181818181818, 'x[23] <= 7398.5\\ngini = 0.269\\nsamples = 268\\nvalue = [225, 43]'),\n",
              " Text(0.09595721354514017, 0.7840909090909091, 'x[5] <= 59.0\\ngini = 0.307\\nsamples = 222\\nvalue = [180, 42]'),\n",
              " Text(0.09554080035915637, 0.7613636363636364, 'x[13] <= -694.0\\ngini = 0.298\\nsamples = 220\\nvalue = [180, 40]'),\n",
              " Text(0.09426553497708101, 0.7386363636363636, 'x[0] <= 24451.0\\ngini = 0.375\\nsamples = 4\\nvalue = [1, 3]'),\n",
              " Text(0.09384912179109722, 0.7159090909090909, 'gini = 0.0\\nsamples = 3\\nvalue = [0, 3]'),\n",
              " Text(0.0946819481630648, 0.7159090909090909, 'gini = 0.0\\nsamples = 1\\nvalue = [1, 0]'),\n",
              " Text(0.09681606574123174, 0.7386363636363636, 'x[21] <= 50028.5\\ngini = 0.284\\nsamples = 216\\nvalue = [179, 37]'),\n",
              " Text(0.09551477453503239, 0.7159090909090909, 'x[21] <= 705.0\\ngini = 0.27\\nsamples = 211\\nvalue = [177, 34]'),\n",
              " Text(0.09416143168058506, 0.6931818181818182, 'x[21] <= 688.0\\ngini = 0.336\\nsamples = 145\\nvalue = [114, 31]'),\n",
              " Text(0.09374501849460126, 0.6704545454545454, 'x[12] <= 73.0\\ngini = 0.323\\nsamples = 143\\nvalue = [114, 29]'),\n",
              " Text(0.09332860530861747, 0.6477272727272727, 'x[12] <= 6.0\\ngini = 0.354\\nsamples = 126\\nvalue = [97, 29]'),\n",
              " Text(0.09291219212263369, 0.625, 'x[12] <= -2.0\\ngini = 0.341\\nsamples = 124\\nvalue = [97, 27]'),\n",
              " Text(0.0924957789366499, 0.6022727272727273, 'gini = 0.0\\nsamples = 14\\nvalue = [14, 0]'),\n",
              " Text(0.09332860530861747, 0.6022727272727273, 'x[1] <= 370000.0\\ngini = 0.37\\nsamples = 110\\nvalue = [83, 27]'),\n",
              " Text(0.09291219212263369, 0.5795454545454546, 'x[1] <= 70000.0\\ngini = 0.397\\nsamples = 99\\nvalue = [72, 27]'),\n",
              " Text(0.0920793657506661, 0.5568181818181818, 'x[23] <= 4175.5\\ngini = 0.124\\nsamples = 15\\nvalue = [14, 1]'),\n",
              " Text(0.0916629525646823, 0.5340909090909091, 'gini = 0.0\\nsamples = 14\\nvalue = [14, 0]'),\n",
              " Text(0.0924957789366499, 0.5340909090909091, 'gini = 0.0\\nsamples = 1\\nvalue = [0, 1]'),\n",
              " Text(0.09374501849460126, 0.5568181818181818, 'x[15] <= 367.0\\ngini = 0.427\\nsamples = 84\\nvalue = [58, 26]'),\n",
              " Text(0.09332860530861747, 0.5340909090909091, 'x[23] <= 6595.5\\ngini = 0.421\\nsamples = 83\\nvalue = [58, 25]'),\n",
              " Text(0.09291219212263369, 0.5113636363636364, 'x[22] <= 1135.0\\ngini = 0.414\\nsamples = 82\\nvalue = [58, 24]'),\n",
              " Text(0.0908821778409627, 0.48863636363636365, 'x[22] <= 180.0\\ngini = 0.444\\nsamples = 69\\nvalue = [46, 23]'),\n",
              " Text(0.0880713888355721, 0.4659090909090909, 'x[4] <= 1.5\\ngini = 0.393\\nsamples = 52\\nvalue = [38, 14]'),\n",
              " Text(0.08619752949864504, 0.4431818181818182, 'x[5] <= 40.5\\ngini = 0.466\\nsamples = 27\\nvalue = [17, 10]'),\n",
              " Text(0.08494828994069366, 0.42045454545454547, 'x[1] <= 225000.0\\ngini = 0.5\\nsamples = 16\\nvalue = [8, 8]'),\n",
              " Text(0.08453187675470986, 0.3977272727272727, 'x[0] <= 17931.0\\ngini = 0.473\\nsamples = 13\\nvalue = [8, 5]'),\n",
              " Text(0.08328263719675848, 0.375, 'x[5] <= 37.5\\ngini = 0.245\\nsamples = 7\\nvalue = [6, 1]'),\n",
              " Text(0.08286622401077469, 0.3522727272727273, 'gini = 0.0\\nsamples = 5\\nvalue = [5, 0]'),\n",
              " Text(0.08369905038274228, 0.3522727272727273, 'x[0] <= 5093.5\\ngini = 0.5\\nsamples = 2\\nvalue = [1, 1]'),\n",
              " Text(0.08328263719675848, 0.32954545454545453, 'gini = 0.0\\nsamples = 1\\nvalue = [1, 0]'),\n",
              " Text(0.08411546356872607, 0.32954545454545453, 'gini = 0.0\\nsamples = 1\\nvalue = [0, 1]'),\n",
              " Text(0.08578111631266123, 0.375, 'x[5] <= 34.0\\ngini = 0.444\\nsamples = 6\\nvalue = [2, 4]'),\n",
              " Text(0.08536470312667745, 0.3522727272727273, 'x[3] <= 1.5\\ngini = 0.444\\nsamples = 3\\nvalue = [2, 1]'),\n",
              " Text(0.08494828994069366, 0.32954545454545453, 'gini = 0.0\\nsamples = 2\\nvalue = [2, 0]'),\n",
              " Text(0.08578111631266123, 0.32954545454545453, 'gini = 0.0\\nsamples = 1\\nvalue = [0, 1]'),\n",
              " Text(0.08619752949864504, 0.3522727272727273, 'gini = 0.0\\nsamples = 3\\nvalue = [0, 3]'),\n",
              " Text(0.08536470312667745, 0.3977272727272727, 'gini = 0.0\\nsamples = 3\\nvalue = [0, 3]'),\n",
              " Text(0.0874467690565964, 0.42045454545454547, 'x[6] <= -0.5\\ngini = 0.298\\nsamples = 11\\nvalue = [9, 2]'),\n",
              " Text(0.08703035587061261, 0.3977272727272727, 'x[5] <= 52.0\\ngini = 0.444\\nsamples = 3\\nvalue = [1, 2]'),\n",
              " Text(0.08661394268462883, 0.375, 'gini = 0.0\\nsamples = 2\\nvalue = [0, 2]'),\n",
              " Text(0.0874467690565964, 0.375, 'gini = 0.0\\nsamples = 1\\nvalue = [1, 0]'),\n",
              " Text(0.0878631822425802, 0.3977272727272727, 'gini = 0.0\\nsamples = 8\\nvalue = [8, 0]'),\n",
              " Text(0.08994524817249916, 0.4431818181818182, 'x[5] <= 27.5\\ngini = 0.269\\nsamples = 25\\nvalue = [21, 4]'),\n",
              " Text(0.08911242180053158, 0.42045454545454547, 'x[23] <= 810.0\\ngini = 0.5\\nsamples = 4\\nvalue = [2, 2]'),\n",
              " Text(0.08869600861454778, 0.3977272727272727, 'gini = 0.0\\nsamples = 2\\nvalue = [2, 0]'),\n",
              " Text(0.08952883498651537, 0.3977272727272727, 'gini = 0.0\\nsamples = 2\\nvalue = [0, 2]'),\n",
              " Text(0.09077807454446675, 0.42045454545454547, 'x[1] <= 100000.0\\ngini = 0.172\\nsamples = 21\\nvalue = [19, 2]'),\n",
              " Text(0.09036166135848296, 0.3977272727272727, 'gini = 0.0\\nsamples = 1\\nvalue = [0, 1]'),\n",
              " Text(0.09119448773045054, 0.3977272727272727, 'x[23] <= 248.0\\ngini = 0.095\\nsamples = 20\\nvalue = [19, 1]'),\n",
              " Text(0.09077807454446675, 0.375, 'x[14] <= 490.0\\ngini = 0.5\\nsamples = 2\\nvalue = [1, 1]'),\n",
              " Text(0.09036166135848296, 0.3522727272727273, 'gini = 0.0\\nsamples = 1\\nvalue = [0, 1]'),\n",
              " Text(0.09119448773045054, 0.3522727272727273, 'gini = 0.0\\nsamples = 1\\nvalue = [1, 0]'),\n",
              " Text(0.09161090091643433, 0.375, 'gini = 0.0\\nsamples = 18\\nvalue = [18, 0]'),\n",
              " Text(0.0936929668463533, 0.4659090909090909, 'x[1] <= 165000.0\\ngini = 0.498\\nsamples = 17\\nvalue = [8, 9]'),\n",
              " Text(0.0928601404743857, 0.4431818181818182, 'x[4] <= 1.5\\ngini = 0.375\\nsamples = 8\\nvalue = [6, 2]'),\n",
              " Text(0.09244372728840192, 0.42045454545454547, 'x[22] <= 405.5\\ngini = 0.444\\nsamples = 3\\nvalue = [1, 2]'),\n",
              " Text(0.09202731410241813, 0.3977272727272727, 'gini = 0.0\\nsamples = 1\\nvalue = [1, 0]'),\n",
              " Text(0.0928601404743857, 0.3977272727272727, 'gini = 0.0\\nsamples = 2\\nvalue = [0, 2]'),\n",
              " Text(0.09327655366036951, 0.42045454545454547, 'gini = 0.0\\nsamples = 5\\nvalue = [5, 0]'),\n",
              " Text(0.09452579321832087, 0.4431818181818182, 'x[2] <= 1.5\\ngini = 0.346\\nsamples = 9\\nvalue = [2, 7]'),\n",
              " Text(0.09410938003233708, 0.42045454545454547, 'x[1] <= 240000.0\\ngini = 0.444\\nsamples = 3\\nvalue = [2, 1]'),\n",
              " Text(0.0936929668463533, 0.3977272727272727, 'gini = 0.0\\nsamples = 1\\nvalue = [0, 1]'),\n",
              " Text(0.09452579321832087, 0.3977272727272727, 'gini = 0.0\\nsamples = 2\\nvalue = [2, 0]'),\n",
              " Text(0.09494220640430467, 0.42045454545454547, 'gini = 0.0\\nsamples = 6\\nvalue = [0, 6]'),\n",
              " Text(0.09494220640430467, 0.48863636363636365, 'x[15] <= 162.5\\ngini = 0.142\\nsamples = 13\\nvalue = [12, 1]'),\n",
              " Text(0.09452579321832087, 0.4659090909090909, 'gini = 0.0\\nsamples = 12\\nvalue = [12, 0]'),\n",
              " Text(0.09535861959028846, 0.4659090909090909, 'gini = 0.0\\nsamples = 1\\nvalue = [0, 1]'),\n",
              " Text(0.09374501849460126, 0.5113636363636364, 'gini = 0.0\\nsamples = 1\\nvalue = [0, 1]'),\n",
              " Text(0.09416143168058506, 0.5340909090909091, 'gini = 0.0\\nsamples = 1\\nvalue = [0, 1]'),\n",
              " Text(0.09374501849460126, 0.5795454545454546, 'gini = 0.0\\nsamples = 11\\nvalue = [11, 0]'),\n",
              " Text(0.09374501849460126, 0.625, 'gini = 0.0\\nsamples = 2\\nvalue = [0, 2]'),\n",
              " Text(0.09416143168058506, 0.6477272727272727, 'gini = 0.0\\nsamples = 17\\nvalue = [17, 0]'),\n",
              " Text(0.09457784486656885, 0.6704545454545454, 'gini = 0.0\\nsamples = 2\\nvalue = [0, 2]'),\n",
              " Text(0.09686811738947972, 0.6931818181818182, 'x[15] <= 241.0\\ngini = 0.087\\nsamples = 66\\nvalue = [63, 3]'),\n",
              " Text(0.09582708442452023, 0.6704545454545454, 'x[5] <= 25.5\\ngini = 0.061\\nsamples = 64\\nvalue = [62, 2]'),\n",
              " Text(0.09499425805255264, 0.6477272727272727, 'x[18] <= 420.0\\ngini = 0.32\\nsamples = 5\\nvalue = [4, 1]'),\n",
              " Text(0.09457784486656885, 0.625, 'gini = 0.0\\nsamples = 4\\nvalue = [4, 0]'),\n",
              " Text(0.09541067123853644, 0.625, 'gini = 0.0\\nsamples = 1\\nvalue = [0, 1]'),\n",
              " Text(0.09665991079648782, 0.6477272727272727, 'x[22] <= 3635.0\\ngini = 0.033\\nsamples = 59\\nvalue = [58, 1]'),\n",
              " Text(0.09624349761050402, 0.625, 'gini = 0.0\\nsamples = 46\\nvalue = [46, 0]'),\n",
              " Text(0.09707632398247161, 0.625, 'x[22] <= 4190.0\\ngini = 0.142\\nsamples = 13\\nvalue = [12, 1]'),\n",
              " Text(0.09665991079648782, 0.6022727272727273, 'gini = 0.0\\nsamples = 1\\nvalue = [0, 1]'),\n",
              " Text(0.0974927371684554, 0.6022727272727273, 'gini = 0.0\\nsamples = 12\\nvalue = [12, 0]'),\n",
              " Text(0.09790915035443919, 0.6704545454545454, 'x[12] <= 154.0\\ngini = 0.5\\nsamples = 2\\nvalue = [1, 1]'),\n",
              " Text(0.0974927371684554, 0.6477272727272727, 'gini = 0.0\\nsamples = 1\\nvalue = [0, 1]'),\n",
              " Text(0.09832556354042299, 0.6477272727272727, 'gini = 0.0\\nsamples = 1\\nvalue = [1, 0]'),\n",
              " Text(0.0981173569474311, 0.7159090909090909, 'x[4] <= 1.5\\ngini = 0.48\\nsamples = 5\\nvalue = [2, 3]'),\n",
              " Text(0.09770094376144729, 0.6931818181818182, 'gini = 0.0\\nsamples = 3\\nvalue = [0, 3]'),\n",
              " Text(0.09853377013341488, 0.6931818181818182, 'gini = 0.0\\nsamples = 2\\nvalue = [2, 0]'),\n",
              " Text(0.09637362673112396, 0.7613636363636364, 'gini = 0.0\\nsamples = 2\\nvalue = [0, 2]'),\n",
              " Text(0.09764889211319933, 0.7840909090909091, 'x[1] <= 490000.0\\ngini = 0.043\\nsamples = 46\\nvalue = [45, 1]'),\n",
              " Text(0.09723247892721552, 0.7613636363636364, 'gini = 0.0\\nsamples = 39\\nvalue = [39, 0]'),\n",
              " Text(0.09806530529918311, 0.7613636363636364, 'x[19] <= 582.0\\ngini = 0.245\\nsamples = 7\\nvalue = [6, 1]'),\n",
              " Text(0.09764889211319933, 0.7386363636363636, 'gini = 0.0\\nsamples = 6\\nvalue = [6, 0]'),\n",
              " Text(0.0984817184851669, 0.7386363636363636, 'gini = 0.0\\nsamples = 1\\nvalue = [0, 1]'),\n",
              " Text(0.10098019760106966, 0.8068181818181818, 'x[5] <= 37.5\\ngini = 0.482\\nsamples = 32\\nvalue = [19, 13]'),\n",
              " Text(0.10014737122910208, 0.7840909090909091, 'x[14] <= 1830.0\\ngini = 0.475\\nsamples = 18\\nvalue = [7, 11]'),\n",
              " Text(0.09973095804311828, 0.7613636363636364, 'x[23] <= 375.0\\ngini = 0.337\\nsamples = 14\\nvalue = [3, 11]'),\n",
              " Text(0.09931454485713449, 0.7386363636363636, 'gini = 0.0\\nsamples = 2\\nvalue = [2, 0]'),\n",
              " Text(0.10014737122910208, 0.7386363636363636, 'x[23] <= 2619.0\\ngini = 0.153\\nsamples = 12\\nvalue = [1, 11]'),\n",
              " Text(0.09973095804311828, 0.7159090909090909, 'gini = 0.0\\nsamples = 9\\nvalue = [0, 9]'),\n",
              " Text(0.10056378441508587, 0.7159090909090909, 'x[2] <= 1.5\\ngini = 0.444\\nsamples = 3\\nvalue = [1, 2]'),\n",
              " Text(0.10014737122910208, 0.6931818181818182, 'gini = 0.0\\nsamples = 2\\nvalue = [0, 2]'),\n",
              " Text(0.10098019760106966, 0.6931818181818182, 'gini = 0.0\\nsamples = 1\\nvalue = [1, 0]'),\n",
              " Text(0.10056378441508587, 0.7613636363636364, 'gini = 0.0\\nsamples = 4\\nvalue = [4, 0]'),\n",
              " Text(0.10181302397303725, 0.7840909090909091, 'x[0] <= 4399.0\\ngini = 0.245\\nsamples = 14\\nvalue = [12, 2]'),\n",
              " Text(0.10139661078705345, 0.7613636363636364, 'x[18] <= 190.5\\ngini = 0.444\\nsamples = 3\\nvalue = [1, 2]'),\n",
              " Text(0.10098019760106966, 0.7386363636363636, 'gini = 0.0\\nsamples = 1\\nvalue = [1, 0]'),\n",
              " Text(0.10181302397303725, 0.7386363636363636, 'gini = 0.0\\nsamples = 2\\nvalue = [0, 2]'),\n",
              " Text(0.10222943715902104, 0.7613636363636364, 'gini = 0.0\\nsamples = 11\\nvalue = [11, 0]'),\n",
              " Text(0.10774691187330629, 0.8522727272727273, 'x[1] <= 320000.0\\ngini = 0.5\\nsamples = 92\\nvalue = [47, 45]'),\n",
              " Text(0.1073304986873225, 0.8295454545454546, 'x[1] <= 145000.0\\ngini = 0.496\\nsamples = 86\\nvalue = [47, 39]'),\n",
              " Text(0.1047279162749238, 0.8068181818181818, 'x[13] <= 324.0\\ngini = 0.487\\nsamples = 43\\nvalue = [18, 25]'),\n",
              " Text(0.10347867671697242, 0.7840909090909091, 'x[17] <= 52850.5\\ngini = 0.26\\nsamples = 13\\nvalue = [2, 11]'),\n",
              " Text(0.10306226353098863, 0.7613636363636364, 'x[0] <= 2789.5\\ngini = 0.153\\nsamples = 12\\nvalue = [1, 11]'),\n",
              " Text(0.10264585034500483, 0.7386363636363636, 'x[2] <= 1.5\\ngini = 0.5\\nsamples = 2\\nvalue = [1, 1]'),\n",
              " Text(0.10222943715902104, 0.7159090909090909, 'gini = 0.0\\nsamples = 1\\nvalue = [0, 1]'),\n",
              " Text(0.10306226353098863, 0.7159090909090909, 'gini = 0.0\\nsamples = 1\\nvalue = [1, 0]'),\n",
              " Text(0.10347867671697242, 0.7386363636363636, 'gini = 0.0\\nsamples = 10\\nvalue = [0, 10]'),\n",
              " Text(0.1038950899029562, 0.7613636363636364, 'gini = 0.0\\nsamples = 1\\nvalue = [1, 0]'),\n",
              " Text(0.10597715583287518, 0.7840909090909091, 'x[19] <= 3650.0\\ngini = 0.498\\nsamples = 30\\nvalue = [16, 14]'),\n",
              " Text(0.10556074264689137, 0.7613636363636364, 'x[19] <= 1600.5\\ngini = 0.486\\nsamples = 24\\nvalue = [10, 14]'),\n",
              " Text(0.10514432946090758, 0.7386363636363636, 'x[18] <= 982.0\\ngini = 0.499\\nsamples = 19\\nvalue = [10, 9]'),\n",
              " Text(0.1038950899029562, 0.7159090909090909, 'x[2] <= 1.5\\ngini = 0.346\\nsamples = 9\\nvalue = [7, 2]'),\n",
              " Text(0.10347867671697242, 0.6931818181818182, 'gini = 0.0\\nsamples = 6\\nvalue = [6, 0]'),\n",
              " Text(0.10431150308894, 0.6931818181818182, 'x[23] <= 195.0\\ngini = 0.444\\nsamples = 3\\nvalue = [1, 2]'),\n",
              " Text(0.1038950899029562, 0.6704545454545454, 'gini = 0.0\\nsamples = 1\\nvalue = [1, 0]'),\n",
              " Text(0.1047279162749238, 0.6704545454545454, 'gini = 0.0\\nsamples = 2\\nvalue = [0, 2]'),\n",
              " Text(0.10639356901885896, 0.7159090909090909, 'x[19] <= 1066.5\\ngini = 0.42\\nsamples = 10\\nvalue = [3, 7]'),\n",
              " Text(0.10597715583287518, 0.6931818181818182, 'x[13] <= 49401.5\\ngini = 0.219\\nsamples = 8\\nvalue = [1, 7]'),\n",
              " Text(0.10556074264689137, 0.6704545454545454, 'gini = 0.0\\nsamples = 7\\nvalue = [0, 7]'),\n",
              " Text(0.10639356901885896, 0.6704545454545454, 'gini = 0.0\\nsamples = 1\\nvalue = [1, 0]'),\n",
              " Text(0.10680998220484275, 0.6931818181818182, 'gini = 0.0\\nsamples = 2\\nvalue = [2, 0]'),\n",
              " Text(0.10597715583287518, 0.7386363636363636, 'gini = 0.0\\nsamples = 5\\nvalue = [0, 5]'),\n",
              " Text(0.10639356901885896, 0.7613636363636364, 'gini = 0.0\\nsamples = 6\\nvalue = [6, 0]'),\n",
              " Text(0.10993308109972119, 0.8068181818181818, 'x[14] <= 5398.0\\ngini = 0.439\\nsamples = 43\\nvalue = [29, 14]'),\n",
              " Text(0.10910025472775361, 0.7840909090909091, 'x[14] <= 4196.0\\ngini = 0.495\\nsamples = 29\\nvalue = [16, 13]'),\n",
              " Text(0.10868384154176983, 0.7613636363636364, 'x[15] <= 775.0\\ngini = 0.461\\nsamples = 25\\nvalue = [16, 9]'),\n",
              " Text(0.10764280857681034, 0.7386363636363636, 'x[0] <= 14715.5\\ngini = 0.444\\nsamples = 6\\nvalue = [2, 4]'),\n",
              " Text(0.10722639539082655, 0.7159090909090909, 'gini = 0.0\\nsamples = 4\\nvalue = [0, 4]'),\n",
              " Text(0.10805922176279413, 0.7159090909090909, 'gini = 0.0\\nsamples = 2\\nvalue = [2, 0]'),\n",
              " Text(0.1097248745067293, 0.7386363636363636, 'x[7] <= -1.5\\ngini = 0.388\\nsamples = 19\\nvalue = [14, 5]'),\n",
              " Text(0.10889204813476172, 0.7159090909090909, 'x[19] <= 3560.5\\ngini = 0.444\\nsamples = 6\\nvalue = [2, 4]'),\n",
              " Text(0.10847563494877792, 0.6931818181818182, 'gini = 0.0\\nsamples = 4\\nvalue = [0, 4]'),\n",
              " Text(0.10930846132074551, 0.6931818181818182, 'gini = 0.0\\nsamples = 2\\nvalue = [2, 0]'),\n",
              " Text(0.11055770087869689, 0.7159090909090909, 'x[16] <= -498.5\\ngini = 0.142\\nsamples = 13\\nvalue = [12, 1]'),\n",
              " Text(0.1101412876927131, 0.6931818181818182, 'gini = 0.0\\nsamples = 1\\nvalue = [0, 1]'),\n",
              " Text(0.11097411406468068, 0.6931818181818182, 'gini = 0.0\\nsamples = 12\\nvalue = [12, 0]'),\n",
              " Text(0.1095166679137374, 0.7613636363636364, 'gini = 0.0\\nsamples = 4\\nvalue = [0, 4]'),\n",
              " Text(0.11076590747168878, 0.7840909090909091, 'x[0] <= 931.0\\ngini = 0.133\\nsamples = 14\\nvalue = [13, 1]'),\n",
              " Text(0.110349494285705, 0.7613636363636364, 'gini = 0.0\\nsamples = 1\\nvalue = [0, 1]'),\n",
              " Text(0.11118232065767257, 0.7613636363636364, 'gini = 0.0\\nsamples = 13\\nvalue = [13, 0]'),\n",
              " Text(0.10816332505929008, 0.8295454545454546, 'gini = 0.0\\nsamples = 6\\nvalue = [0, 6]'),\n",
              " Text(0.12567545146671785, 0.875, 'x[1] <= 115000.0\\ngini = 0.326\\nsamples = 555\\nvalue = [441, 114]'),\n",
              " Text(0.11732441515093352, 0.8522727272727273, 'x[19] <= 398.0\\ngini = 0.441\\nsamples = 143\\nvalue = [96, 47]'),\n",
              " Text(0.11472183273853481, 0.8295454545454546, 'x[14] <= 39.0\\ngini = 0.487\\nsamples = 100\\nvalue = [58, 42]'),\n",
              " Text(0.11284797340160775, 0.8068181818181818, 'x[0] <= 26832.0\\ngini = 0.337\\nsamples = 28\\nvalue = [22, 6]'),\n",
              " Text(0.11243156021562395, 0.7840909090909091, 'x[20] <= 41.5\\ngini = 0.26\\nsamples = 26\\nvalue = [22, 4]'),\n",
              " Text(0.11201514702964016, 0.7613636363636364, 'gini = 0.0\\nsamples = 1\\nvalue = [0, 1]'),\n",
              " Text(0.11284797340160775, 0.7613636363636364, 'x[0] <= 1999.0\\ngini = 0.211\\nsamples = 25\\nvalue = [22, 3]'),\n",
              " Text(0.11243156021562395, 0.7386363636363636, 'gini = 0.0\\nsamples = 1\\nvalue = [0, 1]'),\n",
              " Text(0.11326438658759154, 0.7386363636363636, 'x[22] <= 1867.0\\ngini = 0.153\\nsamples = 24\\nvalue = [22, 2]'),\n",
              " Text(0.11243156021562395, 0.7159090909090909, 'x[5] <= 26.5\\ngini = 0.087\\nsamples = 22\\nvalue = [21, 1]'),\n",
              " Text(0.11201514702964016, 0.6931818181818182, 'x[15] <= 762.5\\ngini = 0.245\\nsamples = 7\\nvalue = [6, 1]'),\n",
              " Text(0.11159873384365637, 0.6704545454545454, 'gini = 0.0\\nsamples = 5\\nvalue = [5, 0]'),\n",
              " Text(0.11243156021562395, 0.6704545454545454, 'x[1] <= 35000.0\\ngini = 0.5\\nsamples = 2\\nvalue = [1, 1]'),\n",
              " Text(0.11201514702964016, 0.6477272727272727, 'gini = 0.0\\nsamples = 1\\nvalue = [1, 0]'),\n",
              " Text(0.11284797340160775, 0.6477272727272727, 'gini = 0.0\\nsamples = 1\\nvalue = [0, 1]'),\n",
              " Text(0.11284797340160775, 0.6931818181818182, 'gini = 0.0\\nsamples = 15\\nvalue = [15, 0]'),\n",
              " Text(0.11409721295955912, 0.7159090909090909, 'x[3] <= 1.5\\ngini = 0.5\\nsamples = 2\\nvalue = [1, 1]'),\n",
              " Text(0.11368079977357533, 0.6931818181818182, 'gini = 0.0\\nsamples = 1\\nvalue = [1, 0]'),\n",
              " Text(0.11451362614554292, 0.6931818181818182, 'gini = 0.0\\nsamples = 1\\nvalue = [0, 1]'),\n",
              " Text(0.11326438658759154, 0.7840909090909091, 'gini = 0.0\\nsamples = 2\\nvalue = [0, 2]'),\n",
              " Text(0.11659569207546187, 0.8068181818181818, 'x[14] <= 329.5\\ngini = 0.5\\nsamples = 72\\nvalue = [36, 36]'),\n",
              " Text(0.1153464525175105, 0.7840909090909091, 'x[12] <= 303.5\\ngini = 0.42\\nsamples = 20\\nvalue = [6, 14]'),\n",
              " Text(0.1149300393315267, 0.7613636363636364, 'x[21] <= 140.0\\ngini = 0.496\\nsamples = 11\\nvalue = [6, 5]'),\n",
              " Text(0.11451362614554292, 0.7386363636363636, 'gini = 0.0\\nsamples = 4\\nvalue = [0, 4]'),\n",
              " Text(0.1153464525175105, 0.7386363636363636, 'x[23] <= 72.0\\ngini = 0.245\\nsamples = 7\\nvalue = [6, 1]'),\n",
              " Text(0.1149300393315267, 0.7159090909090909, 'gini = 0.0\\nsamples = 1\\nvalue = [0, 1]'),\n",
              " Text(0.1157628657034943, 0.7159090909090909, 'gini = 0.0\\nsamples = 6\\nvalue = [6, 0]'),\n",
              " Text(0.1157628657034943, 0.7613636363636364, 'gini = 0.0\\nsamples = 9\\nvalue = [0, 9]'),\n",
              " Text(0.11784493163341325, 0.7840909090909091, 'x[13] <= 1427.0\\ngini = 0.488\\nsamples = 52\\nvalue = [30, 22]'),\n",
              " Text(0.11742851844742946, 0.7613636363636364, 'x[14] <= 393.0\\ngini = 0.499\\nsamples = 46\\nvalue = [24, 22]'),\n",
              " Text(0.11701210526144568, 0.7386363636363636, 'x[21] <= 990.0\\ngini = 0.49\\nsamples = 42\\nvalue = [24, 18]'),\n",
              " Text(0.11659569207546187, 0.7159090909090909, 'x[0] <= 27205.5\\ngini = 0.499\\nsamples = 38\\nvalue = [20, 18]'),\n",
              " Text(0.11617927888947809, 0.6931818181818182, 'x[5] <= 45.5\\ngini = 0.484\\nsamples = 34\\nvalue = [20, 14]'),\n",
              " Text(0.1151382459245186, 0.6704545454545454, 'x[0] <= 17747.5\\ngini = 0.413\\nsamples = 24\\nvalue = [17, 7]'),\n",
              " Text(0.11472183273853481, 0.6477272727272727, 'x[5] <= 24.5\\ngini = 0.498\\nsamples = 15\\nvalue = [8, 7]'),\n",
              " Text(0.11388900636656722, 0.625, 'x[18] <= 633.5\\ngini = 0.278\\nsamples = 6\\nvalue = [5, 1]'),\n",
              " Text(0.11347259318058343, 0.6022727272727273, 'gini = 0.0\\nsamples = 5\\nvalue = [5, 0]'),\n",
              " Text(0.11430541955255102, 0.6022727272727273, 'gini = 0.0\\nsamples = 1\\nvalue = [0, 1]'),\n",
              " Text(0.1155546591105024, 0.625, 'x[5] <= 41.0\\ngini = 0.444\\nsamples = 9\\nvalue = [3, 6]'),\n",
              " Text(0.1151382459245186, 0.6022727272727273, 'x[16] <= 660.0\\ngini = 0.245\\nsamples = 7\\nvalue = [1, 6]'),\n",
              " Text(0.11472183273853481, 0.5795454545454546, 'gini = 0.0\\nsamples = 6\\nvalue = [0, 6]'),\n",
              " Text(0.1155546591105024, 0.5795454545454546, 'gini = 0.0\\nsamples = 1\\nvalue = [1, 0]'),\n",
              " Text(0.11597107229648619, 0.6022727272727273, 'gini = 0.0\\nsamples = 2\\nvalue = [2, 0]'),\n",
              " Text(0.1155546591105024, 0.6477272727272727, 'gini = 0.0\\nsamples = 9\\nvalue = [9, 0]'),\n",
              " Text(0.11722031185443757, 0.6704545454545454, 'x[1] <= 55000.0\\ngini = 0.42\\nsamples = 10\\nvalue = [3, 7]'),\n",
              " Text(0.11680389866845377, 0.6477272727272727, 'x[0] <= 8767.0\\ngini = 0.375\\nsamples = 4\\nvalue = [3, 1]'),\n",
              " Text(0.11638748548246998, 0.625, 'gini = 0.0\\nsamples = 1\\nvalue = [0, 1]'),\n",
              " Text(0.11722031185443757, 0.625, 'gini = 0.0\\nsamples = 3\\nvalue = [3, 0]'),\n",
              " Text(0.11763672504042136, 0.6477272727272727, 'gini = 0.0\\nsamples = 6\\nvalue = [0, 6]'),\n",
              " Text(0.11701210526144568, 0.6931818181818182, 'gini = 0.0\\nsamples = 4\\nvalue = [0, 4]'),\n",
              " Text(0.11742851844742946, 0.7159090909090909, 'gini = 0.0\\nsamples = 4\\nvalue = [4, 0]'),\n",
              " Text(0.11784493163341325, 0.7386363636363636, 'gini = 0.0\\nsamples = 4\\nvalue = [0, 4]'),\n",
              " Text(0.11826134481939704, 0.7613636363636364, 'gini = 0.0\\nsamples = 6\\nvalue = [6, 0]'),\n",
              " Text(0.11992699756333222, 0.8295454545454546, 'x[0] <= 3339.5\\ngini = 0.206\\nsamples = 43\\nvalue = [38, 5]'),\n",
              " Text(0.11909417119136463, 0.8068181818181818, 'x[19] <= 2350.0\\ngini = 0.48\\nsamples = 5\\nvalue = [2, 3]'),\n",
              " Text(0.11867775800538084, 0.7840909090909091, 'gini = 0.0\\nsamples = 3\\nvalue = [0, 3]'),\n",
              " Text(0.11951058437734842, 0.7840909090909091, 'gini = 0.0\\nsamples = 2\\nvalue = [2, 0]'),\n",
              " Text(0.1207598239352998, 0.8068181818181818, 'x[12] <= 505.0\\ngini = 0.1\\nsamples = 38\\nvalue = [36, 2]'),\n",
              " Text(0.12034341074931601, 0.7840909090909091, 'x[13] <= -3132.0\\ngini = 0.053\\nsamples = 37\\nvalue = [36, 1]'),\n",
              " Text(0.11992699756333222, 0.7613636363636364, 'gini = 0.0\\nsamples = 1\\nvalue = [0, 1]'),\n",
              " Text(0.1207598239352998, 0.7613636363636364, 'gini = 0.0\\nsamples = 36\\nvalue = [36, 0]'),\n",
              " Text(0.1211762371212836, 0.7840909090909091, 'gini = 0.0\\nsamples = 1\\nvalue = [0, 1]'),\n",
              " Text(0.1340264877825022, 0.8522727272727273, 'x[5] <= 46.5\\ngini = 0.272\\nsamples = 412\\nvalue = [345, 67]'),\n",
              " Text(0.1300120044113772, 0.8295454545454546, 'x[23] <= 1198.5\\ngini = 0.245\\nsamples = 350\\nvalue = [300, 50]'),\n",
              " Text(0.12531434315699752, 0.8068181818181818, 'x[22] <= 111.0\\ngini = 0.273\\nsamples = 288\\nvalue = [241, 47]'),\n",
              " Text(0.12200906349325118, 0.7840909090909091, 'x[13] <= 1.5\\ngini = 0.12\\nsamples = 78\\nvalue = [73, 5]'),\n",
              " Text(0.12159265030726739, 0.7613636363636364, 'x[20] <= 487.0\\ngini = 0.33\\nsamples = 24\\nvalue = [19, 5]'),\n",
              " Text(0.1207598239352998, 0.7386363636363636, 'x[1] <= 145000.0\\ngini = 0.198\\nsamples = 18\\nvalue = [16, 2]'),\n",
              " Text(0.12034341074931601, 0.7159090909090909, 'x[6] <= 0.0\\ngini = 0.444\\nsamples = 3\\nvalue = [1, 2]'),\n",
              " Text(0.11992699756333222, 0.6931818181818182, 'gini = 0.0\\nsamples = 1\\nvalue = [1, 0]'),\n",
              " Text(0.1207598239352998, 0.6931818181818182, 'gini = 0.0\\nsamples = 2\\nvalue = [0, 2]'),\n",
              " Text(0.1211762371212836, 0.7159090909090909, 'gini = 0.0\\nsamples = 15\\nvalue = [15, 0]'),\n",
              " Text(0.12242547667923497, 0.7386363636363636, 'x[1] <= 260000.0\\ngini = 0.5\\nsamples = 6\\nvalue = [3, 3]'),\n",
              " Text(0.12200906349325118, 0.7159090909090909, 'gini = 0.0\\nsamples = 3\\nvalue = [3, 0]'),\n",
              " Text(0.12284188986521877, 0.7159090909090909, 'gini = 0.0\\nsamples = 3\\nvalue = [0, 3]'),\n",
              " Text(0.12242547667923497, 0.7613636363636364, 'gini = 0.0\\nsamples = 54\\nvalue = [54, 0]'),\n",
              " Text(0.12861962282074388, 0.7840909090909091, 'x[19] <= 493.0\\ngini = 0.32\\nsamples = 210\\nvalue = [168, 42]'),\n",
              " Text(0.12565267887060935, 0.7613636363636364, 'x[9] <= -1.5\\ngini = 0.245\\nsamples = 161\\nvalue = [138, 23]'),\n",
              " Text(0.12523626568462556, 0.7386363636363636, 'gini = 0.0\\nsamples = 36\\nvalue = [36, 0]'),\n",
              " Text(0.12606909205659317, 0.7386363636363636, 'x[23] <= 332.5\\ngini = 0.3\\nsamples = 125\\nvalue = [102, 23]'),\n",
              " Text(0.12367471623718634, 0.7159090909090909, 'x[16] <= 195.5\\ngini = 0.382\\nsamples = 66\\nvalue = [49, 17]'),\n",
              " Text(0.12325830305120256, 0.6931818181818182, 'gini = 0.0\\nsamples = 16\\nvalue = [16, 0]'),\n",
              " Text(0.12409112942317015, 0.6931818181818182, 'x[15] <= 505.0\\ngini = 0.449\\nsamples = 50\\nvalue = [33, 17]'),\n",
              " Text(0.12325830305120256, 0.6704545454545454, 'x[12] <= 403.0\\ngini = 0.397\\nsamples = 44\\nvalue = [32, 12]'),\n",
              " Text(0.12284188986521877, 0.6477272727272727, 'x[10] <= 1.0\\ngini = 0.363\\nsamples = 42\\nvalue = [32, 10]'),\n",
              " Text(0.12242547667923497, 0.625, 'x[17] <= 487.5\\ngini = 0.343\\nsamples = 41\\nvalue = [32, 9]'),\n",
              " Text(0.12200906349325118, 0.6022727272727273, 'x[14] <= 241.0\\ngini = 0.412\\nsamples = 31\\nvalue = [22, 9]'),\n",
              " Text(0.12159265030726739, 0.5795454545454546, 'gini = 0.0\\nsamples = 2\\nvalue = [0, 2]'),\n",
              " Text(0.12242547667923497, 0.5795454545454546, 'x[1] <= 215000.0\\ngini = 0.366\\nsamples = 29\\nvalue = [22, 7]'),\n",
              " Text(0.1213844437142755, 0.5568181818181818, 'x[0] <= 26603.0\\ngini = 0.48\\nsamples = 15\\nvalue = [9, 6]'),\n",
              " Text(0.12096803052829169, 0.5340909090909091, 'x[0] <= 15315.5\\ngini = 0.5\\nsamples = 12\\nvalue = [6, 6]'),\n",
              " Text(0.12013520415632412, 0.5113636363636364, 'x[21] <= 458.5\\ngini = 0.408\\nsamples = 7\\nvalue = [5, 2]'),\n",
              " Text(0.11971879097034031, 0.48863636363636365, 'x[3] <= 1.5\\ngini = 0.278\\nsamples = 6\\nvalue = [5, 1]'),\n",
              " Text(0.11930237778435653, 0.4659090909090909, 'gini = 0.0\\nsamples = 4\\nvalue = [4, 0]'),\n",
              " Text(0.12013520415632412, 0.4659090909090909, 'x[15] <= 321.0\\ngini = 0.5\\nsamples = 2\\nvalue = [1, 1]'),\n",
              " Text(0.11971879097034031, 0.4431818181818182, 'gini = 0.0\\nsamples = 1\\nvalue = [1, 0]'),\n",
              " Text(0.1205516173423079, 0.4431818181818182, 'gini = 0.0\\nsamples = 1\\nvalue = [0, 1]'),\n",
              " Text(0.1205516173423079, 0.48863636363636365, 'gini = 0.0\\nsamples = 1\\nvalue = [0, 1]'),\n",
              " Text(0.12180085690025928, 0.5113636363636364, 'x[17] <= 325.5\\ngini = 0.32\\nsamples = 5\\nvalue = [1, 4]'),\n",
              " Text(0.1213844437142755, 0.48863636363636365, 'gini = 0.0\\nsamples = 3\\nvalue = [0, 3]'),\n",
              " Text(0.12221727008624307, 0.48863636363636365, 'x[0] <= 21730.5\\ngini = 0.5\\nsamples = 2\\nvalue = [1, 1]'),\n",
              " Text(0.12180085690025928, 0.4659090909090909, 'gini = 0.0\\nsamples = 1\\nvalue = [1, 0]'),\n",
              " Text(0.12263368327222687, 0.4659090909090909, 'gini = 0.0\\nsamples = 1\\nvalue = [0, 1]'),\n",
              " Text(0.12180085690025928, 0.5340909090909091, 'gini = 0.0\\nsamples = 3\\nvalue = [3, 0]'),\n",
              " Text(0.12346650964419445, 0.5568181818181818, 'x[0] <= 1271.0\\ngini = 0.133\\nsamples = 14\\nvalue = [13, 1]'),\n",
              " Text(0.12305009645821066, 0.5340909090909091, 'x[1] <= 270000.0\\ngini = 0.5\\nsamples = 2\\nvalue = [1, 1]'),\n",
              " Text(0.12263368327222687, 0.5113636363636364, 'gini = 0.0\\nsamples = 1\\nvalue = [0, 1]'),\n",
              " Text(0.12346650964419445, 0.5113636363636364, 'gini = 0.0\\nsamples = 1\\nvalue = [1, 0]'),\n",
              " Text(0.12388292283017824, 0.5340909090909091, 'gini = 0.0\\nsamples = 12\\nvalue = [12, 0]'),\n",
              " Text(0.12284188986521877, 0.6022727272727273, 'gini = 0.0\\nsamples = 10\\nvalue = [10, 0]'),\n",
              " Text(0.12325830305120256, 0.625, 'gini = 0.0\\nsamples = 1\\nvalue = [0, 1]'),\n",
              " Text(0.12367471623718634, 0.6477272727272727, 'gini = 0.0\\nsamples = 2\\nvalue = [0, 2]'),\n",
              " Text(0.12492395579513772, 0.6704545454545454, 'x[15] <= 737.0\\ngini = 0.278\\nsamples = 6\\nvalue = [1, 5]'),\n",
              " Text(0.12450754260915393, 0.6477272727272727, 'gini = 0.0\\nsamples = 5\\nvalue = [0, 5]'),\n",
              " Text(0.12534036898112152, 0.6477272727272727, 'gini = 0.0\\nsamples = 1\\nvalue = [1, 0]'),\n",
              " Text(0.12846346787599996, 0.7159090909090909, 'x[23] <= 1183.5\\ngini = 0.183\\nsamples = 59\\nvalue = [53, 6]'),\n",
              " Text(0.12804705469001618, 0.6931818181818182, 'x[12] <= 458.0\\ngini = 0.158\\nsamples = 58\\nvalue = [53, 5]'),\n",
              " Text(0.12700602172505668, 0.6704545454545454, 'x[0] <= 25341.0\\ngini = 0.133\\nsamples = 56\\nvalue = [52, 4]'),\n",
              " Text(0.1261731953530891, 0.6477272727272727, 'x[7] <= -0.5\\ngini = 0.046\\nsamples = 42\\nvalue = [41, 1]'),\n",
              " Text(0.1257567821671053, 0.625, 'gini = 0.0\\nsamples = 41\\nvalue = [41, 0]'),\n",
              " Text(0.1265896085390729, 0.625, 'gini = 0.0\\nsamples = 1\\nvalue = [0, 1]'),\n",
              " Text(0.12783884809702428, 0.6477272727272727, 'x[0] <= 26119.0\\ngini = 0.337\\nsamples = 14\\nvalue = [11, 3]'),\n",
              " Text(0.12742243491104047, 0.625, 'gini = 0.0\\nsamples = 2\\nvalue = [0, 2]'),\n",
              " Text(0.12825526128300807, 0.625, 'x[0] <= 29430.5\\ngini = 0.153\\nsamples = 12\\nvalue = [11, 1]'),\n",
              " Text(0.12783884809702428, 0.6022727272727273, 'gini = 0.0\\nsamples = 10\\nvalue = [10, 0]'),\n",
              " Text(0.12867167446899186, 0.6022727272727273, 'x[5] <= 40.0\\ngini = 0.5\\nsamples = 2\\nvalue = [1, 1]'),\n",
              " Text(0.12825526128300807, 0.5795454545454546, 'gini = 0.0\\nsamples = 1\\nvalue = [1, 0]'),\n",
              " Text(0.12908808765497565, 0.5795454545454546, 'gini = 0.0\\nsamples = 1\\nvalue = [0, 1]'),\n",
              " Text(0.12908808765497565, 0.6704545454545454, 'x[14] <= 238.0\\ngini = 0.5\\nsamples = 2\\nvalue = [1, 1]'),\n",
              " Text(0.12867167446899186, 0.6477272727272727, 'gini = 0.0\\nsamples = 1\\nvalue = [0, 1]'),\n",
              " Text(0.12950450084095944, 0.6477272727272727, 'gini = 0.0\\nsamples = 1\\nvalue = [1, 0]'),\n",
              " Text(0.12887988106198375, 0.6931818181818182, 'gini = 0.0\\nsamples = 1\\nvalue = [0, 1]'),\n",
              " Text(0.1315865667708784, 0.7613636363636364, 'x[9] <= -1.5\\ngini = 0.475\\nsamples = 49\\nvalue = [30, 19]'),\n",
              " Text(0.13054553380591893, 0.7386363636363636, 'x[12] <= 443.0\\ngini = 0.375\\nsamples = 12\\nvalue = [3, 9]'),\n",
              " Text(0.13012912061993512, 0.7159090909090909, 'x[15] <= -362.5\\ngini = 0.18\\nsamples = 10\\nvalue = [1, 9]'),\n",
              " Text(0.12971270743395133, 0.6931818181818182, 'gini = 0.0\\nsamples = 1\\nvalue = [1, 0]'),\n",
              " Text(0.13054553380591893, 0.6931818181818182, 'gini = 0.0\\nsamples = 9\\nvalue = [0, 9]'),\n",
              " Text(0.13096194699190272, 0.7159090909090909, 'gini = 0.0\\nsamples = 2\\nvalue = [2, 0]'),\n",
              " Text(0.13262759973583788, 0.7386363636363636, 'x[22] <= 499.0\\ngini = 0.394\\nsamples = 37\\nvalue = [27, 10]'),\n",
              " Text(0.1317947733638703, 0.7159090909090909, 'x[14] <= 1672.0\\ngini = 0.497\\nsamples = 13\\nvalue = [6, 7]'),\n",
              " Text(0.1313783601778865, 0.6931818181818182, 'gini = 0.0\\nsamples = 6\\nvalue = [0, 6]'),\n",
              " Text(0.1322111865498541, 0.6931818181818182, 'x[0] <= 17756.5\\ngini = 0.245\\nsamples = 7\\nvalue = [6, 1]'),\n",
              " Text(0.1317947733638703, 0.6704545454545454, 'gini = 0.0\\nsamples = 6\\nvalue = [6, 0]'),\n",
              " Text(0.13262759973583788, 0.6704545454545454, 'gini = 0.0\\nsamples = 1\\nvalue = [0, 1]'),\n",
              " Text(0.13346042610780548, 0.7159090909090909, 'x[16] <= 1747.5\\ngini = 0.219\\nsamples = 24\\nvalue = [21, 3]'),\n",
              " Text(0.13304401292182166, 0.6931818181818182, 'gini = 0.0\\nsamples = 17\\nvalue = [17, 0]'),\n",
              " Text(0.13387683929378927, 0.6931818181818182, 'x[12] <= -325.0\\ngini = 0.49\\nsamples = 7\\nvalue = [4, 3]'),\n",
              " Text(0.13346042610780548, 0.6704545454545454, 'gini = 0.0\\nsamples = 3\\nvalue = [3, 0]'),\n",
              " Text(0.13429325247977306, 0.6704545454545454, 'x[13] <= 3488.5\\ngini = 0.375\\nsamples = 4\\nvalue = [1, 3]'),\n",
              " Text(0.13387683929378927, 0.6477272727272727, 'gini = 0.0\\nsamples = 3\\nvalue = [0, 3]'),\n",
              " Text(0.13470966566575684, 0.6477272727272727, 'gini = 0.0\\nsamples = 1\\nvalue = [1, 0]'),\n",
              " Text(0.13470966566575684, 0.8068181818181818, 'x[0] <= 5794.0\\ngini = 0.092\\nsamples = 62\\nvalue = [59, 3]'),\n",
              " Text(0.13429325247977306, 0.7840909090909091, 'x[21] <= 335.5\\ngini = 0.337\\nsamples = 14\\nvalue = [11, 3]'),\n",
              " Text(0.13387683929378927, 0.7613636363636364, 'x[18] <= 302.0\\ngini = 0.48\\nsamples = 5\\nvalue = [2, 3]'),\n",
              " Text(0.13346042610780548, 0.7386363636363636, 'gini = 0.0\\nsamples = 2\\nvalue = [2, 0]'),\n",
              " Text(0.13429325247977306, 0.7386363636363636, 'gini = 0.0\\nsamples = 3\\nvalue = [0, 3]'),\n",
              " Text(0.13470966566575684, 0.7613636363636364, 'gini = 0.0\\nsamples = 9\\nvalue = [9, 0]'),\n",
              " Text(0.13512607885174063, 0.7840909090909091, 'gini = 0.0\\nsamples = 48\\nvalue = [48, 0]'),\n",
              " Text(0.13804097115362718, 0.8295454545454546, 'x[15] <= 783.0\\ngini = 0.398\\nsamples = 62\\nvalue = [45, 17]'),\n",
              " Text(0.1376245579676434, 0.8068181818181818, 'x[0] <= 17704.5\\ngini = 0.375\\nsamples = 60\\nvalue = [45, 15]'),\n",
              " Text(0.13679173159567581, 0.7840909090909091, 'x[0] <= 16365.5\\ngini = 0.455\\nsamples = 40\\nvalue = [26, 14]'),\n",
              " Text(0.13637531840969203, 0.7613636363636364, 'x[16] <= 150.0\\ngini = 0.432\\nsamples = 38\\nvalue = [26, 12]'),\n",
              " Text(0.13595890522370824, 0.7386363636363636, 'gini = 0.0\\nsamples = 8\\nvalue = [8, 0]'),\n",
              " Text(0.13679173159567581, 0.7386363636363636, 'x[20] <= 175.0\\ngini = 0.48\\nsamples = 30\\nvalue = [18, 12]'),\n",
              " Text(0.13637531840969203, 0.7159090909090909, 'gini = 0.0\\nsamples = 3\\nvalue = [0, 3]'),\n",
              " Text(0.1372081447816596, 0.7159090909090909, 'x[23] <= 1084.0\\ngini = 0.444\\nsamples = 27\\nvalue = [18, 9]'),\n",
              " Text(0.13679173159567581, 0.6931818181818182, 'x[0] <= 9063.5\\ngini = 0.483\\nsamples = 22\\nvalue = [13, 9]'),\n",
              " Text(0.13595890522370824, 0.6704545454545454, 'x[0] <= 5791.0\\ngini = 0.391\\nsamples = 15\\nvalue = [11, 4]'),\n",
              " Text(0.13554249203772442, 0.6477272727272727, 'x[21] <= 353.0\\ngini = 0.5\\nsamples = 8\\nvalue = [4, 4]'),\n",
              " Text(0.13512607885174063, 0.625, 'x[10] <= -1.5\\ngini = 0.32\\nsamples = 5\\nvalue = [4, 1]'),\n",
              " Text(0.13470966566575684, 0.6022727272727273, 'gini = 0.0\\nsamples = 1\\nvalue = [0, 1]'),\n",
              " Text(0.13554249203772442, 0.6022727272727273, 'gini = 0.0\\nsamples = 4\\nvalue = [4, 0]'),\n",
              " Text(0.13595890522370824, 0.625, 'gini = 0.0\\nsamples = 3\\nvalue = [0, 3]'),\n",
              " Text(0.13637531840969203, 0.6477272727272727, 'gini = 0.0\\nsamples = 7\\nvalue = [7, 0]'),\n",
              " Text(0.1376245579676434, 0.6704545454545454, 'x[1] <= 225000.0\\ngini = 0.408\\nsamples = 7\\nvalue = [2, 5]'),\n",
              " Text(0.1372081447816596, 0.6477272727272727, 'gini = 0.0\\nsamples = 4\\nvalue = [0, 4]'),\n",
              " Text(0.13804097115362718, 0.6477272727272727, 'x[21] <= 518.5\\ngini = 0.444\\nsamples = 3\\nvalue = [2, 1]'),\n",
              " Text(0.1376245579676434, 0.625, 'gini = 0.0\\nsamples = 2\\nvalue = [2, 0]'),\n",
              " Text(0.13845738433961097, 0.625, 'gini = 0.0\\nsamples = 1\\nvalue = [0, 1]'),\n",
              " Text(0.1376245579676434, 0.6931818181818182, 'gini = 0.0\\nsamples = 5\\nvalue = [5, 0]'),\n",
              " Text(0.1372081447816596, 0.7613636363636364, 'gini = 0.0\\nsamples = 2\\nvalue = [0, 2]'),\n",
              " Text(0.13845738433961097, 0.7840909090909091, 'x[14] <= -1.5\\ngini = 0.095\\nsamples = 20\\nvalue = [19, 1]'),\n",
              " Text(0.13804097115362718, 0.7613636363636364, 'gini = 0.0\\nsamples = 1\\nvalue = [0, 1]'),\n",
              " Text(0.13887379752559478, 0.7613636363636364, 'gini = 0.0\\nsamples = 19\\nvalue = [19, 0]'),\n",
              " Text(0.13845738433961097, 0.8068181818181818, 'gini = 0.0\\nsamples = 2\\nvalue = [0, 2]'),\n",
              " Text(0.2681729034012906, 0.8977272727272727, 'x[9] <= 1.0\\ngini = 0.283\\nsamples = 3166\\nvalue = [2626, 540]'),\n",
              " Text(0.2415024985299476, 0.875, 'x[19] <= 4189.0\\ngini = 0.257\\nsamples = 2645\\nvalue = [2245, 400]'),\n",
              " Text(0.21959437787300698, 0.8522727272727273, 'x[8] <= 1.5\\ngini = 0.272\\nsamples = 2253\\nvalue = [1887, 366]'),\n",
              " Text(0.19530075788013157, 0.8295454545454546, 'x[12] <= 6681.0\\ngini = 0.265\\nsamples = 2164\\nvalue = [1824, 340]'),\n",
              " Text(0.16849428611164427, 0.8068181818181818, 'x[7] <= -1.5\\ngini = 0.301\\nsamples = 941\\nvalue = [767, 174]'),\n",
              " Text(0.14725411289351859, 0.7840909090909091, 'x[12] <= 6489.5\\ngini = 0.19\\nsamples = 244\\nvalue = [218, 26]'),\n",
              " Text(0.1468376997075348, 0.7613636363636364, 'x[20] <= 835.5\\ngini = 0.179\\nsamples = 242\\nvalue = [218, 24]'),\n",
              " Text(0.14600487333556722, 0.7386363636363636, 'x[3] <= 5.5\\ngini = 0.167\\nsamples = 239\\nvalue = [217, 22]'),\n",
              " Text(0.14558846014958343, 0.7159090909090909, 'x[10] <= 1.0\\ngini = 0.161\\nsamples = 238\\nvalue = [217, 21]'),\n",
              " Text(0.14517204696359964, 0.6931818181818182, 'x[5] <= 47.5\\ngini = 0.155\\nsamples = 237\\nvalue = [217, 20]'),\n",
              " Text(0.14272561949594484, 0.6704545454545454, 'x[1] <= 165000.0\\ngini = 0.125\\nsamples = 209\\nvalue = [195, 14]'),\n",
              " Text(0.14074765686252183, 0.6477272727272727, 'x[20] <= 555.5\\ngini = 0.216\\nsamples = 65\\nvalue = [57, 8]'),\n",
              " Text(0.13929021071157857, 0.625, 'x[23] <= 4337.5\\ngini = 0.135\\nsamples = 55\\nvalue = [51, 4]'),\n",
              " Text(0.13845738433961097, 0.6022727272727273, 'x[12] <= 3737.5\\ngini = 0.078\\nsamples = 49\\nvalue = [47, 2]'),\n",
              " Text(0.13804097115362718, 0.5795454545454546, 'gini = 0.0\\nsamples = 37\\nvalue = [37, 0]'),\n",
              " Text(0.13887379752559478, 0.5795454545454546, 'x[12] <= 3850.5\\ngini = 0.278\\nsamples = 12\\nvalue = [10, 2]'),\n",
              " Text(0.13845738433961097, 0.5568181818181818, 'gini = 0.0\\nsamples = 1\\nvalue = [0, 1]'),\n",
              " Text(0.13929021071157857, 0.5568181818181818, 'x[5] <= 28.0\\ngini = 0.165\\nsamples = 11\\nvalue = [10, 1]'),\n",
              " Text(0.13887379752559478, 0.5340909090909091, 'x[12] <= 5374.0\\ngini = 0.5\\nsamples = 2\\nvalue = [1, 1]'),\n",
              " Text(0.13845738433961097, 0.5113636363636364, 'gini = 0.0\\nsamples = 1\\nvalue = [1, 0]'),\n",
              " Text(0.13929021071157857, 0.5113636363636364, 'gini = 0.0\\nsamples = 1\\nvalue = [0, 1]'),\n",
              " Text(0.13970662389756236, 0.5340909090909091, 'gini = 0.0\\nsamples = 9\\nvalue = [9, 0]'),\n",
              " Text(0.14012303708354615, 0.6022727272727273, 'x[16] <= 529.0\\ngini = 0.444\\nsamples = 6\\nvalue = [4, 2]'),\n",
              " Text(0.13970662389756236, 0.5795454545454546, 'gini = 0.0\\nsamples = 2\\nvalue = [0, 2]'),\n",
              " Text(0.14053945026952994, 0.5795454545454546, 'gini = 0.0\\nsamples = 4\\nvalue = [4, 0]'),\n",
              " Text(0.14220510301346512, 0.625, 'x[18] <= 2214.5\\ngini = 0.48\\nsamples = 10\\nvalue = [6, 4]'),\n",
              " Text(0.14178868982748133, 0.6022727272727273, 'x[23] <= 792.5\\ngini = 0.375\\nsamples = 8\\nvalue = [6, 2]'),\n",
              " Text(0.1413722766414975, 0.5795454545454546, 'gini = 0.0\\nsamples = 6\\nvalue = [6, 0]'),\n",
              " Text(0.14220510301346512, 0.5795454545454546, 'gini = 0.0\\nsamples = 2\\nvalue = [0, 2]'),\n",
              " Text(0.1426215161994489, 0.6022727272727273, 'gini = 0.0\\nsamples = 2\\nvalue = [0, 2]'),\n",
              " Text(0.14470358212936787, 0.6477272727272727, 'x[8] <= -1.5\\ngini = 0.08\\nsamples = 144\\nvalue = [138, 6]'),\n",
              " Text(0.14387075575740027, 0.625, 'x[18] <= 2.0\\ngini = 0.068\\nsamples = 141\\nvalue = [136, 5]'),\n",
              " Text(0.14345434257141648, 0.6022727272727273, 'x[0] <= 14960.0\\ngini = 0.168\\nsamples = 54\\nvalue = [49, 5]'),\n",
              " Text(0.1430379293854327, 0.5795454545454546, 'gini = 0.0\\nsamples = 25\\nvalue = [25, 0]'),\n",
              " Text(0.14387075575740027, 0.5795454545454546, 'x[0] <= 16368.5\\ngini = 0.285\\nsamples = 29\\nvalue = [24, 5]'),\n",
              " Text(0.14345434257141648, 0.5568181818181818, 'gini = 0.0\\nsamples = 2\\nvalue = [0, 2]'),\n",
              " Text(0.1442871689433841, 0.5568181818181818, 'x[12] <= 4118.0\\ngini = 0.198\\nsamples = 27\\nvalue = [24, 3]'),\n",
              " Text(0.14387075575740027, 0.5340909090909091, 'x[1] <= 305000.0\\ngini = 0.142\\nsamples = 26\\nvalue = [24, 2]'),\n",
              " Text(0.14345434257141648, 0.5113636363636364, 'gini = 0.0\\nsamples = 16\\nvalue = [16, 0]'),\n",
              " Text(0.1442871689433841, 0.5113636363636364, 'x[5] <= 31.5\\ngini = 0.32\\nsamples = 10\\nvalue = [8, 2]'),\n",
              " Text(0.14387075575740027, 0.48863636363636365, 'gini = 0.0\\nsamples = 6\\nvalue = [6, 0]'),\n",
              " Text(0.14470358212936787, 0.48863636363636365, 'x[0] <= 22476.5\\ngini = 0.5\\nsamples = 4\\nvalue = [2, 2]'),\n",
              " Text(0.1442871689433841, 0.4659090909090909, 'gini = 0.0\\nsamples = 2\\nvalue = [2, 0]'),\n",
              " Text(0.14511999531535166, 0.4659090909090909, 'gini = 0.0\\nsamples = 2\\nvalue = [0, 2]'),\n",
              " Text(0.14470358212936787, 0.5340909090909091, 'gini = 0.0\\nsamples = 1\\nvalue = [0, 1]'),\n",
              " Text(0.1442871689433841, 0.6022727272727273, 'gini = 0.0\\nsamples = 87\\nvalue = [87, 0]'),\n",
              " Text(0.14553640850133545, 0.625, 'x[11] <= -1.5\\ngini = 0.444\\nsamples = 3\\nvalue = [2, 1]'),\n",
              " Text(0.14511999531535166, 0.6022727272727273, 'gini = 0.0\\nsamples = 1\\nvalue = [0, 1]'),\n",
              " Text(0.14595282168731924, 0.6022727272727273, 'gini = 0.0\\nsamples = 2\\nvalue = [2, 0]'),\n",
              " Text(0.14761847443125442, 0.6704545454545454, 'x[1] <= 245000.0\\ngini = 0.337\\nsamples = 28\\nvalue = [22, 6]'),\n",
              " Text(0.14720206124527063, 0.6477272727272727, 'gini = 0.0\\nsamples = 12\\nvalue = [12, 0]'),\n",
              " Text(0.1480348876172382, 0.6477272727272727, 'x[5] <= 50.0\\ngini = 0.469\\nsamples = 16\\nvalue = [10, 6]'),\n",
              " Text(0.14720206124527063, 0.625, 'x[10] <= -1.5\\ngini = 0.278\\nsamples = 6\\nvalue = [1, 5]'),\n",
              " Text(0.14678564805928682, 0.6022727272727273, 'gini = 0.0\\nsamples = 5\\nvalue = [0, 5]'),\n",
              " Text(0.14761847443125442, 0.6022727272727273, 'gini = 0.0\\nsamples = 1\\nvalue = [1, 0]'),\n",
              " Text(0.14886771398920579, 0.625, 'x[0] <= 29117.0\\ngini = 0.18\\nsamples = 10\\nvalue = [9, 1]'),\n",
              " Text(0.148451300803222, 0.6022727272727273, 'gini = 0.0\\nsamples = 9\\nvalue = [9, 0]'),\n",
              " Text(0.14928412717518957, 0.6022727272727273, 'gini = 0.0\\nsamples = 1\\nvalue = [0, 1]'),\n",
              " Text(0.14600487333556722, 0.6931818181818182, 'gini = 0.0\\nsamples = 1\\nvalue = [0, 1]'),\n",
              " Text(0.146421286521551, 0.7159090909090909, 'gini = 0.0\\nsamples = 1\\nvalue = [0, 1]'),\n",
              " Text(0.14767052607950237, 0.7386363636363636, 'x[18] <= 1040.0\\ngini = 0.444\\nsamples = 3\\nvalue = [1, 2]'),\n",
              " Text(0.14725411289351859, 0.7159090909090909, 'gini = 0.0\\nsamples = 2\\nvalue = [0, 2]'),\n",
              " Text(0.1480869392654862, 0.7159090909090909, 'gini = 0.0\\nsamples = 1\\nvalue = [1, 0]'),\n",
              " Text(0.14767052607950237, 0.7613636363636364, 'gini = 0.0\\nsamples = 2\\nvalue = [0, 2]'),\n",
              " Text(0.18973445932976996, 0.7840909090909091, 'x[22] <= 5293.5\\ngini = 0.335\\nsamples = 697\\nvalue = [549, 148]'),\n",
              " Text(0.1873983366245157, 0.7613636363636364, 'x[18] <= 17185.5\\ngini = 0.348\\nsamples = 656\\nvalue = [509, 147]'),\n",
              " Text(0.18480815714392607, 0.7386363636363636, 'x[19] <= 4047.0\\ngini = 0.339\\nsamples = 637\\nvalue = [499, 138]'),\n",
              " Text(0.18254269048463337, 0.7159090909090909, 'x[12] <= 6006.5\\ngini = 0.335\\nsamples = 631\\nvalue = [497, 134]'),\n",
              " Text(0.1792609967239994, 0.6931818181818182, 'x[12] <= 4736.5\\ngini = 0.324\\nsamples = 601\\nvalue = [479, 122]'),\n",
              " Text(0.17561250150461796, 0.6704545454545454, 'x[22] <= 5027.0\\ngini = 0.341\\nsamples = 537\\nvalue = [420, 117]'),\n",
              " Text(0.17519608831863417, 0.6477272727272727, 'x[12] <= 4697.0\\ngini = 0.337\\nsamples = 535\\nvalue = [420, 115]'),\n",
              " Text(0.1747796751326504, 0.625, 'x[0] <= 27999.0\\ngini = 0.334\\nsamples = 533\\nvalue = [420, 113]'),\n",
              " Text(0.17081399018175786, 0.6022727272727273, 'x[0] <= 26229.5\\ngini = 0.345\\nsamples = 500\\nvalue = [389, 111]'),\n",
              " Text(0.16496468620989177, 0.5795454545454546, 'x[0] <= 14943.0\\ngini = 0.331\\nsamples = 477\\nvalue = [377, 100]'),\n",
              " Text(0.15701379694001372, 0.5568181818181818, 'x[12] <= 1875.5\\ngini = 0.362\\nsamples = 345\\nvalue = [263, 82]'),\n",
              " Text(0.15110593486386867, 0.5340909090909091, 'x[22] <= 317.0\\ngini = 0.292\\nsamples = 197\\nvalue = [162, 35]'),\n",
              " Text(0.14761847443125442, 0.5113636363636364, 'x[5] <= 45.5\\ngini = 0.174\\nsamples = 83\\nvalue = [75, 8]'),\n",
              " Text(0.14636923487330303, 0.48863636363636365, 'x[19] <= 3567.0\\ngini = 0.083\\nsamples = 69\\nvalue = [66, 3]'),\n",
              " Text(0.14595282168731924, 0.4659090909090909, 'x[18] <= 2045.5\\ngini = 0.057\\nsamples = 68\\nvalue = [66, 2]'),\n",
              " Text(0.14553640850133545, 0.4431818181818182, 'gini = 0.0\\nsamples = 57\\nvalue = [57, 0]'),\n",
              " Text(0.14636923487330303, 0.4431818181818182, 'x[21] <= 461.5\\ngini = 0.298\\nsamples = 11\\nvalue = [9, 2]'),\n",
              " Text(0.14595282168731924, 0.42045454545454547, 'gini = 0.0\\nsamples = 9\\nvalue = [9, 0]'),\n",
              " Text(0.14678564805928682, 0.42045454545454547, 'gini = 0.0\\nsamples = 2\\nvalue = [0, 2]'),\n",
              " Text(0.14678564805928682, 0.4659090909090909, 'gini = 0.0\\nsamples = 1\\nvalue = [0, 1]'),\n",
              " Text(0.14886771398920579, 0.48863636363636365, 'x[19] <= 1075.0\\ngini = 0.459\\nsamples = 14\\nvalue = [9, 5]'),\n",
              " Text(0.148451300803222, 0.4659090909090909, 'x[5] <= 58.5\\ngini = 0.298\\nsamples = 11\\nvalue = [9, 2]'),\n",
              " Text(0.1480348876172382, 0.4431818181818182, 'x[0] <= 14084.0\\ngini = 0.18\\nsamples = 10\\nvalue = [9, 1]'),\n",
              " Text(0.14761847443125442, 0.42045454545454547, 'gini = 0.0\\nsamples = 9\\nvalue = [9, 0]'),\n",
              " Text(0.148451300803222, 0.42045454545454547, 'gini = 0.0\\nsamples = 1\\nvalue = [0, 1]'),\n",
              " ...]"
            ]
          },
          "metadata": {},
          "execution_count": 82
        },
        {
          "output_type": "display_data",
          "data": {
            "text/plain": [
              "<Figure size 640x480 with 1 Axes>"
            ],
            "image/png": "[encoded data removed]"
          },
          "metadata": {}
        }
      ]
    },
    {
      "cell_type": "code",
      "execution_count": null,
      "metadata": {
        "id": "ZFR5gl8BfwDv"
      },
      "outputs": [],
      "source": [
        "from sklearn.metrics import accuracy_score,confusion_matrix\n",
        "from sklearn.metrics import classification_report"
      ]
    },
    {
      "cell_type": "code",
      "execution_count": null,
      "metadata": {
        "colab": {
          "base_uri": "https://localhost:8080/"
        },
        "id": "jfb1XdJAfwDw",
        "outputId": "cc586d3d-7b52-4dd5-d0bd-a7873c2dff20"
      },
      "outputs": [
        {
          "output_type": "execute_result",
          "data": {
            "text/plain": [
              "0.7205555555555555"
            ]
          },
          "metadata": {},
          "execution_count": 42
        }
      ],
      "source": [
        "accuracy_score(y_test,pred)"
      ]
    },
    {
      "cell_type": "code",
      "execution_count": null,
      "metadata": {
        "colab": {
          "base_uri": "https://localhost:8080/"
        },
        "id": "rZBgtxpxfwDx",
        "outputId": "c9d434f3-2b1a-409c-eb6d-fa5aebeeed4b"
      },
      "outputs": [
        {
          "output_type": "execute_result",
          "data": {
            "text/plain": [
              "array([[5653, 1347],\n",
              "       [1168,  832]])"
            ]
          },
          "metadata": {},
          "execution_count": 43
        }
      ],
      "source": [
        "confusion_matrix(y_test,pred)"
      ]
    },
    {
      "cell_type": "code",
      "source": [
        "class_names=[0,1] # name  of classes\n",
        "fig, ax = plt.subplots()\n",
        "tick_marks = np.arange(len(class_names))\n",
        "plt.xticks(tick_marks, class_names)\n",
        "plt.yticks(tick_marks, class_names)\n",
        "# create heatmap\n",
        "sns.heatmap(pd.DataFrame(confusion_matrix(y_test,pred)), annot=True, cmap=\"YlGnBu\" ,fmt='g')\n",
        "ax.xaxis.set_label_position(\"top\")\n",
        "plt.tight_layout()\n",
        "plt.title('Confusion matrix', y=1.1)\n",
        "plt.ylabel('Actual label')\n",
        "plt.xlabel('Predicted label')"
      ],
      "metadata": {
        "colab": {
          "base_uri": "https://localhost:8080/",
          "height": 568
        },
        "id": "4goiOAaOlKit",
        "outputId": "cd7029f2-091b-4deb-b873-f53294be289e"
      },
      "execution_count": null,
      "outputs": [
        {
          "output_type": "execute_result",
          "data": {
            "text/plain": [
              "Text(0.5, 427.9555555555555, 'Predicted label')"
            ]
          },
          "metadata": {},
          "execution_count": 58
        },
        {
          "output_type": "display_data",
          "data": {
            "text/plain": [
              "<Figure size 640x480 with 2 Axes>"
            ],
            "image/png": "[encoded data removed]"
          },
          "metadata": {}
        }
      ]
    },
    {
      "cell_type": "code",
      "execution_count": null,
      "metadata": {
        "colab": {
          "base_uri": "https://localhost:8080/",
          "height": 70
        },
        "id": "d8mBX4BZfwDx",
        "outputId": "fe9b8961-afe1-43a5-9cf2-14585b346d8e"
      },
      "outputs": [
        {
          "output_type": "execute_result",
          "data": {
            "text/plain": [
              "'              precision    recall  f1-score   support\\n\\n           0       0.83      0.81      0.82      7000\\n           1       0.38      0.42      0.40      2000\\n\\n    accuracy                           0.72      9000\\n   macro avg       0.61      0.61      0.61      9000\\nweighted avg       0.73      0.72      0.72      9000\\n'"
            ],
            "application/vnd.google.colaboratory.intrinsic+json": {
              "type": "string"
            }
          },
          "metadata": {},
          "execution_count": 44
        }
      ],
      "source": [
        "classification_report(y_test,pred)"
      ]
    },
    {
      "cell_type": "code",
      "execution_count": null,
      "metadata": {
        "colab": {
          "base_uri": "https://localhost:8080/"
        },
        "id": "2USJERekfwDx",
        "outputId": "e2b6fed0-be5c-4c90-c0a0-aacf0d458b0a"
      },
      "outputs": [
        {
          "output_type": "stream",
          "name": "stdout",
          "text": [
            "              precision    recall  f1-score   support\n",
            "\n",
            "           0       0.83      0.81      0.82      7000\n",
            "           1       0.38      0.42      0.40      2000\n",
            "\n",
            "    accuracy                           0.72      9000\n",
            "   macro avg       0.61      0.61      0.61      9000\n",
            "weighted avg       0.73      0.72      0.72      9000\n",
            "\n"
          ]
        }
      ],
      "source": [
        "print(classification_report(y_test,pred))"
      ]
    },
    {
      "cell_type": "code",
      "execution_count": null,
      "metadata": {
        "id": "VTWhc5R_fwDy"
      },
      "outputs": [],
      "source": [
        "#Import Gaussian Naive Bayes model\n",
        "from sklearn.naive_bayes import GaussianNB\n",
        "\n",
        "#Create a Gaussian Classifier\n",
        "gnb = GaussianNB()"
      ]
    },
    {
      "cell_type": "code",
      "execution_count": null,
      "metadata": {
        "colab": {
          "base_uri": "https://localhost:8080/"
        },
        "id": "0V_oR6dVfwDz",
        "outputId": "0607bfd6-91d0-460a-8987-8c65961f5c44"
      },
      "outputs": [
        {
          "output_type": "execute_result",
          "data": {
            "text/plain": [
              "array([1, 1, 0, ..., 1, 1, 1])"
            ]
          },
          "metadata": {},
          "execution_count": 47
        }
      ],
      "source": [
        "#Train the model using the training sets\n",
        "gnb.fit(X_train, y_train)\n",
        "\n",
        "#Predict the response for test dataset\n",
        "gnb.predict(X_test)"
      ]
    },
    {
      "cell_type": "code",
      "execution_count": null,
      "metadata": {
        "colab": {
          "base_uri": "https://localhost:8080/"
        },
        "id": "B2o8-DdmfwDz",
        "outputId": "05a9e5d8-be62-40e3-a35e-606b8df91344"
      },
      "outputs": [
        {
          "output_type": "execute_result",
          "data": {
            "text/plain": [
              "0.37744444444444447"
            ]
          },
          "metadata": {},
          "execution_count": 48
        }
      ],
      "source": [
        "gnb.score(X_test,y_test)"
      ]
    },
    {
      "cell_type": "code",
      "execution_count": null,
      "metadata": {
        "id": "d30TRE7dfwD0"
      },
      "outputs": [],
      "source": [
        "from sklearn.naive_bayes import BernoulliNB\n",
        "\n",
        "#Create a Gaussian Classifier\n",
        "bnb = BernoulliNB()"
      ]
    },
    {
      "cell_type": "code",
      "execution_count": null,
      "metadata": {
        "colab": {
          "base_uri": "https://localhost:8080/"
        },
        "id": "Na3G6ETqfwD1",
        "outputId": "e75e52a0-5b1b-4c1e-8770-165f260fb1d3"
      },
      "outputs": [
        {
          "output_type": "execute_result",
          "data": {
            "text/plain": [
              "array([0, 1, 0, ..., 0, 0, 0])"
            ]
          },
          "metadata": {},
          "execution_count": 50
        }
      ],
      "source": [
        "#Train the model using the training sets\n",
        "bnb.fit(X_train, y_train)\n",
        "\n",
        "#Predict the response for test dataset\n",
        "bnb.predict(X_test)"
      ]
    },
    {
      "cell_type": "code",
      "execution_count": null,
      "metadata": {
        "colab": {
          "base_uri": "https://localhost:8080/"
        },
        "id": "XN0vJu13fwD1",
        "outputId": "d95352d3-4c95-4ad9-c698-4b6e09281857"
      },
      "outputs": [
        {
          "output_type": "execute_result",
          "data": {
            "text/plain": [
              "0.771"
            ]
          },
          "metadata": {},
          "execution_count": 83
        }
      ],
      "source": [
        "bnb.score(X_test,y_test)"
      ]
    },
    {
      "cell_type": "code",
      "execution_count": null,
      "metadata": {
        "id": "a4NXI-N2fwD9"
      },
      "outputs": [],
      "source": [
        "from sklearn.naive_bayes import MultinomialNB\n",
        "\n",
        "#Create a Gaussian Classifier\n",
        "mnb = MultinomialNB()"
      ]
    },
    {
      "cell_type": "code",
      "execution_count": null,
      "metadata": {
        "id": "vbzbC0aIfwD_"
      },
      "outputs": [],
      "source": [
        "#Train the model using the training sets\n",
        "#mnb.fit(X_train, y_train)\n",
        "\n",
        "#Predict the response for test dataset\n",
        "#mnb.predict(X_test)"
      ]
    },
    {
      "cell_type": "code",
      "source": [
        "import xgboost as xgb\n",
        "from sklearn.metrics import accuracy_score"
      ],
      "metadata": {
        "id": "5c7fTc4Qq83z"
      },
      "execution_count": null,
      "outputs": []
    },
    {
      "cell_type": "code",
      "source": [],
      "metadata": {
        "id": "taQygF46wl2j"
      },
      "execution_count": null,
      "outputs": []
    },
    {
      "cell_type": "code",
      "source": [
        "model = xgb.XGBClassifier(objective='binary:logistic', random_state=42)"
      ],
      "metadata": {
        "id": "Qys_uM_nq87L"
      },
      "execution_count": null,
      "outputs": []
    },
    {
      "cell_type": "code",
      "source": [
        "model.fit(X_train, y_train)"
      ],
      "metadata": {
        "colab": {
          "base_uri": "https://localhost:8080/",
          "height": 248
        },
        "id": "_uJKTUrwr35r",
        "outputId": "3e1e0ac3-eb00-4689-ac47-88057be0f1ac"
      },
      "execution_count": null,
      "outputs": [
        {
          "output_type": "execute_result",
          "data": {
            "text/plain": [
              "XGBClassifier(base_score=None, booster=None, callbacks=None,\n",
              "              colsample_bylevel=None, colsample_bynode=None,\n",
              "              colsample_bytree=None, early_stopping_rounds=None,\n",
              "              enable_categorical=False, eval_metric=None, feature_types=None,\n",
              "              gamma=None, gpu_id=None, grow_policy=None, importance_type=None,\n",
              "              interaction_constraints=None, learning_rate=None, max_bin=None,\n",
              "              max_cat_threshold=None, max_cat_to_onehot=None,\n",
              "              max_delta_step=None, max_depth=None, max_leaves=None,\n",
              "              min_child_weight=None, missing=nan, monotone_constraints=None,\n",
              "              n_estimators=100, n_jobs=None, num_parallel_tree=None,\n",
              "              predictor=None, random_state=42, ...)"
            ],
            "text/html": [
              "<style>#sk-container-id-4 {color: black;background-color: white;}#sk-container-id-4 pre{padding: 0;}#sk-container-id-4 div.sk-toggleable {background-color: white;}#sk-container-id-4 label.sk-toggleable__label {cursor: pointer;display: block;width: 100%;margin-bottom: 0;padding: 0.3em;box-sizing: border-box;text-align: center;}#sk-container-id-4 label.sk-toggleable__label-arrow:before {content: \"▸\";float: left;margin-right: 0.25em;color: #696969;}#sk-container-id-4 label.sk-toggleable__label-arrow:hover:before {color: black;}#sk-container-id-4 div.sk-estimator:hover label.sk-toggleable__label-arrow:before {color: black;}#sk-container-id-4 div.sk-toggleable__content {max-height: 0;max-width: 0;overflow: hidden;text-align: left;background-color: #f0f8ff;}#sk-container-id-4 div.sk-toggleable__content pre {margin: 0.2em;color: black;border-radius: 0.25em;background-color: #f0f8ff;}#sk-container-id-4 input.sk-toggleable__control:checked~div.sk-toggleable__content {max-height: 200px;max-width: 100%;overflow: auto;}#sk-container-id-4 input.sk-toggleable__control:checked~label.sk-toggleable__label-arrow:before {content: \"▾\";}#sk-container-id-4 div.sk-estimator input.sk-toggleable__control:checked~label.sk-toggleable__label {background-color: #d4ebff;}#sk-container-id-4 div.sk-label input.sk-toggleable__control:checked~label.sk-toggleable__label {background-color: #d4ebff;}#sk-container-id-4 input.sk-hidden--visually {border: 0;clip: rect(1px 1px 1px 1px);clip: rect(1px, 1px, 1px, 1px);height: 1px;margin: -1px;overflow: hidden;padding: 0;position: absolute;width: 1px;}#sk-container-id-4 div.sk-estimator {font-family: monospace;background-color: #f0f8ff;border: 1px dotted black;border-radius: 0.25em;box-sizing: border-box;margin-bottom: 0.5em;}#sk-container-id-4 div.sk-estimator:hover {background-color: #d4ebff;}#sk-container-id-4 div.sk-parallel-item::after {content: \"\";width: 100%;border-bottom: 1px solid gray;flex-grow: 1;}#sk-container-id-4 div.sk-label:hover label.sk-toggleable__label {background-color: #d4ebff;}#sk-container-id-4 div.sk-serial::before {content: \"\";position: absolute;border-left: 1px solid gray;box-sizing: border-box;top: 0;bottom: 0;left: 50%;z-index: 0;}#sk-container-id-4 div.sk-serial {display: flex;flex-direction: column;align-items: center;background-color: white;padding-right: 0.2em;padding-left: 0.2em;position: relative;}#sk-container-id-4 div.sk-item {position: relative;z-index: 1;}#sk-container-id-4 div.sk-parallel {display: flex;align-items: stretch;justify-content: center;background-color: white;position: relative;}#sk-container-id-4 div.sk-item::before, #sk-container-id-4 div.sk-parallel-item::before {content: \"\";position: absolute;border-left: 1px solid gray;box-sizing: border-box;top: 0;bottom: 0;left: 50%;z-index: -1;}#sk-container-id-4 div.sk-parallel-item {display: flex;flex-direction: column;z-index: 1;position: relative;background-color: white;}#sk-container-id-4 div.sk-parallel-item:first-child::after {align-self: flex-end;width: 50%;}#sk-container-id-4 div.sk-parallel-item:last-child::after {align-self: flex-start;width: 50%;}#sk-container-id-4 div.sk-parallel-item:only-child::after {width: 0;}#sk-container-id-4 div.sk-dashed-wrapped {border: 1px dashed gray;margin: 0 0.4em 0.5em 0.4em;box-sizing: border-box;padding-bottom: 0.4em;background-color: white;}#sk-container-id-4 div.sk-label label {font-family: monospace;font-weight: bold;display: inline-block;line-height: 1.2em;}#sk-container-id-4 div.sk-label-container {text-align: center;}#sk-container-id-4 div.sk-container {/* jupyter's `normalize.less` sets `[hidden] { display: none; }` but bootstrap.min.css set `[hidden] { display: none !important; }` so we also need the `!important` here to be able to override the default hidden behavior on the sphinx rendered scikit-learn.org. See: https://github.com/scikit-learn/scikit-learn/issues/21755 */display: inline-block !important;position: relative;}#sk-container-id-4 div.sk-text-repr-fallback {display: none;}</style><div id=\"sk-container-id-4\" class=\"sk-top-container\"><div class=\"sk-text-repr-fallback\"><pre>XGBClassifier(base_score=None, booster=None, callbacks=None,\n",
              "              colsample_bylevel=None, colsample_bynode=None,\n",
              "              colsample_bytree=None, early_stopping_rounds=None,\n",
              "              enable_categorical=False, eval_metric=None, feature_types=None,\n",
              "              gamma=None, gpu_id=None, grow_policy=None, importance_type=None,\n",
              "              interaction_constraints=None, learning_rate=None, max_bin=None,\n",
              "              max_cat_threshold=None, max_cat_to_onehot=None,\n",
              "              max_delta_step=None, max_depth=None, max_leaves=None,\n",
              "              min_child_weight=None, missing=nan, monotone_constraints=None,\n",
              "              n_estimators=100, n_jobs=None, num_parallel_tree=None,\n",
              "              predictor=None, random_state=42, ...)</pre><b>In a Jupyter environment, please rerun this cell to show the HTML representation or trust the notebook. <br />On GitHub, the HTML representation is unable to render, please try loading this page with nbviewer.org.</b></div><div class=\"sk-container\" hidden><div class=\"sk-item\"><div class=\"sk-estimator sk-toggleable\"><input class=\"sk-toggleable__control sk-hidden--visually\" id=\"sk-estimator-id-4\" type=\"checkbox\" checked><label for=\"sk-estimator-id-4\" class=\"sk-toggleable__label sk-toggleable__label-arrow\">XGBClassifier</label><div class=\"sk-toggleable__content\"><pre>XGBClassifier(base_score=None, booster=None, callbacks=None,\n",
              "              colsample_bylevel=None, colsample_bynode=None,\n",
              "              colsample_bytree=None, early_stopping_rounds=None,\n",
              "              enable_categorical=False, eval_metric=None, feature_types=None,\n",
              "              gamma=None, gpu_id=None, grow_policy=None, importance_type=None,\n",
              "              interaction_constraints=None, learning_rate=None, max_bin=None,\n",
              "              max_cat_threshold=None, max_cat_to_onehot=None,\n",
              "              max_delta_step=None, max_depth=None, max_leaves=None,\n",
              "              min_child_weight=None, missing=nan, monotone_constraints=None,\n",
              "              n_estimators=100, n_jobs=None, num_parallel_tree=None,\n",
              "              predictor=None, random_state=42, ...)</pre></div></div></div></div></div>"
            ]
          },
          "metadata": {},
          "execution_count": 76
        }
      ]
    },
    {
      "cell_type": "code",
      "source": [
        "y_pred = model.predict(X_test)\n",
        "\n",
        "accuracy = accuracy_score(y_test, y_pred)\n",
        "print(\"Accuracy:\", accuracy)"
      ],
      "metadata": {
        "colab": {
          "base_uri": "https://localhost:8080/"
        },
        "id": "g2ic97Olr38d",
        "outputId": "40fcbf46-e1cd-4488-a056-774a269fe957"
      },
      "execution_count": null,
      "outputs": [
        {
          "output_type": "stream",
          "name": "stdout",
          "text": [
            "Accuracy: 0.8145555555555556\n"
          ]
        }
      ]
    },
    {
      "cell_type": "code",
      "source": [],
      "metadata": {
        "id": "-97Vlz82r-3M"
      },
      "execution_count": null,
      "outputs": []
    }
  ],
  "metadata": {
    "kernelspec": {
      "display_name": "Python",
      "language": "python",
      "name": "conda-env-python-py"
    },
    "language_info": {
      "codemirror_mode": {
        "name": "ipython",
        "version": 3
      },
      "file_extension": ".py",
      "mimetype": "text/x-python",
      "name": "python",
      "nbconvert_exporter": "python",
      "pygments_lexer": "ipython3",
      "version": "3.6.12"
    },
    "colab": {
      "provenance": [],
      "include_colab_link": true
    }
  },
  "nbformat": 4,
  "nbformat_minor": 0
}